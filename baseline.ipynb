{
 "cells": [
  {
   "cell_type": "markdown",
   "source": [
    "## Результаты\n",
    "| Model                    | P@5    |\n",
    "|--------------------------|--------|\n",
    "| Random                   | 0.0093 |\n",
    "| Catboost                 | 0.1057 |\n",
    "| Catboost + fe            | 0.1026 |\n",
    "| Catboost + add_data      | 0.1091 |\n",
    "| Catboost + add_data + fe | 0.1015 |\n"
   ],
   "metadata": {
    "collapsed": false,
    "pycharm": {
     "name": "#%% md\n"
    }
   }
  },
  {
   "cell_type": "code",
   "execution_count": 1,
   "metadata": {
    "collapsed": true,
    "pycharm": {
     "name": "#%%\n"
    }
   },
   "outputs": [],
   "source": [
    "import os\n",
    "import random\n",
    "\n",
    "import pandas as pd\n",
    "import numpy as np\n",
    "import matplotlib.pyplot as plt\n",
    "\n",
    "from catboost import CatBoostClassifier"
   ]
  },
  {
   "cell_type": "code",
   "execution_count": 2,
   "outputs": [],
   "source": [
    "def fix_seed(seed_value):\n",
    "    os.environ['PYTHONHASHSEED']=str(seed_value)\n",
    "    random.seed(seed_value)\n",
    "    np.random.seed(seed_value)\n",
    "\n",
    "seed_value = 7575\n",
    "fix_seed(seed_value)"
   ],
   "metadata": {
    "collapsed": false,
    "pycharm": {
     "name": "#%%\n"
    }
   }
  },
  {
   "cell_type": "code",
   "execution_count": 116,
   "outputs": [],
   "source": [
    "# class Pipeline:\n",
    "#     def __init__(self, train_path, val_path, test_path=None, data_loader=None, data_prep=None, model=None, **kwargs):\n",
    "#         \"\"\"\n",
    "#\n",
    "#         :param train_path:\n",
    "#         :param val_path:\n",
    "#         :param test_path:\n",
    "#         :param data_loader: implements method load\n",
    "#         :param data_prep: implements methods fit transform\n",
    "#         :param model: implements methods fit, predict_proba\n",
    "#         \"\"\"\n",
    "#         if data_loader:\n",
    "#             self.data_loader = data_loader()\n",
    "#         else:\n",
    "#             self.train_df = pd.read_csv(train_path)\n",
    "#             self.val_df = pd.read_csv(val_path)\n",
    "#             if test_path:\n",
    "#                 self.test_df = pd.read_csv(test_path)\n",
    "#\n",
    "#         self.data_prep = data_prep()\n",
    "#         self.model = model(**kwargs)\n",
    "#\n",
    "#     def fit(self, **fit_params):\n",
    "#         train_df\n",
    "\n",
    "\n",
    "# train_df = pd.read_csv('data/train_catugra.csv', sep=',',  index_col=0)\n",
    "# val_df = pd.read_csv('data/test_catugra.csv', sep=',', index_col=0)"
   ],
   "metadata": {
    "collapsed": false,
    "pycharm": {
     "name": "#%%\n"
    }
   }
  },
  {
   "cell_type": "markdown",
   "source": [
    "## Оценка сырых данных"
   ],
   "metadata": {
    "collapsed": false,
    "pycharm": {
     "name": "#%% md\n"
    }
   }
  },
  {
   "cell_type": "code",
   "execution_count": 16,
   "outputs": [],
   "source": [
    "train_df = pd.read_csv('data/train.csv', sep=';')\n",
    "val_df = pd.read_csv('data/test.csv', sep=';')"
   ],
   "metadata": {
    "collapsed": false,
    "pycharm": {
     "name": "#%%\n"
    }
   }
  },
  {
   "cell_type": "code",
   "execution_count": 119,
   "outputs": [
    {
     "name": "stderr",
     "output_type": "stream",
     "text": [
      "C:\\Users\\Alexandr\\AppData\\Local\\Temp\\ipykernel_18664\\1744417879.py:10: SettingWithCopyWarning: \n",
      "A value is trying to be set on a copy of a slice from a DataFrame.\n",
      "Try using .loc[row_indexer,col_indexer] = value instead\n",
      "\n",
      "See the caveats in the documentation: https://pandas.pydata.org/pandas-docs/stable/user_guide/indexing.html#returning-a-view-versus-a-copy\n",
      "  label_val_df['pred'] = preds\n"
     ]
    },
    {
     "data": {
      "text/plain": "(0.009347996857816182,\n [0.008771929824561403,\n  0.00968840010473946,\n  0.010081173081958628,\n  0.008379156847342237,\n  0.009819324430479183])"
     },
     "execution_count": 119,
     "metadata": {},
     "output_type": "execute_result"
    }
   ],
   "source": [
    "# random modeling\n",
    "N = 5\n",
    "top5p = int(val_df.shape[0] * 0.05)\n",
    "random_res = []\n",
    "\n",
    "label_val_df = val_df[['label']]\n",
    "\n",
    "for i in range(N):\n",
    "    preds = label_val_df.label.sample(val_df.shape[0]).reset_index(drop=True)\n",
    "    label_val_df['pred'] = preds\n",
    "    random_res.append(label_val_df.sort_values('pred', ascending=False).iloc[:top5p].label.sum()/top5p)\n",
    "\n",
    "np.mean(random_res), random_res"
   ],
   "metadata": {
    "collapsed": false,
    "pycharm": {
     "name": "#%%\n"
    }
   }
  },
  {
   "cell_type": "code",
   "execution_count": 120,
   "outputs": [
    {
     "name": "stdout",
     "output_type": "stream",
     "text": [
      "Learning rate set to 0.02466\n",
      "0:\tlearn: 0.6470023\ttotal: 361ms\tremaining: 6m\n",
      "200:\tlearn: 0.0918462\ttotal: 29.8s\tremaining: 1m 58s\n",
      "400:\tlearn: 0.0897373\ttotal: 54.2s\tremaining: 1m 20s\n",
      "600:\tlearn: 0.0884431\ttotal: 1m 44s\tremaining: 1m 9s\n",
      "800:\tlearn: 0.0874101\ttotal: 2m 22s\tremaining: 35.5s\n",
      "999:\tlearn: 0.0865075\ttotal: 3m 3s\tremaining: 0us\n"
     ]
    },
    {
     "name": "stderr",
     "output_type": "stream",
     "text": [
      "C:\\Users\\Alexandr\\AppData\\Local\\Temp\\ipykernel_18664\\3371511455.py:13: SettingWithCopyWarning: \n",
      "A value is trying to be set on a copy of a slice from a DataFrame.\n",
      "Try using .loc[row_indexer,col_indexer] = value instead\n",
      "\n",
      "See the caveats in the documentation: https://pandas.pydata.org/pandas-docs/stable/user_guide/indexing.html#returning-a-view-versus-a-copy\n",
      "  label_val_df['pred'] = preds\n"
     ]
    },
    {
     "data": {
      "text/plain": "0.10578685519769573"
     },
     "execution_count": 120,
     "metadata": {},
     "output_type": "execute_result"
    }
   ],
   "source": [
    "## Simple modeling\n",
    "\n",
    "cat_cols = train_df.select_dtypes(include=['object']).columns.values\n",
    "train_df[cat_cols] = train_df[cat_cols].fillna('NaN')\n",
    "val_df[cat_cols] = val_df[cat_cols].fillna('NaN')\n",
    "\n",
    "\n",
    "ctb = CatBoostClassifier(verbose=200, task_type='GPU', random_seed=seed_value)\n",
    "ctb.fit(train_df.drop('label', axis=1), train_df.label, cat_features=cat_cols)\n",
    "label_val_df = val_df[['label']]\n",
    "\n",
    "preds = ctb.predict_proba(val_df.drop('label', axis=1))[:,1]\n",
    "label_val_df['pred'] = preds\n",
    "\n",
    "top5p = int(label_val_df.shape[0] * 0.05)\n",
    "res_response = label_val_df.sort_values('pred', ascending=False).iloc[:top5p].label.sum()/top5p\n",
    "res_response"
   ],
   "metadata": {
    "collapsed": false,
    "pycharm": {
     "name": "#%%\n"
    }
   }
  },
  {
   "cell_type": "markdown",
   "source": [
    "# Data Preparation"
   ],
   "metadata": {
    "collapsed": false,
    "pycharm": {
     "name": "#%% md\n"
    }
   }
  },
  {
   "cell_type": "code",
   "execution_count": 36,
   "outputs": [],
   "source": [
    "def add_agg_features(df):\n",
    "    df = df.copy()\n",
    "    subj_feat = df[['subject_name'] + [f'f{i}' for i in range(1, 31)]].\\\n",
    "        groupby('subject_name').\\\n",
    "        agg({f\"f{i}\":[min, max, np.mean, np.std, sum, np.median, pd.Series.skew, pd.Series.kurtosis] for i in range(1,31)})\n",
    "\n",
    "    features_names_subject = np.array([col + '_subject_' + stat for col in [f'f{i}' for i in range(1, 31)]\n",
    "                                       for stat in ['min', 'max', 'mean', 'std','sum', 'median', 'skew', 'kurtosis']]).flatten().tolist()\n",
    "\n",
    "    # city_feat = df[['city_name'] + [f'f{i}' for i in range(1, 31)]].groupby('city_name').agg(\n",
    "    #     {f\"f{i}\": [min, max, np.mean, np.std, sum, np.median, pd.Series.skew, pd.Series.kurtosis] for i in range(1, 31)})\n",
    "    #\n",
    "    # features_city_subject = np.array([col + '_city_' + stat for col in [f'f{i}' for i in range(1, 31)]\n",
    "    #                                    for stat in ['min', 'max', 'mean', 'std', 'sum', 'median', 'skew','kurtosis']]).flatten().tolist()\n",
    "\n",
    "    # subjt_feat = df[['subject_type'] + [f'f{i}' for i in range(1, 31)]].groupby('subject_type').agg(\n",
    "    #     {f\"f{i}\": [min, max, np.mean, np.std, sum, np.median, pd.Series.skew, pd.Series.kurtosis] for i in range(1, 31)})\n",
    "    #\n",
    "    # features_t_subject = np.array([col + '_subjt_' + stat for col in [f'f{i}' for i in range(1, 31)]\n",
    "    #                                   for stat in ['min', 'max', 'mean', 'std', 'sum', 'median', 'skew','kurtosis']]).flatten().tolist()\n",
    "\n",
    "    subj_df = pd.DataFrame(subj_feat.values, columns=features_names_subject)\n",
    "    subj_df['subject_name'] = subj_feat.index\n",
    "\n",
    "    # city_df = pd.DataFrame(city_feat.values, columns=features_city_subject)\n",
    "    # city_df['city_name'] = city_feat.index\n",
    "\n",
    "    # subjt_df = pd.DataFrame(subjt_feat.values, columns=features_t_subject)\n",
    "    # subjt_df['subject_type'] = subjt_feat.index\n",
    "    df = df.merge(subj_df, on='subject_name')#.merge(city_df, on='city_name')#.merge(subjt_df, on='subject_type')\n",
    "    return df"
   ],
   "metadata": {
    "collapsed": false,
    "pycharm": {
     "name": "#%%\n"
    }
   }
  },
  {
   "cell_type": "code",
   "execution_count": 38,
   "outputs": [
    {
     "name": "stdout",
     "output_type": "stream",
     "text": [
      "Learning rate set to 0.02466\n",
      "0:\tlearn: 0.6462937\ttotal: 257ms\tremaining: 4m 16s\n",
      "200:\tlearn: 0.0916607\ttotal: 11.6s\tremaining: 46s\n",
      "400:\tlearn: 0.0892890\ttotal: 24.4s\tremaining: 36.4s\n",
      "600:\tlearn: 0.0878918\ttotal: 40.7s\tremaining: 27s\n",
      "800:\tlearn: 0.0867803\ttotal: 1m 3s\tremaining: 15.8s\n",
      "999:\tlearn: 0.0858101\ttotal: 1m 28s\tremaining: 0us\n"
     ]
    },
    {
     "name": "stderr",
     "output_type": "stream",
     "text": [
      "C:\\Users\\Alexandr\\AppData\\Local\\Temp\\ipykernel_27740\\803111585.py:19: SettingWithCopyWarning: \n",
      "A value is trying to be set on a copy of a slice from a DataFrame.\n",
      "Try using .loc[row_indexer,col_indexer] = value instead\n",
      "\n",
      "See the caveats in the documentation: https://pandas.pydata.org/pandas-docs/stable/user_guide/indexing.html#returning-a-view-versus-a-copy\n",
      "  label_val_df['pred'] = preds\n"
     ]
    },
    {
     "data": {
      "text/plain": "0.1050013092432574"
     },
     "execution_count": 38,
     "metadata": {},
     "output_type": "execute_result"
    }
   ],
   "source": [
    "train_df = pd.read_csv('data/train.csv', sep=';')\n",
    "val_df = pd.read_csv('data/test.csv', sep=';')\n",
    "\n",
    "\n",
    "cat_cols = train_df.select_dtypes(include=['object']).columns.values\n",
    "train_df[cat_cols] = train_df[cat_cols].fillna('NaN')\n",
    "val_df[cat_cols] = val_df[cat_cols].fillna('NaN')\n",
    "\n",
    "# добавляем фич\n",
    "train_df = add_agg_features(train_df)\n",
    "val_df = add_agg_features(val_df)\n",
    "\n",
    "## Simple modeling\n",
    "ctb = CatBoostClassifier(verbose=200, task_type='GPU', random_seed=seed_value)\n",
    "ctb.fit(train_df.drop('label', axis=1), train_df.label, cat_features=cat_cols)\n",
    "label_val_df = val_df[['label']]\n",
    "\n",
    "preds = ctb.predict_proba(val_df.drop('label', axis=1))[:,1]\n",
    "label_val_df['pred'] = preds\n",
    "\n",
    "top5p = int(label_val_df.shape[0] * 0.05)\n",
    "res_response = label_val_df.sort_values('pred', ascending=False).iloc[:top5p].label.sum()/top5p\n",
    "res_response"
   ],
   "metadata": {
    "collapsed": false,
    "pycharm": {
     "name": "#%%\n"
    }
   }
  },
  {
   "cell_type": "code",
   "execution_count": 10,
   "outputs": [
    {
     "name": "stdout",
     "output_type": "stream",
     "text": [
      "Learning rate set to 0.02466\n",
      "0:\tlearn: 0.6459351\ttotal: 228ms\tremaining: 3m 47s\n",
      "200:\tlearn: 0.0917587\ttotal: 18.2s\tremaining: 1m 12s\n",
      "400:\tlearn: 0.0895619\ttotal: 42.9s\tremaining: 1m 4s\n",
      "600:\tlearn: 0.0882322\ttotal: 1m 10s\tremaining: 47s\n",
      "800:\tlearn: 0.0871200\ttotal: 1m 32s\tremaining: 22.9s\n",
      "999:\tlearn: 0.0861629\ttotal: 2m 13s\tremaining: 0us\n"
     ]
    },
    {
     "name": "stderr",
     "output_type": "stream",
     "text": [
      "C:\\Users\\Alexandr\\AppData\\Local\\Temp\\ipykernel_27740\\2365285510.py:16: SettingWithCopyWarning: \n",
      "A value is trying to be set on a copy of a slice from a DataFrame.\n",
      "Try using .loc[row_indexer,col_indexer] = value instead\n",
      "\n",
      "See the caveats in the documentation: https://pandas.pydata.org/pandas-docs/stable/user_guide/indexing.html#returning-a-view-versus-a-copy\n",
      "  label_val_df['pred'] = preds\n"
     ]
    },
    {
     "data": {
      "text/plain": "0.10919088766692851"
     },
     "execution_count": 10,
     "metadata": {},
     "output_type": "execute_result"
    }
   ],
   "source": [
    "# пробуем с данными от кати\n",
    "\n",
    "train_df = pd.read_csv('data/train_catugra.csv', sep=',',  index_col=0)\n",
    "val_df = pd.read_csv('data/test_catugra.csv', sep=',', index_col=0)\n",
    "\n",
    "cat_cols = train_df.select_dtypes(include=['object']).columns.values\n",
    "train_df[cat_cols] = train_df[cat_cols].fillna('NaN')\n",
    "val_df[cat_cols] = val_df[cat_cols].fillna('NaN')\n",
    "\n",
    "\n",
    "ctb = CatBoostClassifier(verbose=200, task_type='GPU', random_seed=seed_value)\n",
    "ctb.fit(train_df.drop('label', axis=1), train_df.label, cat_features=cat_cols)\n",
    "label_val_df = val_df[['label']]\n",
    "\n",
    "preds = ctb.predict_proba(val_df.drop('label', axis=1))[:,1]\n",
    "label_val_df['pred'] = preds\n",
    "\n",
    "top5p = int(label_val_df.shape[0] * 0.05)\n",
    "res_response = label_val_df.sort_values('pred', ascending=False).iloc[:top5p].label.sum()/top5p\n",
    "res_response"
   ],
   "metadata": {
    "collapsed": false,
    "pycharm": {
     "name": "#%%\n"
    }
   }
  },
  {
   "cell_type": "code",
   "execution_count": 11,
   "outputs": [
    {
     "name": "stdout",
     "output_type": "stream",
     "text": [
      "Learning rate set to 0.02466\n",
      "0:\tlearn: 0.6480979\ttotal: 1.65s\tremaining: 27m 30s\n",
      "200:\tlearn: 0.0916542\ttotal: 39.2s\tremaining: 2m 35s\n",
      "400:\tlearn: 0.0894033\ttotal: 1m 22s\tremaining: 2m 3s\n",
      "600:\tlearn: 0.0880655\ttotal: 1m 38s\tremaining: 1m 5s\n",
      "800:\tlearn: 0.0870913\ttotal: 1m 59s\tremaining: 29.7s\n",
      "999:\tlearn: 0.0861618\ttotal: 2m 43s\tremaining: 0us\n"
     ]
    },
    {
     "name": "stderr",
     "output_type": "stream",
     "text": [
      "C:\\Users\\Alexandr\\AppData\\Local\\Temp\\ipykernel_27740\\1350534357.py:9: SettingWithCopyWarning: \n",
      "A value is trying to be set on a copy of a slice from a DataFrame.\n",
      "Try using .loc[row_indexer,col_indexer] = value instead\n",
      "\n",
      "See the caveats in the documentation: https://pandas.pydata.org/pandas-docs/stable/user_guide/indexing.html#returning-a-view-versus-a-copy\n",
      "  label_val_df['pred'] = preds\n"
     ]
    },
    {
     "data": {
      "text/plain": "0.10159727677402461"
     },
     "execution_count": 11,
     "metadata": {},
     "output_type": "execute_result"
    }
   ],
   "source": [
    "train_df = add_agg_features(train_df)\n",
    "val_df = add_agg_features(val_df)\n",
    "\n",
    "ctb = CatBoostClassifier(verbose=200, task_type='GPU', random_seed=seed_value)\n",
    "ctb.fit(train_df.drop('label', axis=1), train_df.label, cat_features=cat_cols)\n",
    "label_val_df = val_df[['label']]\n",
    "\n",
    "preds = ctb.predict_proba(val_df.drop('label', axis=1))[:,1]\n",
    "label_val_df['pred'] = preds\n",
    "\n",
    "top5p = int(label_val_df.shape[0] * 0.05)\n",
    "res_response = label_val_df.sort_values('pred', ascending=False).iloc[:top5p].label.sum()/top5p\n",
    "res_response"
   ],
   "metadata": {
    "collapsed": false,
    "pycharm": {
     "name": "#%%\n"
    }
   }
  },
  {
   "cell_type": "code",
   "execution_count": 31,
   "outputs": [],
   "source": [
    "# пробуем данные сереги и кати\n",
    "\n",
    "train_df = pd.read_csv('data/train_catugra_v2.csv', sep=',')\n",
    "val_df = pd.read_csv('data/test_catugra_v2.csv', sep=',', index_col=0)\n",
    "\n",
    "drop_cols = ['total_cases', 'new_cases']\n",
    "\n",
    "tarif_cols = [\"district\"]\n",
    "\n",
    "\n",
    "def prepare_data(df):\n",
    "    # df = df.drop(drop_cols, axis=1)\n",
    "    # for col in [f'f{i}' for i in range(1,31)]:\n",
    "    #     mask = df[col].isna()\n",
    "    #     df[col][mask] = np.nan\n",
    "    #     df[col] = df[col].fillna(df.groupby(tarif_cols[-1])[col].transform('mean'))\n",
    "    return df\n",
    "\n",
    "train_df = prepare_data(train_df)\n",
    "val_df = prepare_data(val_df)"
   ],
   "metadata": {
    "collapsed": false,
    "pycharm": {
     "name": "#%%\n"
    }
   }
  },
  {
   "cell_type": "code",
   "execution_count": 32,
   "outputs": [
    {
     "data": {
      "text/plain": "        label      period subject_type subject_name city_name  \\\n0           1  2020-11-01        Город       Москва    Москва   \n1           1  2020-11-01        Город       Москва    Москва   \n2           1  2020-11-01        Город       Москва    Москва   \n3           1  2020-11-01        Город       Москва    Москва   \n4           1  2020-11-01        Город       Москва    Москва   \n...       ...         ...          ...          ...       ...   \n152761      0  2021-06-01      Область  Магаданская   Магадан   \n152762      0  2021-06-01      Область  Магаданская   Магадан   \n152763      0  2021-06-01      Область  Магаданская   Магадан   \n152764      0  2021-06-01      Область  Магаданская   Магадан   \n152765      0  2021-06-01      Область  Магаданская   Магадан   \n\n                    hex    hex_lat     hex_lon       f1       f2  ...  \\\n0       8611aa6b7ffffff  55.656639   37.774902  0.00292  0.00211  ...   \n1       8611aa70fffffff  55.879910   37.583383  0.00265  0.00355  ...   \n2       8611aa627ffffff  55.855726   37.669858  0.00046  0.00059  ...   \n3       861181b2fffffff  55.496542   37.542584  0.00304  0.00243  ...   \n4       8611aa4cfffffff  55.613025   37.529612  0.00183  0.00163  ...   \n...                 ...        ...         ...      ...      ...  ...   \n152761  8617142efffffff  59.652400  150.759792  0.00024  0.00042  ...   \n152762  861710967ffffff  59.544997  150.861279  0.00044  0.00044  ...   \n152763  861710967ffffff  59.544997  150.861279  0.00023  0.00106  ...   \n152764  861710967ffffff  59.544997  150.861279  0.00022  0.00020  ...   \n152765  861710967ffffff  59.544997  150.861279  0.00164  0.00287  ...   \n\n        rural_district  services_district  communication_district  \\\n0                 17.6               28.7                     3.3   \n1                 17.6               28.7                     3.3   \n2                 17.6               28.7                     3.3   \n3                 17.6               28.7                     3.3   \n4                 17.6               28.7                     3.3   \n...                ...                ...                     ...   \n152761            27.0               25.5                     3.7   \n152762            27.0               25.5                     3.7   \n152763            27.0               25.5                     3.7   \n152764            27.0               25.5                     3.7   \n152765            27.0               25.5                     3.7   \n\n        customer_district  mobile_customer_district  mobile_th_district  \\\n0                    27.9                     110.7             44834.4   \n1                    27.9                     110.7             44834.4   \n2                    27.9                     110.7             44834.4   \n3                    27.9                     110.7             44834.4   \n4                    27.9                     110.7             44834.4   \n...                   ...                       ...                 ...   \n152761               19.0                      98.7              8184.0   \n152762               19.0                      98.7              8184.0   \n152763               19.0                      98.7              8184.0   \n152764               19.0                      98.7              8184.0   \n152765               19.0                      98.7              8184.0   \n\n        pc_district  inter_district  good_inter_district  amount_inf_district  \n0              76.2            81.7                 79.6              18037.9  \n1              76.2            81.7                 79.6              18037.9  \n2              76.2            81.7                 79.6              18037.9  \n3              76.2            81.7                 79.6              18037.9  \n4              76.2            81.7                 79.6              18037.9  \n...             ...             ...                  ...                  ...  \n152761         67.3            81.3                 75.7               3681.0  \n152762         67.3            81.3                 75.7               3681.0  \n152763         67.3            81.3                 75.7               3681.0  \n152764         67.3            81.3                 75.7               3681.0  \n152765         67.3            81.3                 75.7               3681.0  \n\n[152766 rows x 65 columns]",
      "text/html": "<div>\n<style scoped>\n    .dataframe tbody tr th:only-of-type {\n        vertical-align: middle;\n    }\n\n    .dataframe tbody tr th {\n        vertical-align: top;\n    }\n\n    .dataframe thead th {\n        text-align: right;\n    }\n</style>\n<table border=\"1\" class=\"dataframe\">\n  <thead>\n    <tr style=\"text-align: right;\">\n      <th></th>\n      <th>label</th>\n      <th>period</th>\n      <th>subject_type</th>\n      <th>subject_name</th>\n      <th>city_name</th>\n      <th>hex</th>\n      <th>hex_lat</th>\n      <th>hex_lon</th>\n      <th>f1</th>\n      <th>f2</th>\n      <th>...</th>\n      <th>rural_district</th>\n      <th>services_district</th>\n      <th>communication_district</th>\n      <th>customer_district</th>\n      <th>mobile_customer_district</th>\n      <th>mobile_th_district</th>\n      <th>pc_district</th>\n      <th>inter_district</th>\n      <th>good_inter_district</th>\n      <th>amount_inf_district</th>\n    </tr>\n  </thead>\n  <tbody>\n    <tr>\n      <th>0</th>\n      <td>1</td>\n      <td>2020-11-01</td>\n      <td>Город</td>\n      <td>Москва</td>\n      <td>Москва</td>\n      <td>8611aa6b7ffffff</td>\n      <td>55.656639</td>\n      <td>37.774902</td>\n      <td>0.00292</td>\n      <td>0.00211</td>\n      <td>...</td>\n      <td>17.6</td>\n      <td>28.7</td>\n      <td>3.3</td>\n      <td>27.9</td>\n      <td>110.7</td>\n      <td>44834.4</td>\n      <td>76.2</td>\n      <td>81.7</td>\n      <td>79.6</td>\n      <td>18037.9</td>\n    </tr>\n    <tr>\n      <th>1</th>\n      <td>1</td>\n      <td>2020-11-01</td>\n      <td>Город</td>\n      <td>Москва</td>\n      <td>Москва</td>\n      <td>8611aa70fffffff</td>\n      <td>55.879910</td>\n      <td>37.583383</td>\n      <td>0.00265</td>\n      <td>0.00355</td>\n      <td>...</td>\n      <td>17.6</td>\n      <td>28.7</td>\n      <td>3.3</td>\n      <td>27.9</td>\n      <td>110.7</td>\n      <td>44834.4</td>\n      <td>76.2</td>\n      <td>81.7</td>\n      <td>79.6</td>\n      <td>18037.9</td>\n    </tr>\n    <tr>\n      <th>2</th>\n      <td>1</td>\n      <td>2020-11-01</td>\n      <td>Город</td>\n      <td>Москва</td>\n      <td>Москва</td>\n      <td>8611aa627ffffff</td>\n      <td>55.855726</td>\n      <td>37.669858</td>\n      <td>0.00046</td>\n      <td>0.00059</td>\n      <td>...</td>\n      <td>17.6</td>\n      <td>28.7</td>\n      <td>3.3</td>\n      <td>27.9</td>\n      <td>110.7</td>\n      <td>44834.4</td>\n      <td>76.2</td>\n      <td>81.7</td>\n      <td>79.6</td>\n      <td>18037.9</td>\n    </tr>\n    <tr>\n      <th>3</th>\n      <td>1</td>\n      <td>2020-11-01</td>\n      <td>Город</td>\n      <td>Москва</td>\n      <td>Москва</td>\n      <td>861181b2fffffff</td>\n      <td>55.496542</td>\n      <td>37.542584</td>\n      <td>0.00304</td>\n      <td>0.00243</td>\n      <td>...</td>\n      <td>17.6</td>\n      <td>28.7</td>\n      <td>3.3</td>\n      <td>27.9</td>\n      <td>110.7</td>\n      <td>44834.4</td>\n      <td>76.2</td>\n      <td>81.7</td>\n      <td>79.6</td>\n      <td>18037.9</td>\n    </tr>\n    <tr>\n      <th>4</th>\n      <td>1</td>\n      <td>2020-11-01</td>\n      <td>Город</td>\n      <td>Москва</td>\n      <td>Москва</td>\n      <td>8611aa4cfffffff</td>\n      <td>55.613025</td>\n      <td>37.529612</td>\n      <td>0.00183</td>\n      <td>0.00163</td>\n      <td>...</td>\n      <td>17.6</td>\n      <td>28.7</td>\n      <td>3.3</td>\n      <td>27.9</td>\n      <td>110.7</td>\n      <td>44834.4</td>\n      <td>76.2</td>\n      <td>81.7</td>\n      <td>79.6</td>\n      <td>18037.9</td>\n    </tr>\n    <tr>\n      <th>...</th>\n      <td>...</td>\n      <td>...</td>\n      <td>...</td>\n      <td>...</td>\n      <td>...</td>\n      <td>...</td>\n      <td>...</td>\n      <td>...</td>\n      <td>...</td>\n      <td>...</td>\n      <td>...</td>\n      <td>...</td>\n      <td>...</td>\n      <td>...</td>\n      <td>...</td>\n      <td>...</td>\n      <td>...</td>\n      <td>...</td>\n      <td>...</td>\n      <td>...</td>\n      <td>...</td>\n    </tr>\n    <tr>\n      <th>152761</th>\n      <td>0</td>\n      <td>2021-06-01</td>\n      <td>Область</td>\n      <td>Магаданская</td>\n      <td>Магадан</td>\n      <td>8617142efffffff</td>\n      <td>59.652400</td>\n      <td>150.759792</td>\n      <td>0.00024</td>\n      <td>0.00042</td>\n      <td>...</td>\n      <td>27.0</td>\n      <td>25.5</td>\n      <td>3.7</td>\n      <td>19.0</td>\n      <td>98.7</td>\n      <td>8184.0</td>\n      <td>67.3</td>\n      <td>81.3</td>\n      <td>75.7</td>\n      <td>3681.0</td>\n    </tr>\n    <tr>\n      <th>152762</th>\n      <td>0</td>\n      <td>2021-06-01</td>\n      <td>Область</td>\n      <td>Магаданская</td>\n      <td>Магадан</td>\n      <td>861710967ffffff</td>\n      <td>59.544997</td>\n      <td>150.861279</td>\n      <td>0.00044</td>\n      <td>0.00044</td>\n      <td>...</td>\n      <td>27.0</td>\n      <td>25.5</td>\n      <td>3.7</td>\n      <td>19.0</td>\n      <td>98.7</td>\n      <td>8184.0</td>\n      <td>67.3</td>\n      <td>81.3</td>\n      <td>75.7</td>\n      <td>3681.0</td>\n    </tr>\n    <tr>\n      <th>152763</th>\n      <td>0</td>\n      <td>2021-06-01</td>\n      <td>Область</td>\n      <td>Магаданская</td>\n      <td>Магадан</td>\n      <td>861710967ffffff</td>\n      <td>59.544997</td>\n      <td>150.861279</td>\n      <td>0.00023</td>\n      <td>0.00106</td>\n      <td>...</td>\n      <td>27.0</td>\n      <td>25.5</td>\n      <td>3.7</td>\n      <td>19.0</td>\n      <td>98.7</td>\n      <td>8184.0</td>\n      <td>67.3</td>\n      <td>81.3</td>\n      <td>75.7</td>\n      <td>3681.0</td>\n    </tr>\n    <tr>\n      <th>152764</th>\n      <td>0</td>\n      <td>2021-06-01</td>\n      <td>Область</td>\n      <td>Магаданская</td>\n      <td>Магадан</td>\n      <td>861710967ffffff</td>\n      <td>59.544997</td>\n      <td>150.861279</td>\n      <td>0.00022</td>\n      <td>0.00020</td>\n      <td>...</td>\n      <td>27.0</td>\n      <td>25.5</td>\n      <td>3.7</td>\n      <td>19.0</td>\n      <td>98.7</td>\n      <td>8184.0</td>\n      <td>67.3</td>\n      <td>81.3</td>\n      <td>75.7</td>\n      <td>3681.0</td>\n    </tr>\n    <tr>\n      <th>152765</th>\n      <td>0</td>\n      <td>2021-06-01</td>\n      <td>Область</td>\n      <td>Магаданская</td>\n      <td>Магадан</td>\n      <td>861710967ffffff</td>\n      <td>59.544997</td>\n      <td>150.861279</td>\n      <td>0.00164</td>\n      <td>0.00287</td>\n      <td>...</td>\n      <td>27.0</td>\n      <td>25.5</td>\n      <td>3.7</td>\n      <td>19.0</td>\n      <td>98.7</td>\n      <td>8184.0</td>\n      <td>67.3</td>\n      <td>81.3</td>\n      <td>75.7</td>\n      <td>3681.0</td>\n    </tr>\n  </tbody>\n</table>\n<p>152766 rows × 65 columns</p>\n</div>"
     },
     "execution_count": 32,
     "metadata": {},
     "output_type": "execute_result"
    }
   ],
   "source": [
    "val_df"
   ],
   "metadata": {
    "collapsed": false,
    "pycharm": {
     "name": "#%%\n"
    }
   }
  },
  {
   "cell_type": "code",
   "execution_count": 33,
   "outputs": [
    {
     "data": {
      "text/plain": "        label      period      subject_type subject_name city_name  \\\n0           1  2020-05-01             Город       Москва    Москва   \n1           1  2020-05-01             Город       Москва    Москва   \n2           1  2020-05-01             Город       Москва    Москва   \n3           1  2020-05-01             Город       Москва    Москва   \n4           1  2020-05-01             Город       Москва    Москва   \n...       ...         ...               ...          ...       ...   \n294253      0  2020-12-01           Область  Магаданская       Ола   \n294254      0  2020-12-01           Область  Магаданская   Ягодное   \n294255      0  2020-12-01           Область  Магаданская   Магадан   \n294256      0  2020-12-01  Автономный Округ    Чукотский     Певек   \n294257      0  2020-12-01  Автономный Округ    Чукотский     Певек   \n\n                    hex    hex_lat     hex_lon       f1       f2  ...  \\\n0       8611aa7a7ffffff  55.729458   37.516569  0.00101  0.00103  ...   \n1       8611aa01fffffff  55.975851   37.237085  0.00000  0.00027  ...   \n2       861181b6fffffff  55.622721   37.695121  0.00339  0.00313  ...   \n3       8611aa017ffffff  55.941586   37.157487  0.00048  0.00054  ...   \n4       8611aa637ffffff  55.797494   37.676200  0.00164  0.00179  ...   \n...                 ...        ...         ...      ...      ...  ...   \n294253  8617154afffffff  59.577462  151.294079  0.00045  0.00046  ...   \n294254  861735767ffffff  62.514463  149.591693  0.00048  0.00048  ...   \n294255  8617142cfffffff  59.598694  150.810630      NaN      NaN  ...   \n294256  8604ebc5fffffff  69.703205  170.185894  0.00001  0.00002  ...   \n294257  8604eb1a7ffffff  69.678273  170.350467  0.00001  0.00001  ...   \n\n        rural_district  services_district  communication_district  \\\n0                 17.6               28.7                     3.3   \n1                 17.6               28.7                     3.3   \n2                 17.6               28.7                     3.3   \n3                 17.6               28.7                     3.3   \n4                 17.6               28.7                     3.3   \n...                ...                ...                     ...   \n294253            27.0               25.5                     3.7   \n294254            27.0               25.5                     3.7   \n294255            27.0               25.5                     3.7   \n294256            27.0               25.5                     3.7   \n294257            27.0               25.5                     3.7   \n\n        customer_district  mobile_customer_district  mobile_th_district  \\\n0                    27.9                     110.7             44834.4   \n1                    27.9                     110.7             44834.4   \n2                    27.9                     110.7             44834.4   \n3                    27.9                     110.7             44834.4   \n4                    27.9                     110.7             44834.4   \n...                   ...                       ...                 ...   \n294253               19.0                      98.7              8184.0   \n294254               19.0                      98.7              8184.0   \n294255               19.0                      98.7              8184.0   \n294256               19.0                      98.7              8184.0   \n294257               19.0                      98.7              8184.0   \n\n        pc_district  inter_district  good_inter_district  amount_inf_district  \n0              76.2            81.7                 79.6              18037.9  \n1              76.2            81.7                 79.6              18037.9  \n2              76.2            81.7                 79.6              18037.9  \n3              76.2            81.7                 79.6              18037.9  \n4              76.2            81.7                 79.6              18037.9  \n...             ...             ...                  ...                  ...  \n294253         67.3            81.3                 75.7               3681.0  \n294254         67.3            81.3                 75.7               3681.0  \n294255         67.3            81.3                 75.7               3681.0  \n294256         67.3            81.3                 75.7               3681.0  \n294257         67.3            81.3                 75.7               3681.0  \n\n[294258 rows x 65 columns]",
      "text/html": "<div>\n<style scoped>\n    .dataframe tbody tr th:only-of-type {\n        vertical-align: middle;\n    }\n\n    .dataframe tbody tr th {\n        vertical-align: top;\n    }\n\n    .dataframe thead th {\n        text-align: right;\n    }\n</style>\n<table border=\"1\" class=\"dataframe\">\n  <thead>\n    <tr style=\"text-align: right;\">\n      <th></th>\n      <th>label</th>\n      <th>period</th>\n      <th>subject_type</th>\n      <th>subject_name</th>\n      <th>city_name</th>\n      <th>hex</th>\n      <th>hex_lat</th>\n      <th>hex_lon</th>\n      <th>f1</th>\n      <th>f2</th>\n      <th>...</th>\n      <th>rural_district</th>\n      <th>services_district</th>\n      <th>communication_district</th>\n      <th>customer_district</th>\n      <th>mobile_customer_district</th>\n      <th>mobile_th_district</th>\n      <th>pc_district</th>\n      <th>inter_district</th>\n      <th>good_inter_district</th>\n      <th>amount_inf_district</th>\n    </tr>\n  </thead>\n  <tbody>\n    <tr>\n      <th>0</th>\n      <td>1</td>\n      <td>2020-05-01</td>\n      <td>Город</td>\n      <td>Москва</td>\n      <td>Москва</td>\n      <td>8611aa7a7ffffff</td>\n      <td>55.729458</td>\n      <td>37.516569</td>\n      <td>0.00101</td>\n      <td>0.00103</td>\n      <td>...</td>\n      <td>17.6</td>\n      <td>28.7</td>\n      <td>3.3</td>\n      <td>27.9</td>\n      <td>110.7</td>\n      <td>44834.4</td>\n      <td>76.2</td>\n      <td>81.7</td>\n      <td>79.6</td>\n      <td>18037.9</td>\n    </tr>\n    <tr>\n      <th>1</th>\n      <td>1</td>\n      <td>2020-05-01</td>\n      <td>Город</td>\n      <td>Москва</td>\n      <td>Москва</td>\n      <td>8611aa01fffffff</td>\n      <td>55.975851</td>\n      <td>37.237085</td>\n      <td>0.00000</td>\n      <td>0.00027</td>\n      <td>...</td>\n      <td>17.6</td>\n      <td>28.7</td>\n      <td>3.3</td>\n      <td>27.9</td>\n      <td>110.7</td>\n      <td>44834.4</td>\n      <td>76.2</td>\n      <td>81.7</td>\n      <td>79.6</td>\n      <td>18037.9</td>\n    </tr>\n    <tr>\n      <th>2</th>\n      <td>1</td>\n      <td>2020-05-01</td>\n      <td>Город</td>\n      <td>Москва</td>\n      <td>Москва</td>\n      <td>861181b6fffffff</td>\n      <td>55.622721</td>\n      <td>37.695121</td>\n      <td>0.00339</td>\n      <td>0.00313</td>\n      <td>...</td>\n      <td>17.6</td>\n      <td>28.7</td>\n      <td>3.3</td>\n      <td>27.9</td>\n      <td>110.7</td>\n      <td>44834.4</td>\n      <td>76.2</td>\n      <td>81.7</td>\n      <td>79.6</td>\n      <td>18037.9</td>\n    </tr>\n    <tr>\n      <th>3</th>\n      <td>1</td>\n      <td>2020-05-01</td>\n      <td>Город</td>\n      <td>Москва</td>\n      <td>Москва</td>\n      <td>8611aa017ffffff</td>\n      <td>55.941586</td>\n      <td>37.157487</td>\n      <td>0.00048</td>\n      <td>0.00054</td>\n      <td>...</td>\n      <td>17.6</td>\n      <td>28.7</td>\n      <td>3.3</td>\n      <td>27.9</td>\n      <td>110.7</td>\n      <td>44834.4</td>\n      <td>76.2</td>\n      <td>81.7</td>\n      <td>79.6</td>\n      <td>18037.9</td>\n    </tr>\n    <tr>\n      <th>4</th>\n      <td>1</td>\n      <td>2020-05-01</td>\n      <td>Город</td>\n      <td>Москва</td>\n      <td>Москва</td>\n      <td>8611aa637ffffff</td>\n      <td>55.797494</td>\n      <td>37.676200</td>\n      <td>0.00164</td>\n      <td>0.00179</td>\n      <td>...</td>\n      <td>17.6</td>\n      <td>28.7</td>\n      <td>3.3</td>\n      <td>27.9</td>\n      <td>110.7</td>\n      <td>44834.4</td>\n      <td>76.2</td>\n      <td>81.7</td>\n      <td>79.6</td>\n      <td>18037.9</td>\n    </tr>\n    <tr>\n      <th>...</th>\n      <td>...</td>\n      <td>...</td>\n      <td>...</td>\n      <td>...</td>\n      <td>...</td>\n      <td>...</td>\n      <td>...</td>\n      <td>...</td>\n      <td>...</td>\n      <td>...</td>\n      <td>...</td>\n      <td>...</td>\n      <td>...</td>\n      <td>...</td>\n      <td>...</td>\n      <td>...</td>\n      <td>...</td>\n      <td>...</td>\n      <td>...</td>\n      <td>...</td>\n      <td>...</td>\n    </tr>\n    <tr>\n      <th>294253</th>\n      <td>0</td>\n      <td>2020-12-01</td>\n      <td>Область</td>\n      <td>Магаданская</td>\n      <td>Ола</td>\n      <td>8617154afffffff</td>\n      <td>59.577462</td>\n      <td>151.294079</td>\n      <td>0.00045</td>\n      <td>0.00046</td>\n      <td>...</td>\n      <td>27.0</td>\n      <td>25.5</td>\n      <td>3.7</td>\n      <td>19.0</td>\n      <td>98.7</td>\n      <td>8184.0</td>\n      <td>67.3</td>\n      <td>81.3</td>\n      <td>75.7</td>\n      <td>3681.0</td>\n    </tr>\n    <tr>\n      <th>294254</th>\n      <td>0</td>\n      <td>2020-12-01</td>\n      <td>Область</td>\n      <td>Магаданская</td>\n      <td>Ягодное</td>\n      <td>861735767ffffff</td>\n      <td>62.514463</td>\n      <td>149.591693</td>\n      <td>0.00048</td>\n      <td>0.00048</td>\n      <td>...</td>\n      <td>27.0</td>\n      <td>25.5</td>\n      <td>3.7</td>\n      <td>19.0</td>\n      <td>98.7</td>\n      <td>8184.0</td>\n      <td>67.3</td>\n      <td>81.3</td>\n      <td>75.7</td>\n      <td>3681.0</td>\n    </tr>\n    <tr>\n      <th>294255</th>\n      <td>0</td>\n      <td>2020-12-01</td>\n      <td>Область</td>\n      <td>Магаданская</td>\n      <td>Магадан</td>\n      <td>8617142cfffffff</td>\n      <td>59.598694</td>\n      <td>150.810630</td>\n      <td>NaN</td>\n      <td>NaN</td>\n      <td>...</td>\n      <td>27.0</td>\n      <td>25.5</td>\n      <td>3.7</td>\n      <td>19.0</td>\n      <td>98.7</td>\n      <td>8184.0</td>\n      <td>67.3</td>\n      <td>81.3</td>\n      <td>75.7</td>\n      <td>3681.0</td>\n    </tr>\n    <tr>\n      <th>294256</th>\n      <td>0</td>\n      <td>2020-12-01</td>\n      <td>Автономный Округ</td>\n      <td>Чукотский</td>\n      <td>Певек</td>\n      <td>8604ebc5fffffff</td>\n      <td>69.703205</td>\n      <td>170.185894</td>\n      <td>0.00001</td>\n      <td>0.00002</td>\n      <td>...</td>\n      <td>27.0</td>\n      <td>25.5</td>\n      <td>3.7</td>\n      <td>19.0</td>\n      <td>98.7</td>\n      <td>8184.0</td>\n      <td>67.3</td>\n      <td>81.3</td>\n      <td>75.7</td>\n      <td>3681.0</td>\n    </tr>\n    <tr>\n      <th>294257</th>\n      <td>0</td>\n      <td>2020-12-01</td>\n      <td>Автономный Округ</td>\n      <td>Чукотский</td>\n      <td>Певек</td>\n      <td>8604eb1a7ffffff</td>\n      <td>69.678273</td>\n      <td>170.350467</td>\n      <td>0.00001</td>\n      <td>0.00001</td>\n      <td>...</td>\n      <td>27.0</td>\n      <td>25.5</td>\n      <td>3.7</td>\n      <td>19.0</td>\n      <td>98.7</td>\n      <td>8184.0</td>\n      <td>67.3</td>\n      <td>81.3</td>\n      <td>75.7</td>\n      <td>3681.0</td>\n    </tr>\n  </tbody>\n</table>\n<p>294258 rows × 65 columns</p>\n</div>"
     },
     "execution_count": 33,
     "metadata": {},
     "output_type": "execute_result"
    }
   ],
   "source": [
    "train_df"
   ],
   "metadata": {
    "collapsed": false,
    "pycharm": {
     "name": "#%%\n"
    }
   }
  },
  {
   "cell_type": "code",
   "execution_count": 34,
   "outputs": [],
   "source": [
    "train_df = pd.read_csv('data/train_catugra_v2.csv', sep=',')\n",
    "val_df = pd.read_csv('data/test_catugra_v2.csv', sep=',', index_col=0)\n",
    "\n",
    "cat_cols = train_df.select_dtypes(include=['object']).columns.values\n",
    "train_df[cat_cols] = train_df[cat_cols].fillna('NaN')\n",
    "val_df[cat_cols] = val_df[cat_cols].fillna('NaN')"
   ],
   "metadata": {
    "collapsed": false,
    "pycharm": {
     "name": "#%%\n"
    }
   }
  },
  {
   "cell_type": "code",
   "execution_count": 36,
   "outputs": [
    {
     "name": "stdout",
     "output_type": "stream",
     "text": [
      "Learning rate set to 0.044317\n"
     ]
    },
    {
     "name": "stderr",
     "output_type": "stream",
     "text": [
      "Default metric period is 5 because AUC is/are not implemented for GPU\n"
     ]
    },
    {
     "name": "stdout",
     "output_type": "stream",
     "text": [
      "0:\ttest: 0.7834525\tbest: 0.7834525 (0)\ttotal: 201ms\tremaining: 3m 21s\n",
      "200:\ttest: 0.8457316\tbest: 0.8457509 (199)\ttotal: 18s\tremaining: 1m 11s\n",
      "400:\ttest: 0.8518673\tbest: 0.8518673 (400)\ttotal: 36.1s\tremaining: 54s\n",
      "600:\ttest: 0.8540120\tbest: 0.8540120 (600)\ttotal: 58s\tremaining: 38.5s\n",
      "800:\ttest: 0.8552468\tbest: 0.8552814 (772)\ttotal: 1m 20s\tremaining: 19.9s\n",
      "999:\ttest: 0.8561128\tbest: 0.8561454 (993)\ttotal: 1m 44s\tremaining: 0us\n",
      "bestTest = 0.8561453819\n",
      "bestIteration = 993\n",
      "Shrink model to first 994 iterations.\n",
      "Learning rate set to 0.044317\n"
     ]
    },
    {
     "name": "stderr",
     "output_type": "stream",
     "text": [
      "Default metric period is 5 because AUC is/are not implemented for GPU\n"
     ]
    },
    {
     "name": "stdout",
     "output_type": "stream",
     "text": [
      "0:\ttest: 0.7877047\tbest: 0.7877047 (0)\ttotal: 236ms\tremaining: 3m 55s\n",
      "200:\ttest: 0.8394053\tbest: 0.8394053 (200)\ttotal: 28.2s\tremaining: 1m 52s\n",
      "400:\ttest: 0.8435685\tbest: 0.8435685 (400)\ttotal: 47.9s\tremaining: 1m 11s\n",
      "600:\ttest: 0.8449746\tbest: 0.8450038 (578)\ttotal: 1m 11s\tremaining: 47.6s\n",
      "800:\ttest: 0.8456100\tbest: 0.8457433 (775)\ttotal: 1m 34s\tremaining: 23.6s\n",
      "bestTest = 0.8457432985\n",
      "bestIteration = 775\n",
      "Shrink model to first 776 iterations.\n",
      "Learning rate set to 0.044317\n"
     ]
    },
    {
     "name": "stderr",
     "output_type": "stream",
     "text": [
      "Default metric period is 5 because AUC is/are not implemented for GPU\n"
     ]
    },
    {
     "name": "stdout",
     "output_type": "stream",
     "text": [
      "0:\ttest: 0.7705998\tbest: 0.7705998 (0)\ttotal: 223ms\tremaining: 3m 42s\n",
      "200:\ttest: 0.8258160\tbest: 0.8258160 (200)\ttotal: 21.9s\tremaining: 1m 27s\n",
      "400:\ttest: 0.8306485\tbest: 0.8306695 (399)\ttotal: 47.2s\tremaining: 1m 10s\n",
      "600:\ttest: 0.8319824\tbest: 0.8320035 (585)\ttotal: 1m 7s\tremaining: 44.7s\n",
      "800:\ttest: 0.8335217\tbest: 0.8335313 (799)\ttotal: 1m 27s\tremaining: 21.8s\n",
      "999:\ttest: 0.8343971\tbest: 0.8345859 (960)\ttotal: 1m 47s\tremaining: 0us\n",
      "bestTest = 0.8345859349\n",
      "bestIteration = 960\n",
      "Shrink model to first 961 iterations.\n",
      "Learning rate set to 0.044317\n"
     ]
    },
    {
     "name": "stderr",
     "output_type": "stream",
     "text": [
      "Default metric period is 5 because AUC is/are not implemented for GPU\n"
     ]
    },
    {
     "name": "stdout",
     "output_type": "stream",
     "text": [
      "0:\ttest: 0.7476742\tbest: 0.7476742 (0)\ttotal: 207ms\tremaining: 3m 26s\n",
      "200:\ttest: 0.8456572\tbest: 0.8456572 (200)\ttotal: 19.2s\tremaining: 1m 16s\n",
      "400:\ttest: 0.8496324\tbest: 0.8496734 (397)\ttotal: 40.1s\tremaining: 59.8s\n",
      "600:\ttest: 0.8511034\tbest: 0.8511829 (592)\ttotal: 59.8s\tremaining: 39.7s\n",
      "800:\ttest: 0.8518252\tbest: 0.8518252 (800)\ttotal: 1m 20s\tremaining: 19.9s\n",
      "999:\ttest: 0.8524050\tbest: 0.8525307 (931)\ttotal: 1m 40s\tremaining: 0us\n",
      "bestTest = 0.852530688\n",
      "bestIteration = 931\n",
      "Shrink model to first 932 iterations.\n",
      "Learning rate set to 0.044317\n"
     ]
    },
    {
     "name": "stderr",
     "output_type": "stream",
     "text": [
      "Default metric period is 5 because AUC is/are not implemented for GPU\n"
     ]
    },
    {
     "name": "stdout",
     "output_type": "stream",
     "text": [
      "0:\ttest: 0.7215285\tbest: 0.7215285 (0)\ttotal: 214ms\tremaining: 3m 33s\n",
      "200:\ttest: 0.8287566\tbest: 0.8287566 (200)\ttotal: 19.5s\tremaining: 1m 17s\n",
      "400:\ttest: 0.8365884\tbest: 0.8365884 (400)\ttotal: 40s\tremaining: 59.7s\n",
      "600:\ttest: 0.8396222\tbest: 0.8396222 (600)\ttotal: 1m 1s\tremaining: 40.8s\n",
      "800:\ttest: 0.8416092\tbest: 0.8416092 (800)\ttotal: 1m 41s\tremaining: 25.3s\n",
      "999:\ttest: 0.8427416\tbest: 0.8427902 (988)\ttotal: 1m 59s\tremaining: 0us\n",
      "bestTest = 0.842790246\n",
      "bestIteration = 988\n",
      "Shrink model to first 989 iterations.\n",
      "Learning rate set to 0.044317\n"
     ]
    },
    {
     "name": "stderr",
     "output_type": "stream",
     "text": [
      "Default metric period is 5 because AUC is/are not implemented for GPU\n"
     ]
    },
    {
     "name": "stdout",
     "output_type": "stream",
     "text": [
      "0:\ttest: 0.7652357\tbest: 0.7652357 (0)\ttotal: 195ms\tremaining: 3m 14s\n",
      "200:\ttest: 0.8297311\tbest: 0.8297311 (200)\ttotal: 17.8s\tremaining: 1m 10s\n",
      "400:\ttest: 0.8350317\tbest: 0.8350716 (397)\ttotal: 37.7s\tremaining: 56.2s\n",
      "600:\ttest: 0.8377247\tbest: 0.8377306 (599)\ttotal: 56.9s\tremaining: 37.8s\n",
      "800:\ttest: 0.8384243\tbest: 0.8384310 (799)\ttotal: 1m 16s\tremaining: 18.9s\n",
      "999:\ttest: 0.8390075\tbest: 0.8390610 (997)\ttotal: 1m 35s\tremaining: 0us\n",
      "bestTest = 0.8390610218\n",
      "bestIteration = 997\n",
      "Shrink model to first 998 iterations.\n",
      "Learning rate set to 0.044317\n"
     ]
    },
    {
     "name": "stderr",
     "output_type": "stream",
     "text": [
      "Default metric period is 5 because AUC is/are not implemented for GPU\n"
     ]
    },
    {
     "name": "stdout",
     "output_type": "stream",
     "text": [
      "0:\ttest: 0.7342900\tbest: 0.7342900 (0)\ttotal: 301ms\tremaining: 5m\n",
      "200:\ttest: 0.8339884\tbest: 0.8339884 (200)\ttotal: 18.6s\tremaining: 1m 14s\n",
      "400:\ttest: 0.8395171\tbest: 0.8395171 (400)\ttotal: 37.5s\tremaining: 56.1s\n",
      "600:\ttest: 0.8416912\tbest: 0.8417659 (586)\ttotal: 57.1s\tremaining: 37.9s\n",
      "800:\ttest: 0.8426311\tbest: 0.8427375 (782)\ttotal: 1m 17s\tremaining: 19.2s\n",
      "999:\ttest: 0.8428524\tbest: 0.8429367 (909)\ttotal: 1m 36s\tremaining: 0us\n",
      "bestTest = 0.8429366946\n",
      "bestIteration = 909\n",
      "Shrink model to first 910 iterations.\n",
      "Learning rate set to 0.044317\n"
     ]
    },
    {
     "name": "stderr",
     "output_type": "stream",
     "text": [
      "Default metric period is 5 because AUC is/are not implemented for GPU\n"
     ]
    },
    {
     "name": "stdout",
     "output_type": "stream",
     "text": [
      "0:\ttest: 0.7405195\tbest: 0.7405195 (0)\ttotal: 326ms\tremaining: 5m 26s\n",
      "200:\ttest: 0.8326367\tbest: 0.8326367 (200)\ttotal: 18.5s\tremaining: 1m 13s\n",
      "400:\ttest: 0.8396336\tbest: 0.8396336 (400)\ttotal: 37.1s\tremaining: 55.5s\n",
      "600:\ttest: 0.8420189\tbest: 0.8421022 (593)\ttotal: 56.6s\tremaining: 37.6s\n",
      "800:\ttest: 0.8435405\tbest: 0.8435638 (791)\ttotal: 1m 16s\tremaining: 19.1s\n",
      "999:\ttest: 0.8443286\tbest: 0.8443515 (998)\ttotal: 1m 36s\tremaining: 0us\n",
      "bestTest = 0.8443514705\n",
      "bestIteration = 998\n",
      "Shrink model to first 999 iterations.\n",
      "Learning rate set to 0.044317\n"
     ]
    },
    {
     "name": "stderr",
     "output_type": "stream",
     "text": [
      "Default metric period is 5 because AUC is/are not implemented for GPU\n"
     ]
    },
    {
     "name": "stdout",
     "output_type": "stream",
     "text": [
      "0:\ttest: 0.7431302\tbest: 0.7431302 (0)\ttotal: 202ms\tremaining: 3m 22s\n",
      "200:\ttest: 0.8344687\tbest: 0.8345066 (199)\ttotal: 19.1s\tremaining: 1m 15s\n",
      "400:\ttest: 0.8400874\tbest: 0.8400874 (400)\ttotal: 38.7s\tremaining: 57.9s\n",
      "600:\ttest: 0.8418689\tbest: 0.8418884 (594)\ttotal: 58.4s\tremaining: 38.8s\n",
      "800:\ttest: 0.8433756\tbest: 0.8433756 (800)\ttotal: 1m 18s\tremaining: 19.5s\n",
      "999:\ttest: 0.8438882\tbest: 0.8439429 (971)\ttotal: 1m 38s\tremaining: 0us\n",
      "bestTest = 0.8439428806\n",
      "bestIteration = 971\n",
      "Shrink model to first 972 iterations.\n",
      "Learning rate set to 0.044317\n"
     ]
    },
    {
     "name": "stderr",
     "output_type": "stream",
     "text": [
      "Default metric period is 5 because AUC is/are not implemented for GPU\n"
     ]
    },
    {
     "name": "stdout",
     "output_type": "stream",
     "text": [
      "0:\ttest: 0.7402733\tbest: 0.7402733 (0)\ttotal: 220ms\tremaining: 3m 39s\n",
      "200:\ttest: 0.8291143\tbest: 0.8291469 (199)\ttotal: 18.4s\tremaining: 1m 13s\n",
      "400:\ttest: 0.8353809\tbest: 0.8353809 (400)\ttotal: 38.3s\tremaining: 57.2s\n",
      "600:\ttest: 0.8364229\tbest: 0.8364387 (598)\ttotal: 57.8s\tremaining: 38.4s\n",
      "800:\ttest: 0.8369712\tbest: 0.8371354 (780)\ttotal: 1m 17s\tremaining: 19.2s\n",
      "999:\ttest: 0.8372980\tbest: 0.8373291 (987)\ttotal: 1m 37s\tremaining: 0us\n",
      "bestTest = 0.8373290896\n",
      "bestIteration = 987\n",
      "Shrink model to first 988 iterations.\n"
     ]
    },
    {
     "name": "stderr",
     "output_type": "stream",
     "text": [
      "C:\\Users\\Alexandr\\AppData\\Local\\Temp\\ipykernel_22108\\1901048960.py:26: SettingWithCopyWarning: \n",
      "A value is trying to be set on a copy of a slice from a DataFrame.\n",
      "Try using .loc[row_indexer,col_indexer] = value instead\n",
      "\n",
      "See the caveats in the documentation: https://pandas.pydata.org/pandas-docs/stable/user_guide/indexing.html#returning-a-view-versus-a-copy\n",
      "  label_val_df['pred'] = preds\n"
     ]
    },
    {
     "data": {
      "text/plain": "0.10631055250065462"
     },
     "execution_count": 36,
     "metadata": {},
     "output_type": "execute_result"
    }
   ],
   "source": [
    "from sklearn.model_selection import StratifiedKFold\n",
    "\n",
    "train_df = pd.read_csv('data/train_catugra_v2.csv', sep=',')\n",
    "val_df = pd.read_csv('data/test_catugra_v2.csv', sep=',', index_col=0)\n",
    "\n",
    "cat_cols = train_df.select_dtypes(include=['object']).columns.values\n",
    "train_df[cat_cols] = train_df[cat_cols].fillna('NaN')\n",
    "val_df[cat_cols] = val_df[cat_cols].fillna('NaN')\n",
    "\n",
    "models = []\n",
    "skf = StratifiedKFold(n_splits=10, shuffle=True, random_state=seed_value)\n",
    "\n",
    "for train_ids, test_ids in skf.split(train_df.drop('label', axis=1), train_df.label):\n",
    "    x_tr = train_df.drop('label', axis=1).iloc[train_ids]\n",
    "    x_ts = train_df.drop('label', axis=1).iloc[test_ids]\n",
    "    y_tr = train_df.label[train_ids]\n",
    "    y_ts = train_df.label[test_ids]\n",
    "\n",
    "    ctb = CatBoostClassifier(verbose=200, task_type='GPU', random_seed=seed_value, eval_metric='AUC',)\n",
    "    ctb.fit(x_tr, y_tr, cat_features=cat_cols, eval_set=(x_ts, y_ts), use_best_model=True, early_stopping_rounds=150)\n",
    "    models.append(ctb)\n",
    "\n",
    "label_val_df = val_df[['label']]\n",
    "\n",
    "preds = np.mean([ctb.predict_proba(val_df.drop('label', axis=1))[:,1] for ctb in models], axis=0)\n",
    "label_val_df['pred'] = preds\n",
    "top5p = int(label_val_df.shape[0] * 0.05)\n",
    "res_response = label_val_df.sort_values('pred', ascending=False).iloc[:top5p].label.sum()/top5p\n",
    "res_response"
   ],
   "metadata": {
    "collapsed": false,
    "pycharm": {
     "name": "#%%\n"
    }
   }
  },
  {
   "cell_type": "code",
   "execution_count": null,
   "outputs": [],
   "source": [],
   "metadata": {
    "collapsed": false,
    "pycharm": {
     "name": "#%%\n"
    }
   }
  },
  {
   "cell_type": "code",
   "execution_count": 61,
   "outputs": [
    {
     "name": "stderr",
     "output_type": "stream",
     "text": [
      "C:\\ProgramData\\Anaconda3\\envs\\CtabganS\\lib\\site-packages\\lightgbm\\sklearn.py:726: UserWarning: 'early_stopping_rounds' argument is deprecated and will be removed in a future release of LightGBM. Pass 'early_stopping()' callback via 'callbacks' argument instead.\n",
      "  _log_warning(\"'early_stopping_rounds' argument is deprecated and will be removed in a future release of LightGBM. \"\n"
     ]
    },
    {
     "name": "stdout",
     "output_type": "stream",
     "text": [
      "[1]\tvalid_0's binary_logloss: 0.102206\tvalid_0's p@5: 0.00190487\n",
      "[2]\tvalid_0's binary_logloss: 0.102091\tvalid_0's p@5: 0.00181323\n",
      "[3]\tvalid_0's binary_logloss: 0.102173\tvalid_0's p@5: 0.00181323\n",
      "[4]\tvalid_0's binary_logloss: 0.102371\tvalid_0's p@5: 0.00181323\n",
      "[5]\tvalid_0's binary_logloss: 0.102675\tvalid_0's p@5: 0.00181323\n",
      "[6]\tvalid_0's binary_logloss: 0.103117\tvalid_0's p@5: 0.00111281\n",
      "[7]\tvalid_0's binary_logloss: 0.103721\tvalid_0's p@5: 0.00111281\n",
      "[8]\tvalid_0's binary_logloss: 0.104444\tvalid_0's p@5: 0.00111281\n",
      "[9]\tvalid_0's binary_logloss: 0.104185\tvalid_0's p@5: 0.00198343\n",
      "[10]\tvalid_0's binary_logloss: 0.105032\tvalid_0's p@5: 0.00198343\n",
      "[11]\tvalid_0's binary_logloss: 0.105602\tvalid_0's p@5: 0.00144666\n",
      "[12]\tvalid_0's binary_logloss: 0.106196\tvalid_0's p@5: 0.000798607\n",
      "[13]\tvalid_0's binary_logloss: 0.106893\tvalid_0's p@5: 0.000962256\n",
      "[14]\tvalid_0's binary_logloss: 0.107921\tvalid_0's p@5: 0.000962256\n",
      "[15]\tvalid_0's binary_logloss: 0.109019\tvalid_0's p@5: 0.000962256\n",
      "[16]\tvalid_0's binary_logloss: 0.108841\tvalid_0's p@5: 0.00101462\n",
      "[17]\tvalid_0's binary_logloss: 0.109633\tvalid_0's p@5: 0.00104735\n",
      "[18]\tvalid_0's binary_logloss: 0.109476\tvalid_0's p@5: 0.00119791\n",
      "[19]\tvalid_0's binary_logloss: 0.109173\tvalid_0's p@5: 0.00125028\n",
      "[20]\tvalid_0's binary_logloss: 0.108899\tvalid_0's p@5: 0.00136156\n",
      "[21]\tvalid_0's binary_logloss: 0.109164\tvalid_0's p@5: 0.00138774\n",
      "[22]\tvalid_0's binary_logloss: 0.108851\tvalid_0's p@5: 0.00161685\n",
      "[23]\tvalid_0's binary_logloss: 0.10869\tvalid_0's p@5: 0.00166922\n",
      "[24]\tvalid_0's binary_logloss: 0.109871\tvalid_0's p@5: 0.00166922\n",
      "[25]\tvalid_0's binary_logloss: 0.109658\tvalid_0's p@5: 0.00184596\n",
      "[26]\tvalid_0's binary_logloss: 0.110859\tvalid_0's p@5: 0.00184596\n",
      "[27]\tvalid_0's binary_logloss: 0.111992\tvalid_0's p@5: 0.00184596\n",
      "[28]\tvalid_0's binary_logloss: 0.11193\tvalid_0's p@5: 0.00189178\n",
      "[29]\tvalid_0's binary_logloss: 0.113113\tvalid_0's p@5: 0.00189178\n",
      "[30]\tvalid_0's binary_logloss: 0.113113\tvalid_0's p@5: 0.00189178\n",
      "[31]\tvalid_0's binary_logloss: 0.112905\tvalid_0's p@5: 0.00192451\n",
      "[32]\tvalid_0's binary_logloss: 0.11416\tvalid_0's p@5: 0.00192451\n",
      "[33]\tvalid_0's binary_logloss: 0.115301\tvalid_0's p@5: 0.00192451\n",
      "[34]\tvalid_0's binary_logloss: 0.115502\tvalid_0's p@5: 0.00192451\n",
      "[35]\tvalid_0's binary_logloss: 0.115601\tvalid_0's p@5: 0.00192451\n",
      "[36]\tvalid_0's binary_logloss: 0.115601\tvalid_0's p@5: 0.00192451\n",
      "[37]\tvalid_0's binary_logloss: 0.115543\tvalid_0's p@5: 0.0019376\n",
      "[38]\tvalid_0's binary_logloss: 0.115856\tvalid_0's p@5: 0.00187214\n",
      "[39]\tvalid_0's binary_logloss: 0.115638\tvalid_0's p@5: 0.00182632\n",
      "[40]\tvalid_0's binary_logloss: 0.115638\tvalid_0's p@5: 0.00182632\n",
      "[41]\tvalid_0's binary_logloss: 0.116689\tvalid_0's p@5: 0.00182632\n",
      "[42]\tvalid_0's binary_logloss: 0.116539\tvalid_0's p@5: 0.00190487\n",
      "[43]\tvalid_0's binary_logloss: 0.116539\tvalid_0's p@5: 0.00190487\n",
      "[44]\tvalid_0's binary_logloss: 0.116422\tvalid_0's p@5: 0.00189833\n",
      "[45]\tvalid_0's binary_logloss: 0.116817\tvalid_0's p@5: 0.0018656\n",
      "[46]\tvalid_0's binary_logloss: 0.117205\tvalid_0's p@5: 0.0017805\n",
      "[47]\tvalid_0's binary_logloss: 0.117205\tvalid_0's p@5: 0.0017805\n",
      "[48]\tvalid_0's binary_logloss: 0.116955\tvalid_0's p@5: 0.00176741\n",
      "[49]\tvalid_0's binary_logloss: 0.118071\tvalid_0's p@5: 0.00176741\n",
      "[50]\tvalid_0's binary_logloss: 0.118071\tvalid_0's p@5: 0.00176741\n",
      "[51]\tvalid_0's binary_logloss: 0.11916\tvalid_0's p@5: 0.00176741\n",
      "[52]\tvalid_0's binary_logloss: 0.11916\tvalid_0's p@5: 0.00176741\n",
      "[53]\tvalid_0's binary_logloss: 0.11916\tvalid_0's p@5: 0.00176741\n",
      "[54]\tvalid_0's binary_logloss: 0.11916\tvalid_0's p@5: 0.00176741\n",
      "[55]\tvalid_0's binary_logloss: 0.119739\tvalid_0's p@5: 0.00183287\n",
      "[56]\tvalid_0's binary_logloss: 0.120745\tvalid_0's p@5: 0.00183287\n",
      "[57]\tvalid_0's binary_logloss: 0.120745\tvalid_0's p@5: 0.00183287\n",
      "[58]\tvalid_0's binary_logloss: 0.120745\tvalid_0's p@5: 0.00183287\n",
      "[59]\tvalid_0's binary_logloss: 0.120745\tvalid_0's p@5: 0.00183287\n",
      "[60]\tvalid_0's binary_logloss: 0.120745\tvalid_0's p@5: 0.00183287\n",
      "[61]\tvalid_0's binary_logloss: 0.121273\tvalid_0's p@5: 0.00185905\n",
      "[62]\tvalid_0's binary_logloss: 0.121211\tvalid_0's p@5: 0.00187214\n",
      "[63]\tvalid_0's binary_logloss: 0.121712\tvalid_0's p@5: 0.00184596\n",
      "[64]\tvalid_0's binary_logloss: 0.122708\tvalid_0's p@5: 0.00184596\n",
      "[65]\tvalid_0's binary_logloss: 0.123637\tvalid_0's p@5: 0.00184596\n",
      "[66]\tvalid_0's binary_logloss: 0.12389\tvalid_0's p@5: 0.00184596\n",
      "[67]\tvalid_0's binary_logloss: 0.12389\tvalid_0's p@5: 0.00184596\n",
      "[68]\tvalid_0's binary_logloss: 0.12389\tvalid_0's p@5: 0.00184596\n",
      "[69]\tvalid_0's binary_logloss: 0.12456\tvalid_0's p@5: 0.00182632\n",
      "[70]\tvalid_0's binary_logloss: 0.125119\tvalid_0's p@5: 0.00167577\n",
      "[71]\tvalid_0's binary_logloss: 0.125119\tvalid_0's p@5: 0.00167577\n",
      "[72]\tvalid_0's binary_logloss: 0.125119\tvalid_0's p@5: 0.00167577\n",
      "[73]\tvalid_0's binary_logloss: 0.125119\tvalid_0's p@5: 0.00167577\n",
      "[74]\tvalid_0's binary_logloss: 0.125119\tvalid_0's p@5: 0.00167577\n",
      "[75]\tvalid_0's binary_logloss: 0.125119\tvalid_0's p@5: 0.00167577\n",
      "[76]\tvalid_0's binary_logloss: 0.125119\tvalid_0's p@5: 0.00167577\n",
      "[77]\tvalid_0's binary_logloss: 0.125968\tvalid_0's p@5: 0.00167577\n",
      "[78]\tvalid_0's binary_logloss: 0.125968\tvalid_0's p@5: 0.00167577\n",
      "[79]\tvalid_0's binary_logloss: 0.125968\tvalid_0's p@5: 0.00167577\n",
      "[80]\tvalid_0's binary_logloss: 0.126586\tvalid_0's p@5: 0.0016954\n",
      "[81]\tvalid_0's binary_logloss: 0.126586\tvalid_0's p@5: 0.0016954\n",
      "[82]\tvalid_0's binary_logloss: 0.126586\tvalid_0's p@5: 0.0016954\n",
      "[83]\tvalid_0's binary_logloss: 0.126586\tvalid_0's p@5: 0.0016954\n",
      "[84]\tvalid_0's binary_logloss: 0.126586\tvalid_0's p@5: 0.0016954\n",
      "[85]\tvalid_0's binary_logloss: 0.12719\tvalid_0's p@5: 0.0016954\n",
      "[86]\tvalid_0's binary_logloss: 0.12719\tvalid_0's p@5: 0.0016954\n",
      "[87]\tvalid_0's binary_logloss: 0.12793\tvalid_0's p@5: 0.0016954\n",
      "[88]\tvalid_0's binary_logloss: 0.12793\tvalid_0's p@5: 0.0016954\n",
      "[89]\tvalid_0's binary_logloss: 0.128431\tvalid_0's p@5: 0.0016954\n",
      "[90]\tvalid_0's binary_logloss: 0.128431\tvalid_0's p@5: 0.0016954\n",
      "[91]\tvalid_0's binary_logloss: 0.128431\tvalid_0's p@5: 0.0016954\n",
      "[92]\tvalid_0's binary_logloss: 0.128431\tvalid_0's p@5: 0.0016954\n",
      "[93]\tvalid_0's binary_logloss: 0.128431\tvalid_0's p@5: 0.0016954\n",
      "[94]\tvalid_0's binary_logloss: 0.128929\tvalid_0's p@5: 0.0016954\n",
      "[95]\tvalid_0's binary_logloss: 0.129592\tvalid_0's p@5: 0.0016954\n",
      "[96]\tvalid_0's binary_logloss: 0.129592\tvalid_0's p@5: 0.0016954\n",
      "[97]\tvalid_0's binary_logloss: 0.129592\tvalid_0's p@5: 0.0016954\n",
      "[98]\tvalid_0's binary_logloss: 0.129592\tvalid_0's p@5: 0.0016954\n",
      "[99]\tvalid_0's binary_logloss: 0.129592\tvalid_0's p@5: 0.0016954\n",
      "[100]\tvalid_0's binary_logloss: 0.129592\tvalid_0's p@5: 0.0016954\n",
      "[101]\tvalid_0's binary_logloss: 0.129592\tvalid_0's p@5: 0.0016954\n",
      "[102]\tvalid_0's binary_logloss: 0.129592\tvalid_0's p@5: 0.0016954\n"
     ]
    },
    {
     "name": "stderr",
     "output_type": "stream",
     "text": [
      "C:\\Users\\Alexandr\\AppData\\Local\\Temp\\ipykernel_13512\\1130205336.py:32: SettingWithCopyWarning: \n",
      "A value is trying to be set on a copy of a slice from a DataFrame.\n",
      "Try using .loc[row_indexer,col_indexer] = value instead\n",
      "\n",
      "See the caveats in the documentation: https://pandas.pydata.org/pandas-docs/stable/user_guide/indexing.html#returning-a-view-versus-a-copy\n",
      "  label_val_df['pred'] = preds\n"
     ]
    },
    {
     "data": {
      "text/plain": "0.03626603822990312"
     },
     "execution_count": 61,
     "metadata": {},
     "output_type": "execute_result"
    }
   ],
   "source": [
    "from lightgbm import LGBMClassifier\n",
    "from category_encoders import CatBoostEncoder\n",
    "\n",
    "def precA5(y_true, y_pred):\n",
    "    return \"p@5\",\\\n",
    "           pd.DataFrame(\n",
    "               np.hstack([y_true[...,None], y_pred[...,None]]),\n",
    "               columns=['true', 'pred']\n",
    "           ).\\\n",
    "               sort_values('pred',ascending=False).\\\n",
    "               iloc[:int(y_true.shape[0]*0.05)].\\\n",
    "               true.sum()/y_true.shape[0], True\n",
    "\n",
    "\n",
    "train_df = pd.read_csv('data/train_catugra_v2.csv', sep=',')\n",
    "val_df = pd.read_csv('data/test_catugra_v2.csv', sep=',', index_col=0)\n",
    "\n",
    "cat_cols = train_df.select_dtypes(include=['object']).columns.values\n",
    "train_df[cat_cols] = train_df[cat_cols].fillna('NaN')\n",
    "val_df[cat_cols] = val_df[cat_cols].fillna('NaN')\n",
    "\n",
    "enc = CatBoostEncoder()\n",
    "train_df[cat_cols] = enc.fit_transform(train_df[cat_cols], y=train_df.label)\n",
    "val_df[cat_cols] = enc.transform(val_df[cat_cols])\n",
    "\n",
    "lgb = LGBMClassifier(**study.best_params)\n",
    "\n",
    "lgb.fit(train_df.drop('label', axis=1), train_df.label, eval_set=(val_df.drop('label', axis=1), val_df.label), eval_metric=precA5, early_stopping_rounds=100)\n",
    "\n",
    "label_val_df = val_df[['label']]\n",
    "preds = lgb.predict_proba(val_df.drop('label', axis=1))[:,1]\n",
    "label_val_df['pred'] = preds\n",
    "\n",
    "top5p = int(label_val_df.shape[0] * 0.05)\n",
    "res_response = label_val_df.sort_values('pred', ascending=False).iloc[:top5p].label.sum()/top5p\n",
    "res_response"
   ],
   "metadata": {
    "collapsed": false,
    "pycharm": {
     "name": "#%%\n"
    }
   }
  },
  {
   "cell_type": "code",
   "execution_count": null,
   "outputs": [],
   "source": [],
   "metadata": {
    "collapsed": false,
    "pycharm": {
     "name": "#%%\n"
    }
   }
  },
  {
   "cell_type": "code",
   "execution_count": 61,
   "outputs": [],
   "source": [],
   "metadata": {
    "collapsed": false,
    "pycharm": {
     "name": "#%%\n"
    }
   }
  },
  {
   "cell_type": "code",
   "execution_count": 35,
   "outputs": [],
   "source": [],
   "metadata": {
    "collapsed": false,
    "pycharm": {
     "name": "#%%\n"
    }
   }
  },
  {
   "cell_type": "code",
   "execution_count": 71,
   "outputs": [
    {
     "data": {
      "text/plain": "       ,label,period,subject_type,subject_name,city_name,hex,hex_lat,hex_lon,f1,f2,f3,f4,f5,f6,f7,f8,f9,f10,f11,f12,f13,f14,f15,f16,f17,f18,f19,f20,f21,f22,f23,f24,f25,f26,f27,f28,f29,f30,mean_income_subject,subject_population,district,children_subject,rural_subject,services_subject,communication_subject,district_population,mean_income_district,children_district,rural_district,services_district,communication_district\n0       0,1,2020-05-01,Город,Москва,Москва,8611aa7a7ff...                                                                                                                                                                                                                                                                                                                                                                           \n1       1,1,2020-05-01,Город,Москва,Москва,8611aa01fff...                                                                                                                                                                                                                                                                                                                                                                           \n2       2,1,2020-05-01,Город,Москва,Москва,861181b6fff...                                                                                                                                                                                                                                                                                                                                                                           \n3       3,1,2020-05-01,Город,Москва,Москва,8611aa017ff...                                                                                                                                                                                                                                                                                                                                                                           \n4       4,1,2020-05-01,Город,Москва,Москва,8611aa637ff...                                                                                                                                                                                                                                                                                                                                                                           \n...                                                   ...                                                                                                                                                                                                                                                                                                                                                                           \n294253  294253,0,2020-12-01,Область,Магаданская,Ола,86...                                                                                                                                                                                                                                                                                                                                                                           \n294254  294254,0,2020-12-01,Область,Магаданская,Ягодно...                                                                                                                                                                                                                                                                                                                                                                           \n294255  294255,0,2020-12-01,Область,Магаданская,Магада...                                                                                                                                                                                                                                                                                                                                                                           \n294256  294256,0,2020-12-01,Автономный Округ,Чукотский...                                                                                                                                                                                                                                                                                                                                                                           \n294257  294257,0,2020-12-01,Автономный Округ,Чукотский...                                                                                                                                                                                                                                                                                                                                                                           \n\n[294258 rows x 1 columns]",
      "text/html": "<div>\n<style scoped>\n    .dataframe tbody tr th:only-of-type {\n        vertical-align: middle;\n    }\n\n    .dataframe tbody tr th {\n        vertical-align: top;\n    }\n\n    .dataframe thead th {\n        text-align: right;\n    }\n</style>\n<table border=\"1\" class=\"dataframe\">\n  <thead>\n    <tr style=\"text-align: right;\">\n      <th></th>\n      <th>,label,period,subject_type,subject_name,city_name,hex,hex_lat,hex_lon,f1,f2,f3,f4,f5,f6,f7,f8,f9,f10,f11,f12,f13,f14,f15,f16,f17,f18,f19,f20,f21,f22,f23,f24,f25,f26,f27,f28,f29,f30,mean_income_subject,subject_population,district,children_subject,rural_subject,services_subject,communication_subject,district_population,mean_income_district,children_district,rural_district,services_district,communication_district</th>\n    </tr>\n  </thead>\n  <tbody>\n    <tr>\n      <th>0</th>\n      <td>0,1,2020-05-01,Город,Москва,Москва,8611aa7a7ff...</td>\n    </tr>\n    <tr>\n      <th>1</th>\n      <td>1,1,2020-05-01,Город,Москва,Москва,8611aa01fff...</td>\n    </tr>\n    <tr>\n      <th>2</th>\n      <td>2,1,2020-05-01,Город,Москва,Москва,861181b6fff...</td>\n    </tr>\n    <tr>\n      <th>3</th>\n      <td>3,1,2020-05-01,Город,Москва,Москва,8611aa017ff...</td>\n    </tr>\n    <tr>\n      <th>4</th>\n      <td>4,1,2020-05-01,Город,Москва,Москва,8611aa637ff...</td>\n    </tr>\n    <tr>\n      <th>...</th>\n      <td>...</td>\n    </tr>\n    <tr>\n      <th>294253</th>\n      <td>294253,0,2020-12-01,Область,Магаданская,Ола,86...</td>\n    </tr>\n    <tr>\n      <th>294254</th>\n      <td>294254,0,2020-12-01,Область,Магаданская,Ягодно...</td>\n    </tr>\n    <tr>\n      <th>294255</th>\n      <td>294255,0,2020-12-01,Область,Магаданская,Магада...</td>\n    </tr>\n    <tr>\n      <th>294256</th>\n      <td>294256,0,2020-12-01,Автономный Округ,Чукотский...</td>\n    </tr>\n    <tr>\n      <th>294257</th>\n      <td>294257,0,2020-12-01,Автономный Округ,Чукотский...</td>\n    </tr>\n  </tbody>\n</table>\n<p>294258 rows × 1 columns</p>\n</div>"
     },
     "execution_count": 71,
     "metadata": {},
     "output_type": "execute_result"
    }
   ],
   "source": [
    "train_feat"
   ],
   "metadata": {
    "collapsed": false,
    "pycharm": {
     "name": "#%%\n"
    }
   }
  },
  {
   "cell_type": "markdown",
   "source": [],
   "metadata": {
    "collapsed": false,
    "pycharm": {
     "name": "#%% md\n"
    }
   }
  },
  {
   "cell_type": "code",
   "execution_count": 28,
   "outputs": [],
   "source": [
    "from lightautoml.automl.presets.tabular_presets import TabularAutoML, TabularUtilizedAutoML\n",
    "\n",
    "\n",
    "train_feat = pd.read_csv('data/train_catugra_merged_table_with_covid.csv', sep=';')\n",
    "test_feat = pd.read_csv('data/test_catugra_merged_table_with_covid.csv', sep=';')\n"
   ],
   "metadata": {
    "collapsed": false,
    "pycharm": {
     "name": "#%%\n"
    }
   }
  },
  {
   "cell_type": "code",
   "execution_count": 29,
   "outputs": [],
   "source": [
    "def process_period(try_set):\n",
    "    try_set = try_set.drop(['total_cases', 'new_cases'], axis=1)\n",
    "\n",
    "    try_set['period'] = pd.to_datetime(try_set['period'])\n",
    "    try_set['year'] = try_set['period'].dt.year\n",
    "    try_set['month'] = try_set['period'].dt.month\n",
    "    try_set['day'] = try_set['period'].dt.day\n",
    "    try_set['cos_month'] = np.cos(try_set['period'].dt.day)\n",
    "    drop_cols = ['period','day']\n",
    "    try_set.drop(drop_cols, axis=1, inplace=True)\n",
    "    return try_set\n",
    "\n",
    "train_feat = process_period(train_feat)\n",
    "test_feat = process_period(test_feat)"
   ],
   "metadata": {
    "collapsed": false,
    "pycharm": {
     "name": "#%%\n"
    }
   }
  },
  {
   "cell_type": "code",
   "execution_count": 31,
   "outputs": [
    {
     "name": "stdout",
     "output_type": "stream",
     "text": [
      "[00:56:08] Start automl \u001B[1mutilizator\u001B[0m with listed constraints:\n",
      "[00:56:08] - time: 2500.00 seconds\n",
      "[00:56:08] - CPU: 4 cores\n",
      "[00:56:08] - memory: 16 GB\n",
      "\n",
      "[00:56:08] \u001B[1mIf one preset completes earlier, next preset configuration will be started\u001B[0m\n",
      "\n",
      "[00:56:08] ==================================================\n",
      "[00:56:08] Start 0 automl preset configuration:\n",
      "[00:56:08] \u001B[1mC:\\Users\\Alexandr\\AppData\\Roaming\\Python\\Python38\\site-packages\\lightautoml\\automl\\presets\\tabular_configs\\conf_0_sel_type_0.yml\u001B[0m, random state: {'reader_params': {'random_state': 42}, 'general_params': {'return_all_predictions': False}}\n",
      "[00:56:08] Stdout logging level is INFO2.\n",
      "[00:56:08] Task: binary\n",
      "\n",
      "[00:56:08] Start automl preset with listed constraints:\n",
      "[00:56:08] - time: 2500.00 seconds\n",
      "[00:56:08] - CPU: 4 cores\n",
      "[00:56:08] - memory: 16 GB\n",
      "\n",
      "[00:56:08] \u001B[1mTrain data shape: (294258, 58)\u001B[0m\n",
      "\n",
      "[00:56:41] Layer \u001B[1m1\u001B[0m train process start. Time left 2467.34 secs\n",
      "[00:57:16] Start fitting \u001B[1mLvl_0_Pipe_0_Mod_0_LightGBM\u001B[0m ...\n",
      "[00:57:16] ===== Start working with \u001B[1mfold 0\u001B[0m for \u001B[1mLvl_0_Pipe_0_Mod_0_LightGBM\u001B[0m =====\n",
      "[00:58:40] ===== Start working with \u001B[1mfold 1\u001B[0m for \u001B[1mLvl_0_Pipe_0_Mod_0_LightGBM\u001B[0m =====\n",
      "[00:59:32] ===== Start working with \u001B[1mfold 2\u001B[0m for \u001B[1mLvl_0_Pipe_0_Mod_0_LightGBM\u001B[0m =====\n",
      "[01:00:27] Time limit exceeded after calculating fold 2\n",
      "\n",
      "[01:00:28] Fitting \u001B[1mLvl_0_Pipe_0_Mod_0_LightGBM\u001B[0m finished. score = \u001B[1m0.7213501467518284\u001B[0m\n",
      "[01:00:28] \u001B[1mLvl_0_Pipe_0_Mod_0_LightGBM\u001B[0m fitting and predicting completed\n",
      "[01:00:28] Start hyperparameters optimization for \u001B[1mLvl_0_Pipe_0_Mod_1_Tuned_LightGBM\u001B[0m ... Time budget is 1.00 secs\n",
      "[01:00:28] Copying TaskTimer may affect the parent PipelineTimer, so copy will create new unlimited TaskTimer\n",
      "[01:01:12] Hyperparameters optimization for \u001B[1mLvl_0_Pipe_0_Mod_1_Tuned_LightGBM\u001B[0m completed\n",
      "[01:01:12] The set of hyperparameters \u001B[1m{'feature_fraction': 0.6872700594236812, 'num_leaves': 244, 'bagging_fraction': 0.8659969709057025, 'min_sum_hessian_in_leaf': 0.24810409748678125, 'reg_alpha': 2.5361081166471375e-07, 'reg_lambda': 2.5348407664333426e-07}\u001B[0m\n",
      " achieve 0.7074 AutoML Metric\n",
      "[01:01:12] Start fitting \u001B[1mLvl_0_Pipe_0_Mod_1_Tuned_LightGBM\u001B[0m ...\n",
      "[01:01:12] ===== Start working with \u001B[1mfold 0\u001B[0m for \u001B[1mLvl_0_Pipe_0_Mod_1_Tuned_LightGBM\u001B[0m =====\n",
      "[01:01:51] ===== Start working with \u001B[1mfold 1\u001B[0m for \u001B[1mLvl_0_Pipe_0_Mod_1_Tuned_LightGBM\u001B[0m =====\n",
      "[01:02:26] ===== Start working with \u001B[1mfold 2\u001B[0m for \u001B[1mLvl_0_Pipe_0_Mod_1_Tuned_LightGBM\u001B[0m =====\n",
      "[01:03:03] ===== Start working with \u001B[1mfold 3\u001B[0m for \u001B[1mLvl_0_Pipe_0_Mod_1_Tuned_LightGBM\u001B[0m =====\n",
      "[01:03:55] ===== Start working with \u001B[1mfold 4\u001B[0m for \u001B[1mLvl_0_Pipe_0_Mod_1_Tuned_LightGBM\u001B[0m =====\n",
      "[01:04:30] ===== Start working with \u001B[1mfold 5\u001B[0m for \u001B[1mLvl_0_Pipe_0_Mod_1_Tuned_LightGBM\u001B[0m =====\n",
      "[01:05:08] ===== Start working with \u001B[1mfold 6\u001B[0m for \u001B[1mLvl_0_Pipe_0_Mod_1_Tuned_LightGBM\u001B[0m =====\n",
      "[01:05:46] ===== Start working with \u001B[1mfold 7\u001B[0m for \u001B[1mLvl_0_Pipe_0_Mod_1_Tuned_LightGBM\u001B[0m =====\n",
      "[01:06:26] ===== Start working with \u001B[1mfold 8\u001B[0m for \u001B[1mLvl_0_Pipe_0_Mod_1_Tuned_LightGBM\u001B[0m =====\n",
      "[01:07:11] ===== Start working with \u001B[1mfold 9\u001B[0m for \u001B[1mLvl_0_Pipe_0_Mod_1_Tuned_LightGBM\u001B[0m =====\n",
      "[01:07:52] Fitting \u001B[1mLvl_0_Pipe_0_Mod_1_Tuned_LightGBM\u001B[0m finished. score = \u001B[1m0.6933771602976904\u001B[0m\n",
      "[01:07:52] \u001B[1mLvl_0_Pipe_0_Mod_1_Tuned_LightGBM\u001B[0m fitting and predicting completed\n",
      "[01:07:52] Start fitting \u001B[1mLvl_0_Pipe_0_Mod_2_CatBoost\u001B[0m ...\n",
      "[01:07:52] ===== Start working with \u001B[1mfold 0\u001B[0m for \u001B[1mLvl_0_Pipe_0_Mod_2_CatBoost\u001B[0m =====\n",
      "[01:09:13] ===== Start working with \u001B[1mfold 1\u001B[0m for \u001B[1mLvl_0_Pipe_0_Mod_2_CatBoost\u001B[0m =====\n",
      "[01:09:56] ===== Start working with \u001B[1mfold 2\u001B[0m for \u001B[1mLvl_0_Pipe_0_Mod_2_CatBoost\u001B[0m =====\n",
      "[01:11:37] ===== Start working with \u001B[1mfold 3\u001B[0m for \u001B[1mLvl_0_Pipe_0_Mod_2_CatBoost\u001B[0m =====\n",
      "[01:13:17] ===== Start working with \u001B[1mfold 4\u001B[0m for \u001B[1mLvl_0_Pipe_0_Mod_2_CatBoost\u001B[0m =====\n",
      "[01:15:08] Time limit exceeded after calculating fold 4\n",
      "\n",
      "[01:15:08] Fitting \u001B[1mLvl_0_Pipe_0_Mod_2_CatBoost\u001B[0m finished. score = \u001B[1m0.6798635819843544\u001B[0m\n",
      "[01:15:08] \u001B[1mLvl_0_Pipe_0_Mod_2_CatBoost\u001B[0m fitting and predicting completed\n",
      "[01:15:08] Start hyperparameters optimization for \u001B[1mLvl_0_Pipe_0_Mod_3_Tuned_CatBoost\u001B[0m ... Time budget is 1.00 secs\n",
      "[01:16:53] Hyperparameters optimization for \u001B[1mLvl_0_Pipe_0_Mod_3_Tuned_CatBoost\u001B[0m completed\n",
      "[01:16:53] The set of hyperparameters \u001B[1m{'max_depth': 4, 'nan_mode': 'Max', 'l2_leaf_reg': 0.0024430162614261413, 'min_data_in_leaf': 4}\u001B[0m\n",
      " achieve 0.6962 AutoML Metric\n",
      "[01:16:53] Start fitting \u001B[1mLvl_0_Pipe_0_Mod_3_Tuned_CatBoost\u001B[0m ...\n",
      "[01:16:53] ===== Start working with \u001B[1mfold 0\u001B[0m for \u001B[1mLvl_0_Pipe_0_Mod_3_Tuned_CatBoost\u001B[0m =====\n",
      "[01:18:37] ===== Start working with \u001B[1mfold 1\u001B[0m for \u001B[1mLvl_0_Pipe_0_Mod_3_Tuned_CatBoost\u001B[0m =====\n",
      "[01:22:02] ===== Start working with \u001B[1mfold 2\u001B[0m for \u001B[1mLvl_0_Pipe_0_Mod_3_Tuned_CatBoost\u001B[0m =====\n",
      "[01:25:30] ===== Start working with \u001B[1mfold 3\u001B[0m for \u001B[1mLvl_0_Pipe_0_Mod_3_Tuned_CatBoost\u001B[0m =====\n",
      "[01:28:22] ===== Start working with \u001B[1mfold 4\u001B[0m for \u001B[1mLvl_0_Pipe_0_Mod_3_Tuned_CatBoost\u001B[0m =====\n",
      "[01:31:51] ===== Start working with \u001B[1mfold 5\u001B[0m for \u001B[1mLvl_0_Pipe_0_Mod_3_Tuned_CatBoost\u001B[0m =====\n",
      "[01:34:36] Time limit exceeded after calculating fold 5\n",
      "\n",
      "[01:34:36] Fitting \u001B[1mLvl_0_Pipe_0_Mod_3_Tuned_CatBoost\u001B[0m finished. score = \u001B[1m0.6796689512990626\u001B[0m\n",
      "[01:34:36] \u001B[1mLvl_0_Pipe_0_Mod_3_Tuned_CatBoost\u001B[0m fitting and predicting completed\n",
      "[01:34:36] Time left 191.84 secs\n",
      "\n",
      "[01:34:36] Time limit exceeded in one of the tasks. AutoML will blend level 1 models.\n",
      "\n",
      "[01:34:36] \u001B[1mLayer 1 training completed.\u001B[0m\n",
      "\n",
      "[01:34:36] Blending: optimization starts with equal weights and score \u001B[1m0.6920587161832845\u001B[0m\n",
      "[01:34:39] Blending: iteration \u001B[1m0\u001B[0m: score = \u001B[1m0.6923185708567068\u001B[0m, weights = \u001B[1m[1. 0. 0. 0.]\u001B[0m\n",
      "[01:34:42] Blending: iteration \u001B[1m1\u001B[0m: score = \u001B[1m0.6923185708567068\u001B[0m, weights = \u001B[1m[1. 0. 0. 0.]\u001B[0m\n",
      "[01:34:42] Blending: no score update. Terminated\n",
      "\n",
      "[01:34:42] \u001B[1mAutoml preset training completed in 2313.72 seconds\u001B[0m\n",
      "\n",
      "[01:34:42] Model description:\n",
      "Final prediction for new objects (level 0) = \n",
      "\t 1.00000 * (3 averaged models Lvl_0_Pipe_0_Mod_0_LightGBM) \n",
      "\n",
      "[01:34:42] ==================================================\n"
     ]
    }
   ],
   "source": [
    "from lightautoml.automl.presets.tabular_presets import TabularUtilizedAutoML\n",
    "from lightautoml.tasks import Task\n",
    "from sklearn.metrics import roc_auc_score\n",
    "import pickle\n",
    "\n",
    "\n",
    "def roc_auc_my(y_true, y_pred):\n",
    "    return 2 * roc_auc_score(y_true, y_pred) - 1\n",
    "\n",
    "lama = TabularUtilizedAutoML(\n",
    "    timeout = 2500,\n",
    "    general_params = {'nested_cv': False, 'use_algos': [[\"lgb\", \"lgb_tuned\", \"cb\", \"cb_tuned\"]]},\n",
    "    reader_params = {'cv': 10, 'random_state': 7575, 'stratify':\"label\"},\n",
    "    task = Task(\n",
    "        name = 'binary',\n",
    "        metric = roc_auc_my\n",
    "    )\n",
    ")\n",
    "oof_pred = lama.fit_predict(\n",
    "    train_feat,\n",
    "    roles = {'target': 'label'}, verbose=2\n",
    ")"
   ],
   "metadata": {
    "collapsed": false,
    "pycharm": {
     "name": "#%%\n"
    }
   }
  },
  {
   "cell_type": "code",
   "execution_count": 32,
   "outputs": [
    {
     "name": "stderr",
     "output_type": "stream",
     "text": [
      "C:\\Users\\Alexandr\\AppData\\Local\\Temp\\ipykernel_22108\\1977859023.py:2: SettingWithCopyWarning: \n",
      "A value is trying to be set on a copy of a slice from a DataFrame.\n",
      "Try using .loc[row_indexer,col_indexer] = value instead\n",
      "\n",
      "See the caveats in the documentation: https://pandas.pydata.org/pandas-docs/stable/user_guide/indexing.html#returning-a-view-versus-a-copy\n",
      "  label_val_df['pred'] = lama.predict(test_feat.drop('label', axis=1)).data\n"
     ]
    },
    {
     "data": {
      "text/plain": "0.10120450379680544"
     },
     "execution_count": 32,
     "metadata": {},
     "output_type": "execute_result"
    }
   ],
   "source": [
    "label_val_df = test_feat[['label']]\n",
    "label_val_df['pred'] = lama.predict(test_feat.drop('label', axis=1)).data\n",
    "\n",
    "top5p = int(label_val_df.shape[0] * 0.05)\n",
    "res_response = label_val_df.sort_values('pred', ascending=False).iloc[:top5p].label.sum()/top5p\n",
    "res_response"
   ],
   "metadata": {
    "collapsed": false,
    "pycharm": {
     "name": "#%%\n"
    }
   }
  },
  {
   "cell_type": "code",
   "execution_count": 18,
   "outputs": [
    {
     "data": {
      "text/plain": "             new_cases      period  Апгрейд  Игровой  Технологии доступа  \\\ntotal_cases                                                                \n1624648.0      18381.0  2020-11-01    500.0    890.0               500.0   \n1624648.0      18381.0  2020-11-01    500.0    890.0               500.0   \n1624648.0      18381.0  2020-11-01    500.0    890.0               500.0   \n1624648.0      18381.0  2020-11-01    500.0    890.0               500.0   \n1624648.0      18381.0  2020-11-01    500.0    890.0               500.0   \n...                ...         ...      ...      ...                 ...   \n4503291.0       9057.0  2021-04-01     -1.0    890.0               450.0   \n4503291.0       9057.0  2021-04-01     -1.0    890.0               450.0   \n4503291.0       9057.0  2021-04-01     -1.0    890.0               450.0   \n4503291.0       9057.0  2021-04-01     -1.0    890.0               450.0   \n4503291.0       9057.0  2021-04-01     -1.0    890.0               450.0   \n\n             Технологии доступа PRO  Технологии контроля  label subject_type  \\\ntotal_cases                                                                    \n1624648.0                     890.0                740.0      1        Город   \n1624648.0                     890.0                740.0      1        Город   \n1624648.0                     890.0                740.0      1        Город   \n1624648.0                     890.0                740.0      1        Город   \n1624648.0                     890.0                740.0      1        Город   \n...                             ...                  ...    ...          ...   \n4503291.0                      -1.0                740.0      0      Область   \n4503291.0                      -1.0                740.0      0      Область   \n4503291.0                      -1.0                740.0      0      Область   \n4503291.0                      -1.0                740.0      0      Область   \n4503291.0                      -1.0                740.0      0      Область   \n\n            subject_name  ... children_subject rural_subject  \\\ntotal_cases               ...                                  \n1624648.0         Москва  ...             15.6           1.6   \n1624648.0         Москва  ...             15.6           1.6   \n1624648.0         Москва  ...             15.6           1.6   \n1624648.0         Москва  ...             15.6           1.6   \n1624648.0         Москва  ...             15.6           1.6   \n...                  ...  ...              ...           ...   \n4503291.0     Курганская  ...             19.4          37.7   \n4503291.0     Курганская  ...             19.4          37.7   \n4503291.0     Курганская  ...             19.4          37.7   \n4503291.0     Курганская  ...             19.4          37.7   \n4503291.0     Курганская  ...             19.4          37.7   \n\n             services_subject  communication_subject  district_population  \\\ntotal_cases                                                                 \n1624648.0                34.1                    3.3              39251.0   \n1624648.0                34.1                    3.3              39251.0   \n1624648.0                34.1                    3.3              39251.0   \n1624648.0                34.1                    3.3              39251.0   \n1624648.0                34.1                    3.3              39251.0   \n...                       ...                    ...                  ...   \n4503291.0                19.1                    3.2              12329.5   \n4503291.0                19.1                    3.2              12329.5   \n4503291.0                19.1                    3.2              12329.5   \n4503291.0                19.1                    3.2              12329.5   \n4503291.0                19.1                    3.2              12329.5   \n\n             mean_income_district  children_district  rural_district  \\\ntotal_cases                                                            \n1624648.0                 46880.0               16.6            17.6   \n1624648.0                 46880.0               16.6            17.6   \n1624648.0                 46880.0               16.6            17.6   \n1624648.0                 46880.0               16.6            17.6   \n1624648.0                 46880.0               16.6            17.6   \n...                           ...                ...             ...   \n4503291.0                 42555.9               20.6            18.3   \n4503291.0                 42555.9               20.6            18.3   \n4503291.0                 42555.9               20.6            18.3   \n4503291.0                 42555.9               20.6            18.3   \n4503291.0                 42555.9               20.6            18.3   \n\n             services_district  communication_district  \ntotal_cases                                             \n1624648.0                 28.7                     3.3  \n1624648.0                 28.7                     3.3  \n1624648.0                 28.7                     3.3  \n1624648.0                 28.7                     3.3  \n1624648.0                 28.7                     3.3  \n...                        ...                     ...  \n4503291.0                 26.0                     3.0  \n4503291.0                 26.0                     3.0  \n4503291.0                 26.0                     3.0  \n4503291.0                 26.0                     3.0  \n4503291.0                 26.0                     3.0  \n\n[152766 rows x 57 columns]",
      "text/html": "<div>\n<style scoped>\n    .dataframe tbody tr th:only-of-type {\n        vertical-align: middle;\n    }\n\n    .dataframe tbody tr th {\n        vertical-align: top;\n    }\n\n    .dataframe thead th {\n        text-align: right;\n    }\n</style>\n<table border=\"1\" class=\"dataframe\">\n  <thead>\n    <tr style=\"text-align: right;\">\n      <th></th>\n      <th>new_cases</th>\n      <th>period</th>\n      <th>Апгрейд</th>\n      <th>Игровой</th>\n      <th>Технологии доступа</th>\n      <th>Технологии доступа PRO</th>\n      <th>Технологии контроля</th>\n      <th>label</th>\n      <th>subject_type</th>\n      <th>subject_name</th>\n      <th>...</th>\n      <th>children_subject</th>\n      <th>rural_subject</th>\n      <th>services_subject</th>\n      <th>communication_subject</th>\n      <th>district_population</th>\n      <th>mean_income_district</th>\n      <th>children_district</th>\n      <th>rural_district</th>\n      <th>services_district</th>\n      <th>communication_district</th>\n    </tr>\n    <tr>\n      <th>total_cases</th>\n      <th></th>\n      <th></th>\n      <th></th>\n      <th></th>\n      <th></th>\n      <th></th>\n      <th></th>\n      <th></th>\n      <th></th>\n      <th></th>\n      <th></th>\n      <th></th>\n      <th></th>\n      <th></th>\n      <th></th>\n      <th></th>\n      <th></th>\n      <th></th>\n      <th></th>\n      <th></th>\n      <th></th>\n    </tr>\n  </thead>\n  <tbody>\n    <tr>\n      <th>1624648.0</th>\n      <td>18381.0</td>\n      <td>2020-11-01</td>\n      <td>500.0</td>\n      <td>890.0</td>\n      <td>500.0</td>\n      <td>890.0</td>\n      <td>740.0</td>\n      <td>1</td>\n      <td>Город</td>\n      <td>Москва</td>\n      <td>...</td>\n      <td>15.6</td>\n      <td>1.6</td>\n      <td>34.1</td>\n      <td>3.3</td>\n      <td>39251.0</td>\n      <td>46880.0</td>\n      <td>16.6</td>\n      <td>17.6</td>\n      <td>28.7</td>\n      <td>3.3</td>\n    </tr>\n    <tr>\n      <th>1624648.0</th>\n      <td>18381.0</td>\n      <td>2020-11-01</td>\n      <td>500.0</td>\n      <td>890.0</td>\n      <td>500.0</td>\n      <td>890.0</td>\n      <td>740.0</td>\n      <td>1</td>\n      <td>Город</td>\n      <td>Москва</td>\n      <td>...</td>\n      <td>15.6</td>\n      <td>1.6</td>\n      <td>34.1</td>\n      <td>3.3</td>\n      <td>39251.0</td>\n      <td>46880.0</td>\n      <td>16.6</td>\n      <td>17.6</td>\n      <td>28.7</td>\n      <td>3.3</td>\n    </tr>\n    <tr>\n      <th>1624648.0</th>\n      <td>18381.0</td>\n      <td>2020-11-01</td>\n      <td>500.0</td>\n      <td>890.0</td>\n      <td>500.0</td>\n      <td>890.0</td>\n      <td>740.0</td>\n      <td>1</td>\n      <td>Город</td>\n      <td>Москва</td>\n      <td>...</td>\n      <td>15.6</td>\n      <td>1.6</td>\n      <td>34.1</td>\n      <td>3.3</td>\n      <td>39251.0</td>\n      <td>46880.0</td>\n      <td>16.6</td>\n      <td>17.6</td>\n      <td>28.7</td>\n      <td>3.3</td>\n    </tr>\n    <tr>\n      <th>1624648.0</th>\n      <td>18381.0</td>\n      <td>2020-11-01</td>\n      <td>500.0</td>\n      <td>890.0</td>\n      <td>500.0</td>\n      <td>890.0</td>\n      <td>740.0</td>\n      <td>1</td>\n      <td>Город</td>\n      <td>Москва</td>\n      <td>...</td>\n      <td>15.6</td>\n      <td>1.6</td>\n      <td>34.1</td>\n      <td>3.3</td>\n      <td>39251.0</td>\n      <td>46880.0</td>\n      <td>16.6</td>\n      <td>17.6</td>\n      <td>28.7</td>\n      <td>3.3</td>\n    </tr>\n    <tr>\n      <th>1624648.0</th>\n      <td>18381.0</td>\n      <td>2020-11-01</td>\n      <td>500.0</td>\n      <td>890.0</td>\n      <td>500.0</td>\n      <td>890.0</td>\n      <td>740.0</td>\n      <td>1</td>\n      <td>Город</td>\n      <td>Москва</td>\n      <td>...</td>\n      <td>15.6</td>\n      <td>1.6</td>\n      <td>34.1</td>\n      <td>3.3</td>\n      <td>39251.0</td>\n      <td>46880.0</td>\n      <td>16.6</td>\n      <td>17.6</td>\n      <td>28.7</td>\n      <td>3.3</td>\n    </tr>\n    <tr>\n      <th>...</th>\n      <td>...</td>\n      <td>...</td>\n      <td>...</td>\n      <td>...</td>\n      <td>...</td>\n      <td>...</td>\n      <td>...</td>\n      <td>...</td>\n      <td>...</td>\n      <td>...</td>\n      <td>...</td>\n      <td>...</td>\n      <td>...</td>\n      <td>...</td>\n      <td>...</td>\n      <td>...</td>\n      <td>...</td>\n      <td>...</td>\n      <td>...</td>\n      <td>...</td>\n      <td>...</td>\n    </tr>\n    <tr>\n      <th>4503291.0</th>\n      <td>9057.0</td>\n      <td>2021-04-01</td>\n      <td>-1.0</td>\n      <td>890.0</td>\n      <td>450.0</td>\n      <td>-1.0</td>\n      <td>740.0</td>\n      <td>0</td>\n      <td>Область</td>\n      <td>Курганская</td>\n      <td>...</td>\n      <td>19.4</td>\n      <td>37.7</td>\n      <td>19.1</td>\n      <td>3.2</td>\n      <td>12329.5</td>\n      <td>42555.9</td>\n      <td>20.6</td>\n      <td>18.3</td>\n      <td>26.0</td>\n      <td>3.0</td>\n    </tr>\n    <tr>\n      <th>4503291.0</th>\n      <td>9057.0</td>\n      <td>2021-04-01</td>\n      <td>-1.0</td>\n      <td>890.0</td>\n      <td>450.0</td>\n      <td>-1.0</td>\n      <td>740.0</td>\n      <td>0</td>\n      <td>Область</td>\n      <td>Курганская</td>\n      <td>...</td>\n      <td>19.4</td>\n      <td>37.7</td>\n      <td>19.1</td>\n      <td>3.2</td>\n      <td>12329.5</td>\n      <td>42555.9</td>\n      <td>20.6</td>\n      <td>18.3</td>\n      <td>26.0</td>\n      <td>3.0</td>\n    </tr>\n    <tr>\n      <th>4503291.0</th>\n      <td>9057.0</td>\n      <td>2021-04-01</td>\n      <td>-1.0</td>\n      <td>890.0</td>\n      <td>450.0</td>\n      <td>-1.0</td>\n      <td>740.0</td>\n      <td>0</td>\n      <td>Область</td>\n      <td>Курганская</td>\n      <td>...</td>\n      <td>19.4</td>\n      <td>37.7</td>\n      <td>19.1</td>\n      <td>3.2</td>\n      <td>12329.5</td>\n      <td>42555.9</td>\n      <td>20.6</td>\n      <td>18.3</td>\n      <td>26.0</td>\n      <td>3.0</td>\n    </tr>\n    <tr>\n      <th>4503291.0</th>\n      <td>9057.0</td>\n      <td>2021-04-01</td>\n      <td>-1.0</td>\n      <td>890.0</td>\n      <td>450.0</td>\n      <td>-1.0</td>\n      <td>740.0</td>\n      <td>0</td>\n      <td>Область</td>\n      <td>Курганская</td>\n      <td>...</td>\n      <td>19.4</td>\n      <td>37.7</td>\n      <td>19.1</td>\n      <td>3.2</td>\n      <td>12329.5</td>\n      <td>42555.9</td>\n      <td>20.6</td>\n      <td>18.3</td>\n      <td>26.0</td>\n      <td>3.0</td>\n    </tr>\n    <tr>\n      <th>4503291.0</th>\n      <td>9057.0</td>\n      <td>2021-04-01</td>\n      <td>-1.0</td>\n      <td>890.0</td>\n      <td>450.0</td>\n      <td>-1.0</td>\n      <td>740.0</td>\n      <td>0</td>\n      <td>Область</td>\n      <td>Курганская</td>\n      <td>...</td>\n      <td>19.4</td>\n      <td>37.7</td>\n      <td>19.1</td>\n      <td>3.2</td>\n      <td>12329.5</td>\n      <td>42555.9</td>\n      <td>20.6</td>\n      <td>18.3</td>\n      <td>26.0</td>\n      <td>3.0</td>\n    </tr>\n  </tbody>\n</table>\n<p>152766 rows × 57 columns</p>\n</div>"
     },
     "execution_count": 18,
     "metadata": {},
     "output_type": "execute_result"
    }
   ],
   "source": [
    "test_feat"
   ],
   "metadata": {
    "collapsed": false,
    "pycharm": {
     "name": "#%%\n"
    }
   }
  },
  {
   "cell_type": "code",
   "execution_count": null,
   "outputs": [],
   "source": [],
   "metadata": {
    "collapsed": false,
    "pycharm": {
     "name": "#%%\n"
    }
   }
  }
 ],
 "metadata": {
  "kernelspec": {
   "display_name": "Python 3",
   "language": "python",
   "name": "python3"
  },
  "language_info": {
   "codemirror_mode": {
    "name": "ipython",
    "version": 2
   },
   "file_extension": ".py",
   "mimetype": "text/x-python",
   "name": "python",
   "nbconvert_exporter": "python",
   "pygments_lexer": "ipython2",
   "version": "2.7.6"
  }
 },
 "nbformat": 4,
 "nbformat_minor": 0
}