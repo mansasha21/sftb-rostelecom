{
 "cells": [
  {
   "cell_type": "markdown",
   "source": [
    "## Результаты\n",
    "| Model                    | P@5    |\n",
    "|--------------------------|--------|\n",
    "| Random                   | 0.0093 |\n",
    "| Catboost                 | 0.1057 |\n",
    "| Catboost + fe            | 0.1026 |\n",
    "| Catboost + add_data      | 0.1091 |\n",
    "| Catboost + add_data + fe | 0.1015 |\n"
   ],
   "metadata": {
    "collapsed": false,
    "pycharm": {
     "name": "#%% md\n"
    }
   }
  },
  {
   "cell_type": "code",
   "execution_count": 5,
   "metadata": {
    "collapsed": true,
    "pycharm": {
     "name": "#%%\n"
    }
   },
   "outputs": [],
   "source": [
    "import os\n",
    "import random\n",
    "\n",
    "import pandas as pd\n",
    "import numpy as np\n",
    "import matplotlib.pyplot as plt\n",
    "\n",
    "from catboost import CatBoostClassifier"
   ]
  },
  {
   "cell_type": "code",
   "execution_count": 6,
   "outputs": [],
   "source": [
    "def fix_seed(seed_value):\n",
    "    os.environ['PYTHONHASHSEED']=str(seed_value)\n",
    "    random.seed(seed_value)\n",
    "    np.random.seed(seed_value)\n",
    "\n",
    "seed_value = 7575\n",
    "fix_seed(seed_value)"
   ],
   "metadata": {
    "collapsed": false,
    "pycharm": {
     "name": "#%%\n"
    }
   }
  },
  {
   "cell_type": "code",
   "execution_count": 116,
   "outputs": [],
   "source": [
    "# class Pipeline:\n",
    "#     def __init__(self, train_path, val_path, test_path=None, data_loader=None, data_prep=None, model=None, **kwargs):\n",
    "#         \"\"\"\n",
    "#\n",
    "#         :param train_path:\n",
    "#         :param val_path:\n",
    "#         :param test_path:\n",
    "#         :param data_loader: implements method load\n",
    "#         :param data_prep: implements methods fit transform\n",
    "#         :param model: implements methods fit, predict_proba\n",
    "#         \"\"\"\n",
    "#         if data_loader:\n",
    "#             self.data_loader = data_loader()\n",
    "#         else:\n",
    "#             self.train_df = pd.read_csv(train_path)\n",
    "#             self.val_df = pd.read_csv(val_path)\n",
    "#             if test_path:\n",
    "#                 self.test_df = pd.read_csv(test_path)\n",
    "#\n",
    "#         self.data_prep = data_prep()\n",
    "#         self.model = model(**kwargs)\n",
    "#\n",
    "#     def fit(self, **fit_params):\n",
    "#         train_df\n",
    "\n",
    "\n",
    "# train_df = pd.read_csv('data/train_catugra.csv', sep=',',  index_col=0)\n",
    "# val_df = pd.read_csv('data/test_catugra.csv', sep=',', index_col=0)"
   ],
   "metadata": {
    "collapsed": false,
    "pycharm": {
     "name": "#%%\n"
    }
   }
  },
  {
   "cell_type": "markdown",
   "source": [
    "## Оценка сырых данных"
   ],
   "metadata": {
    "collapsed": false,
    "pycharm": {
     "name": "#%% md\n"
    }
   }
  },
  {
   "cell_type": "code",
   "execution_count": 16,
   "outputs": [],
   "source": [
    "train_df = pd.read_csv('data/train.csv', sep=';')\n",
    "val_df = pd.read_csv('data/test.csv', sep=';')"
   ],
   "metadata": {
    "collapsed": false,
    "pycharm": {
     "name": "#%%\n"
    }
   }
  },
  {
   "cell_type": "code",
   "execution_count": 119,
   "outputs": [
    {
     "name": "stderr",
     "output_type": "stream",
     "text": [
      "C:\\Users\\Alexandr\\AppData\\Local\\Temp\\ipykernel_18664\\1744417879.py:10: SettingWithCopyWarning: \n",
      "A value is trying to be set on a copy of a slice from a DataFrame.\n",
      "Try using .loc[row_indexer,col_indexer] = value instead\n",
      "\n",
      "See the caveats in the documentation: https://pandas.pydata.org/pandas-docs/stable/user_guide/indexing.html#returning-a-view-versus-a-copy\n",
      "  label_val_df['pred'] = preds\n"
     ]
    },
    {
     "data": {
      "text/plain": "(0.009347996857816182,\n [0.008771929824561403,\n  0.00968840010473946,\n  0.010081173081958628,\n  0.008379156847342237,\n  0.009819324430479183])"
     },
     "execution_count": 119,
     "metadata": {},
     "output_type": "execute_result"
    }
   ],
   "source": [
    "# random modeling\n",
    "N = 5\n",
    "top5p = int(val_df.shape[0] * 0.05)\n",
    "random_res = []\n",
    "\n",
    "label_val_df = val_df[['label']]\n",
    "\n",
    "for i in range(N):\n",
    "    preds = label_val_df.label.sample(val_df.shape[0]).reset_index(drop=True)\n",
    "    label_val_df['pred'] = preds\n",
    "    random_res.append(label_val_df.sort_values('pred', ascending=False).iloc[:top5p].label.sum()/top5p)\n",
    "\n",
    "np.mean(random_res), random_res"
   ],
   "metadata": {
    "collapsed": false,
    "pycharm": {
     "name": "#%%\n"
    }
   }
  },
  {
   "cell_type": "code",
   "execution_count": 120,
   "outputs": [
    {
     "name": "stdout",
     "output_type": "stream",
     "text": [
      "Learning rate set to 0.02466\n",
      "0:\tlearn: 0.6470023\ttotal: 361ms\tremaining: 6m\n",
      "200:\tlearn: 0.0918462\ttotal: 29.8s\tremaining: 1m 58s\n",
      "400:\tlearn: 0.0897373\ttotal: 54.2s\tremaining: 1m 20s\n",
      "600:\tlearn: 0.0884431\ttotal: 1m 44s\tremaining: 1m 9s\n",
      "800:\tlearn: 0.0874101\ttotal: 2m 22s\tremaining: 35.5s\n",
      "999:\tlearn: 0.0865075\ttotal: 3m 3s\tremaining: 0us\n"
     ]
    },
    {
     "name": "stderr",
     "output_type": "stream",
     "text": [
      "C:\\Users\\Alexandr\\AppData\\Local\\Temp\\ipykernel_18664\\3371511455.py:13: SettingWithCopyWarning: \n",
      "A value is trying to be set on a copy of a slice from a DataFrame.\n",
      "Try using .loc[row_indexer,col_indexer] = value instead\n",
      "\n",
      "See the caveats in the documentation: https://pandas.pydata.org/pandas-docs/stable/user_guide/indexing.html#returning-a-view-versus-a-copy\n",
      "  label_val_df['pred'] = preds\n"
     ]
    },
    {
     "data": {
      "text/plain": "0.10578685519769573"
     },
     "execution_count": 120,
     "metadata": {},
     "output_type": "execute_result"
    }
   ],
   "source": [
    "## Simple modeling\n",
    "\n",
    "cat_cols = train_df.select_dtypes(include=['object']).columns.values\n",
    "train_df[cat_cols] = train_df[cat_cols].fillna('NaN')\n",
    "val_df[cat_cols] = val_df[cat_cols].fillna('NaN')\n",
    "\n",
    "\n",
    "ctb = CatBoostClassifier(verbose=200, task_type='GPU', random_seed=seed_value)\n",
    "ctb.fit(train_df.drop('label', axis=1), train_df.label, cat_features=cat_cols)\n",
    "label_val_df = val_df[['label']]\n",
    "\n",
    "preds = ctb.predict_proba(val_df.drop('label', axis=1))[:,1]\n",
    "label_val_df['pred'] = preds\n",
    "\n",
    "top5p = int(label_val_df.shape[0] * 0.05)\n",
    "res_response = label_val_df.sort_values('pred', ascending=False).iloc[:top5p].label.sum()/top5p\n",
    "res_response"
   ],
   "metadata": {
    "collapsed": false,
    "pycharm": {
     "name": "#%%\n"
    }
   }
  },
  {
   "cell_type": "markdown",
   "source": [
    "# Data Preparation"
   ],
   "metadata": {
    "collapsed": false,
    "pycharm": {
     "name": "#%% md\n"
    }
   }
  },
  {
   "cell_type": "code",
   "execution_count": 36,
   "outputs": [],
   "source": [
    "def add_agg_features(df):\n",
    "    df = df.copy()\n",
    "    subj_feat = df[['subject_name'] + [f'f{i}' for i in range(1, 31)]].\\\n",
    "        groupby('subject_name').\\\n",
    "        agg({f\"f{i}\":[min, max, np.mean, np.std, sum, np.median, pd.Series.skew, pd.Series.kurtosis] for i in range(1,31)})\n",
    "\n",
    "    features_names_subject = np.array([col + '_subject_' + stat for col in [f'f{i}' for i in range(1, 31)]\n",
    "                                       for stat in ['min', 'max', 'mean', 'std','sum', 'median', 'skew', 'kurtosis']]).flatten().tolist()\n",
    "\n",
    "    # city_feat = df[['city_name'] + [f'f{i}' for i in range(1, 31)]].groupby('city_name').agg(\n",
    "    #     {f\"f{i}\": [min, max, np.mean, np.std, sum, np.median, pd.Series.skew, pd.Series.kurtosis] for i in range(1, 31)})\n",
    "    #\n",
    "    # features_city_subject = np.array([col + '_city_' + stat for col in [f'f{i}' for i in range(1, 31)]\n",
    "    #                                    for stat in ['min', 'max', 'mean', 'std', 'sum', 'median', 'skew','kurtosis']]).flatten().tolist()\n",
    "\n",
    "    # subjt_feat = df[['subject_type'] + [f'f{i}' for i in range(1, 31)]].groupby('subject_type').agg(\n",
    "    #     {f\"f{i}\": [min, max, np.mean, np.std, sum, np.median, pd.Series.skew, pd.Series.kurtosis] for i in range(1, 31)})\n",
    "    #\n",
    "    # features_t_subject = np.array([col + '_subjt_' + stat for col in [f'f{i}' for i in range(1, 31)]\n",
    "    #                                   for stat in ['min', 'max', 'mean', 'std', 'sum', 'median', 'skew','kurtosis']]).flatten().tolist()\n",
    "\n",
    "    subj_df = pd.DataFrame(subj_feat.values, columns=features_names_subject)\n",
    "    subj_df['subject_name'] = subj_feat.index\n",
    "\n",
    "    # city_df = pd.DataFrame(city_feat.values, columns=features_city_subject)\n",
    "    # city_df['city_name'] = city_feat.index\n",
    "\n",
    "    # subjt_df = pd.DataFrame(subjt_feat.values, columns=features_t_subject)\n",
    "    # subjt_df['subject_type'] = subjt_feat.index\n",
    "    df = df.merge(subj_df, on='subject_name')#.merge(city_df, on='city_name')#.merge(subjt_df, on='subject_type')\n",
    "    return df"
   ],
   "metadata": {
    "collapsed": false,
    "pycharm": {
     "name": "#%%\n"
    }
   }
  },
  {
   "cell_type": "code",
   "execution_count": 38,
   "outputs": [
    {
     "name": "stdout",
     "output_type": "stream",
     "text": [
      "Learning rate set to 0.02466\n",
      "0:\tlearn: 0.6462937\ttotal: 257ms\tremaining: 4m 16s\n",
      "200:\tlearn: 0.0916607\ttotal: 11.6s\tremaining: 46s\n",
      "400:\tlearn: 0.0892890\ttotal: 24.4s\tremaining: 36.4s\n",
      "600:\tlearn: 0.0878918\ttotal: 40.7s\tremaining: 27s\n",
      "800:\tlearn: 0.0867803\ttotal: 1m 3s\tremaining: 15.8s\n",
      "999:\tlearn: 0.0858101\ttotal: 1m 28s\tremaining: 0us\n"
     ]
    },
    {
     "name": "stderr",
     "output_type": "stream",
     "text": [
      "C:\\Users\\Alexandr\\AppData\\Local\\Temp\\ipykernel_27740\\803111585.py:19: SettingWithCopyWarning: \n",
      "A value is trying to be set on a copy of a slice from a DataFrame.\n",
      "Try using .loc[row_indexer,col_indexer] = value instead\n",
      "\n",
      "See the caveats in the documentation: https://pandas.pydata.org/pandas-docs/stable/user_guide/indexing.html#returning-a-view-versus-a-copy\n",
      "  label_val_df['pred'] = preds\n"
     ]
    },
    {
     "data": {
      "text/plain": "0.1050013092432574"
     },
     "execution_count": 38,
     "metadata": {},
     "output_type": "execute_result"
    }
   ],
   "source": [
    "train_df = pd.read_csv('data/train.csv', sep=';')\n",
    "val_df = pd.read_csv('data/test.csv', sep=';')\n",
    "\n",
    "\n",
    "cat_cols = train_df.select_dtypes(include=['object']).columns.values\n",
    "train_df[cat_cols] = train_df[cat_cols].fillna('NaN')\n",
    "val_df[cat_cols] = val_df[cat_cols].fillna('NaN')\n",
    "\n",
    "# добавляем фич\n",
    "train_df = add_agg_features(train_df)\n",
    "val_df = add_agg_features(val_df)\n",
    "\n",
    "## Simple modeling\n",
    "ctb = CatBoostClassifier(verbose=200, task_type='GPU', random_seed=seed_value)\n",
    "ctb.fit(train_df.drop('label', axis=1), train_df.label, cat_features=cat_cols)\n",
    "label_val_df = val_df[['label']]\n",
    "\n",
    "preds = ctb.predict_proba(val_df.drop('label', axis=1))[:,1]\n",
    "label_val_df['pred'] = preds\n",
    "\n",
    "top5p = int(label_val_df.shape[0] * 0.05)\n",
    "res_response = label_val_df.sort_values('pred', ascending=False).iloc[:top5p].label.sum()/top5p\n",
    "res_response"
   ],
   "metadata": {
    "collapsed": false,
    "pycharm": {
     "name": "#%%\n"
    }
   }
  },
  {
   "cell_type": "code",
   "execution_count": 10,
   "outputs": [
    {
     "name": "stdout",
     "output_type": "stream",
     "text": [
      "Learning rate set to 0.02466\n",
      "0:\tlearn: 0.6459351\ttotal: 228ms\tremaining: 3m 47s\n",
      "200:\tlearn: 0.0917587\ttotal: 18.2s\tremaining: 1m 12s\n",
      "400:\tlearn: 0.0895619\ttotal: 42.9s\tremaining: 1m 4s\n",
      "600:\tlearn: 0.0882322\ttotal: 1m 10s\tremaining: 47s\n",
      "800:\tlearn: 0.0871200\ttotal: 1m 32s\tremaining: 22.9s\n",
      "999:\tlearn: 0.0861629\ttotal: 2m 13s\tremaining: 0us\n"
     ]
    },
    {
     "name": "stderr",
     "output_type": "stream",
     "text": [
      "C:\\Users\\Alexandr\\AppData\\Local\\Temp\\ipykernel_27740\\2365285510.py:16: SettingWithCopyWarning: \n",
      "A value is trying to be set on a copy of a slice from a DataFrame.\n",
      "Try using .loc[row_indexer,col_indexer] = value instead\n",
      "\n",
      "See the caveats in the documentation: https://pandas.pydata.org/pandas-docs/stable/user_guide/indexing.html#returning-a-view-versus-a-copy\n",
      "  label_val_df['pred'] = preds\n"
     ]
    },
    {
     "data": {
      "text/plain": "0.10919088766692851"
     },
     "execution_count": 10,
     "metadata": {},
     "output_type": "execute_result"
    }
   ],
   "source": [
    "# пробуем с данными от кати\n",
    "\n",
    "train_df = pd.read_csv('data/train_catugra.csv', sep=',',  index_col=0)\n",
    "val_df = pd.read_csv('data/test_catugra.csv', sep=',', index_col=0)\n",
    "\n",
    "cat_cols = train_df.select_dtypes(include=['object']).columns.values\n",
    "train_df[cat_cols] = train_df[cat_cols].fillna('NaN')\n",
    "val_df[cat_cols] = val_df[cat_cols].fillna('NaN')\n",
    "\n",
    "\n",
    "ctb = CatBoostClassifier(verbose=200, task_type='GPU', random_seed=seed_value)\n",
    "ctb.fit(train_df.drop('label', axis=1), train_df.label, cat_features=cat_cols)\n",
    "label_val_df = val_df[['label']]\n",
    "\n",
    "preds = ctb.predict_proba(val_df.drop('label', axis=1))[:,1]\n",
    "label_val_df['pred'] = preds\n",
    "\n",
    "top5p = int(label_val_df.shape[0] * 0.05)\n",
    "res_response = label_val_df.sort_values('pred', ascending=False).iloc[:top5p].label.sum()/top5p\n",
    "res_response"
   ],
   "metadata": {
    "collapsed": false,
    "pycharm": {
     "name": "#%%\n"
    }
   }
  },
  {
   "cell_type": "code",
   "execution_count": 11,
   "outputs": [
    {
     "name": "stdout",
     "output_type": "stream",
     "text": [
      "Learning rate set to 0.02466\n",
      "0:\tlearn: 0.6480979\ttotal: 1.65s\tremaining: 27m 30s\n",
      "200:\tlearn: 0.0916542\ttotal: 39.2s\tremaining: 2m 35s\n",
      "400:\tlearn: 0.0894033\ttotal: 1m 22s\tremaining: 2m 3s\n",
      "600:\tlearn: 0.0880655\ttotal: 1m 38s\tremaining: 1m 5s\n",
      "800:\tlearn: 0.0870913\ttotal: 1m 59s\tremaining: 29.7s\n",
      "999:\tlearn: 0.0861618\ttotal: 2m 43s\tremaining: 0us\n"
     ]
    },
    {
     "name": "stderr",
     "output_type": "stream",
     "text": [
      "C:\\Users\\Alexandr\\AppData\\Local\\Temp\\ipykernel_27740\\1350534357.py:9: SettingWithCopyWarning: \n",
      "A value is trying to be set on a copy of a slice from a DataFrame.\n",
      "Try using .loc[row_indexer,col_indexer] = value instead\n",
      "\n",
      "See the caveats in the documentation: https://pandas.pydata.org/pandas-docs/stable/user_guide/indexing.html#returning-a-view-versus-a-copy\n",
      "  label_val_df['pred'] = preds\n"
     ]
    },
    {
     "data": {
      "text/plain": "0.10159727677402461"
     },
     "execution_count": 11,
     "metadata": {},
     "output_type": "execute_result"
    }
   ],
   "source": [
    "train_df = add_agg_features(train_df)\n",
    "val_df = add_agg_features(val_df)\n",
    "\n",
    "ctb = CatBoostClassifier(verbose=200, task_type='GPU', random_seed=seed_value)\n",
    "ctb.fit(train_df.drop('label', axis=1), train_df.label, cat_features=cat_cols)\n",
    "label_val_df = val_df[['label']]\n",
    "\n",
    "preds = ctb.predict_proba(val_df.drop('label', axis=1))[:,1]\n",
    "label_val_df['pred'] = preds\n",
    "\n",
    "top5p = int(label_val_df.shape[0] * 0.05)\n",
    "res_response = label_val_df.sort_values('pred', ascending=False).iloc[:top5p].label.sum()/top5p\n",
    "res_response"
   ],
   "metadata": {
    "collapsed": false,
    "pycharm": {
     "name": "#%%\n"
    }
   }
  },
  {
   "cell_type": "code",
   "execution_count": null,
   "outputs": [],
   "source": [],
   "metadata": {
    "collapsed": false,
    "pycharm": {
     "name": "#%%\n"
    }
   }
  }
 ],
 "metadata": {
  "kernelspec": {
   "display_name": "Python 3",
   "language": "python",
   "name": "python3"
  },
  "language_info": {
   "codemirror_mode": {
    "name": "ipython",
    "version": 2
   },
   "file_extension": ".py",
   "mimetype": "text/x-python",
   "name": "python",
   "nbconvert_exporter": "python",
   "pygments_lexer": "ipython2",
   "version": "2.7.6"
  }
 },
 "nbformat": 4,
 "nbformat_minor": 0
}