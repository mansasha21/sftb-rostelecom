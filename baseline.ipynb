{
 "cells": [
  {
   "cell_type": "code",
   "execution_count": 1,
   "metadata": {
    "collapsed": true,
    "pycharm": {
     "name": "#%%\n"
    }
   },
   "outputs": [],
   "source": [
    "import pandas as pd\n",
    "import numpy as np\n",
    "import matplotlib.pyplot as plt\n",
    "\n",
    "from catboost import CatBoostClassifier"
   ]
  },
  {
   "cell_type": "code",
   "execution_count": 61,
   "outputs": [
    {
     "data": {
      "text/plain": "        Unnamed: 0  label      period      subject_type subject_name  \\\n0                0      1  2020-05-01             Город       Москва   \n1                1      1  2020-05-01             Город       Москва   \n2                2      1  2020-05-01             Город       Москва   \n3                3      1  2020-05-01             Город       Москва   \n4                4      1  2020-05-01             Город       Москва   \n...            ...    ...         ...               ...          ...   \n294253      294253      0  2020-12-01           Область  Магаданская   \n294254      294254      0  2020-12-01           Область  Магаданская   \n294255      294255      0  2020-12-01           Область  Магаданская   \n294256      294256      0  2020-12-01  Автономный Округ    Чукотский   \n294257      294257      0  2020-12-01  Автономный Округ    Чукотский   \n\n       city_name              hex    hex_lat     hex_lon       f1  ...  \\\n0         Москва  8611aa7a7ffffff  55.729458   37.516569  0.00101  ...   \n1         Москва  8611aa01fffffff  55.975851   37.237085  0.00000  ...   \n2         Москва  861181b6fffffff  55.622721   37.695121  0.00339  ...   \n3         Москва  8611aa017ffffff  55.941586   37.157487  0.00048  ...   \n4         Москва  8611aa637ffffff  55.797494   37.676200  0.00164  ...   \n...          ...              ...        ...         ...      ...  ...   \n294253       Ола  8617154afffffff  59.577462  151.294079  0.00045  ...   \n294254   Ягодное  861735767ffffff  62.514463  149.591693  0.00048  ...   \n294255   Магадан  8617142cfffffff  59.598694  150.810630      NaN  ...   \n294256     Певек  8604ebc5fffffff  69.703205  170.185894  0.00001  ...   \n294257     Певек  8604eb1a7ffffff  69.678273  170.350467  0.00001  ...   \n\n        children_subject  rural_subject  services_subject  \\\n0                   15.6            1.6              34.1   \n1                   15.6            1.6              34.1   \n2                   15.6            1.6              34.1   \n3                   15.6            1.6              34.1   \n4                   15.6            1.6              34.1   \n...                  ...            ...               ...   \n294253              18.6            3.9              30.6   \n294254              18.6            3.9              30.6   \n294255              18.6            3.9              30.6   \n294256              22.2           28.8              26.8   \n294257              22.2           28.8              26.8   \n\n        communication_subject  district_population  mean_income_district  \\\n0                         3.3              39251.0               46880.0   \n1                         3.3              39251.0               46880.0   \n2                         3.3              39251.0               46880.0   \n3                         3.3              39251.0               46880.0   \n4                         3.3              39251.0               46880.0   \n...                       ...                  ...                   ...   \n294253                    4.1               8124.0               39822.4   \n294254                    4.1               8124.0               39822.4   \n294255                    4.1               8124.0               39822.4   \n294256                    4.6               8124.0               39822.4   \n294257                    4.6               8124.0               39822.4   \n\n        children_district  rural_district  services_district  \\\n0                    16.6            17.6               28.7   \n1                    16.6            17.6               28.7   \n2                    16.6            17.6               28.7   \n3                    16.6            17.6               28.7   \n4                    16.6            17.6               28.7   \n...                   ...             ...                ...   \n294253               20.8            27.0               25.5   \n294254               20.8            27.0               25.5   \n294255               20.8            27.0               25.5   \n294256               20.8            27.0               25.5   \n294257               20.8            27.0               25.5   \n\n        communication_district  \n0                          3.3  \n1                          3.3  \n2                          3.3  \n3                          3.3  \n4                          3.3  \n...                        ...  \n294253                     3.7  \n294254                     3.7  \n294255                     3.7  \n294256                     3.7  \n294257                     3.7  \n\n[294258 rows x 52 columns]",
      "text/html": "<div>\n<style scoped>\n    .dataframe tbody tr th:only-of-type {\n        vertical-align: middle;\n    }\n\n    .dataframe tbody tr th {\n        vertical-align: top;\n    }\n\n    .dataframe thead th {\n        text-align: right;\n    }\n</style>\n<table border=\"1\" class=\"dataframe\">\n  <thead>\n    <tr style=\"text-align: right;\">\n      <th></th>\n      <th>Unnamed: 0</th>\n      <th>label</th>\n      <th>period</th>\n      <th>subject_type</th>\n      <th>subject_name</th>\n      <th>city_name</th>\n      <th>hex</th>\n      <th>hex_lat</th>\n      <th>hex_lon</th>\n      <th>f1</th>\n      <th>...</th>\n      <th>children_subject</th>\n      <th>rural_subject</th>\n      <th>services_subject</th>\n      <th>communication_subject</th>\n      <th>district_population</th>\n      <th>mean_income_district</th>\n      <th>children_district</th>\n      <th>rural_district</th>\n      <th>services_district</th>\n      <th>communication_district</th>\n    </tr>\n  </thead>\n  <tbody>\n    <tr>\n      <th>0</th>\n      <td>0</td>\n      <td>1</td>\n      <td>2020-05-01</td>\n      <td>Город</td>\n      <td>Москва</td>\n      <td>Москва</td>\n      <td>8611aa7a7ffffff</td>\n      <td>55.729458</td>\n      <td>37.516569</td>\n      <td>0.00101</td>\n      <td>...</td>\n      <td>15.6</td>\n      <td>1.6</td>\n      <td>34.1</td>\n      <td>3.3</td>\n      <td>39251.0</td>\n      <td>46880.0</td>\n      <td>16.6</td>\n      <td>17.6</td>\n      <td>28.7</td>\n      <td>3.3</td>\n    </tr>\n    <tr>\n      <th>1</th>\n      <td>1</td>\n      <td>1</td>\n      <td>2020-05-01</td>\n      <td>Город</td>\n      <td>Москва</td>\n      <td>Москва</td>\n      <td>8611aa01fffffff</td>\n      <td>55.975851</td>\n      <td>37.237085</td>\n      <td>0.00000</td>\n      <td>...</td>\n      <td>15.6</td>\n      <td>1.6</td>\n      <td>34.1</td>\n      <td>3.3</td>\n      <td>39251.0</td>\n      <td>46880.0</td>\n      <td>16.6</td>\n      <td>17.6</td>\n      <td>28.7</td>\n      <td>3.3</td>\n    </tr>\n    <tr>\n      <th>2</th>\n      <td>2</td>\n      <td>1</td>\n      <td>2020-05-01</td>\n      <td>Город</td>\n      <td>Москва</td>\n      <td>Москва</td>\n      <td>861181b6fffffff</td>\n      <td>55.622721</td>\n      <td>37.695121</td>\n      <td>0.00339</td>\n      <td>...</td>\n      <td>15.6</td>\n      <td>1.6</td>\n      <td>34.1</td>\n      <td>3.3</td>\n      <td>39251.0</td>\n      <td>46880.0</td>\n      <td>16.6</td>\n      <td>17.6</td>\n      <td>28.7</td>\n      <td>3.3</td>\n    </tr>\n    <tr>\n      <th>3</th>\n      <td>3</td>\n      <td>1</td>\n      <td>2020-05-01</td>\n      <td>Город</td>\n      <td>Москва</td>\n      <td>Москва</td>\n      <td>8611aa017ffffff</td>\n      <td>55.941586</td>\n      <td>37.157487</td>\n      <td>0.00048</td>\n      <td>...</td>\n      <td>15.6</td>\n      <td>1.6</td>\n      <td>34.1</td>\n      <td>3.3</td>\n      <td>39251.0</td>\n      <td>46880.0</td>\n      <td>16.6</td>\n      <td>17.6</td>\n      <td>28.7</td>\n      <td>3.3</td>\n    </tr>\n    <tr>\n      <th>4</th>\n      <td>4</td>\n      <td>1</td>\n      <td>2020-05-01</td>\n      <td>Город</td>\n      <td>Москва</td>\n      <td>Москва</td>\n      <td>8611aa637ffffff</td>\n      <td>55.797494</td>\n      <td>37.676200</td>\n      <td>0.00164</td>\n      <td>...</td>\n      <td>15.6</td>\n      <td>1.6</td>\n      <td>34.1</td>\n      <td>3.3</td>\n      <td>39251.0</td>\n      <td>46880.0</td>\n      <td>16.6</td>\n      <td>17.6</td>\n      <td>28.7</td>\n      <td>3.3</td>\n    </tr>\n    <tr>\n      <th>...</th>\n      <td>...</td>\n      <td>...</td>\n      <td>...</td>\n      <td>...</td>\n      <td>...</td>\n      <td>...</td>\n      <td>...</td>\n      <td>...</td>\n      <td>...</td>\n      <td>...</td>\n      <td>...</td>\n      <td>...</td>\n      <td>...</td>\n      <td>...</td>\n      <td>...</td>\n      <td>...</td>\n      <td>...</td>\n      <td>...</td>\n      <td>...</td>\n      <td>...</td>\n      <td>...</td>\n    </tr>\n    <tr>\n      <th>294253</th>\n      <td>294253</td>\n      <td>0</td>\n      <td>2020-12-01</td>\n      <td>Область</td>\n      <td>Магаданская</td>\n      <td>Ола</td>\n      <td>8617154afffffff</td>\n      <td>59.577462</td>\n      <td>151.294079</td>\n      <td>0.00045</td>\n      <td>...</td>\n      <td>18.6</td>\n      <td>3.9</td>\n      <td>30.6</td>\n      <td>4.1</td>\n      <td>8124.0</td>\n      <td>39822.4</td>\n      <td>20.8</td>\n      <td>27.0</td>\n      <td>25.5</td>\n      <td>3.7</td>\n    </tr>\n    <tr>\n      <th>294254</th>\n      <td>294254</td>\n      <td>0</td>\n      <td>2020-12-01</td>\n      <td>Область</td>\n      <td>Магаданская</td>\n      <td>Ягодное</td>\n      <td>861735767ffffff</td>\n      <td>62.514463</td>\n      <td>149.591693</td>\n      <td>0.00048</td>\n      <td>...</td>\n      <td>18.6</td>\n      <td>3.9</td>\n      <td>30.6</td>\n      <td>4.1</td>\n      <td>8124.0</td>\n      <td>39822.4</td>\n      <td>20.8</td>\n      <td>27.0</td>\n      <td>25.5</td>\n      <td>3.7</td>\n    </tr>\n    <tr>\n      <th>294255</th>\n      <td>294255</td>\n      <td>0</td>\n      <td>2020-12-01</td>\n      <td>Область</td>\n      <td>Магаданская</td>\n      <td>Магадан</td>\n      <td>8617142cfffffff</td>\n      <td>59.598694</td>\n      <td>150.810630</td>\n      <td>NaN</td>\n      <td>...</td>\n      <td>18.6</td>\n      <td>3.9</td>\n      <td>30.6</td>\n      <td>4.1</td>\n      <td>8124.0</td>\n      <td>39822.4</td>\n      <td>20.8</td>\n      <td>27.0</td>\n      <td>25.5</td>\n      <td>3.7</td>\n    </tr>\n    <tr>\n      <th>294256</th>\n      <td>294256</td>\n      <td>0</td>\n      <td>2020-12-01</td>\n      <td>Автономный Округ</td>\n      <td>Чукотский</td>\n      <td>Певек</td>\n      <td>8604ebc5fffffff</td>\n      <td>69.703205</td>\n      <td>170.185894</td>\n      <td>0.00001</td>\n      <td>...</td>\n      <td>22.2</td>\n      <td>28.8</td>\n      <td>26.8</td>\n      <td>4.6</td>\n      <td>8124.0</td>\n      <td>39822.4</td>\n      <td>20.8</td>\n      <td>27.0</td>\n      <td>25.5</td>\n      <td>3.7</td>\n    </tr>\n    <tr>\n      <th>294257</th>\n      <td>294257</td>\n      <td>0</td>\n      <td>2020-12-01</td>\n      <td>Автономный Округ</td>\n      <td>Чукотский</td>\n      <td>Певек</td>\n      <td>8604eb1a7ffffff</td>\n      <td>69.678273</td>\n      <td>170.350467</td>\n      <td>0.00001</td>\n      <td>...</td>\n      <td>22.2</td>\n      <td>28.8</td>\n      <td>26.8</td>\n      <td>4.6</td>\n      <td>8124.0</td>\n      <td>39822.4</td>\n      <td>20.8</td>\n      <td>27.0</td>\n      <td>25.5</td>\n      <td>3.7</td>\n    </tr>\n  </tbody>\n</table>\n<p>294258 rows × 52 columns</p>\n</div>"
     },
     "execution_count": 61,
     "metadata": {},
     "output_type": "execute_result"
    }
   ],
   "source": [
    "train_df = pd.read_csv('data/train_catugra.csv', sep=',')\n",
    "val_df = pd.read_csv('data/test_catugra.csv', sep=',')\n",
    "\n",
    "train_df"
   ],
   "metadata": {
    "collapsed": false,
    "pycharm": {
     "name": "#%%\n"
    }
   }
  },
  {
   "cell_type": "code",
   "execution_count": 56,
   "outputs": [
    {
     "data": {
      "text/plain": "        Unnamed: 0  label      period subject_type subject_name city_name  \\\n0                0      1  2020-11-01        Город       Москва    Москва   \n1                1      1  2020-11-01        Город       Москва    Москва   \n2                2      1  2020-11-01        Город       Москва    Москва   \n3                3      1  2020-11-01        Город       Москва    Москва   \n4                4      1  2020-11-01        Город       Москва    Москва   \n...            ...    ...         ...          ...          ...       ...   \n152761      152761      0  2021-06-01      Область  Магаданская   Магадан   \n152762      152762      0  2021-06-01      Область  Магаданская   Магадан   \n152763      152763      0  2021-06-01      Область  Магаданская   Магадан   \n152764      152764      0  2021-06-01      Область  Магаданская   Магадан   \n152765      152765      0  2021-06-01      Область  Магаданская   Магадан   \n\n                    hex    hex_lat     hex_lon       f1  ...  \\\n0       8611aa6b7ffffff  55.656639   37.774902  0.00292  ...   \n1       8611aa70fffffff  55.879910   37.583383  0.00265  ...   \n2       8611aa627ffffff  55.855726   37.669858  0.00046  ...   \n3       861181b2fffffff  55.496542   37.542584  0.00304  ...   \n4       8611aa4cfffffff  55.613025   37.529612  0.00183  ...   \n...                 ...        ...         ...      ...  ...   \n152761  8617142efffffff  59.652400  150.759792  0.00024  ...   \n152762  861710967ffffff  59.544997  150.861279  0.00044  ...   \n152763  861710967ffffff  59.544997  150.861279  0.00023  ...   \n152764  861710967ffffff  59.544997  150.861279  0.00022  ...   \n152765  861710967ffffff  59.544997  150.861279  0.00164  ...   \n\n        children_subject  rural_subject  services_subject  \\\n0                   15.6            1.6              34.1   \n1                   15.6            1.6              34.1   \n2                   15.6            1.6              34.1   \n3                   15.6            1.6              34.1   \n4                   15.6            1.6              34.1   \n...                  ...            ...               ...   \n152761              18.6            3.9              30.6   \n152762              18.6            3.9              30.6   \n152763              18.6            3.9              30.6   \n152764              18.6            3.9              30.6   \n152765              18.6            3.9              30.6   \n\n        communication_subject  district_population  mean_income_district  \\\n0                         3.3              39251.0               46880.0   \n1                         3.3              39251.0               46880.0   \n2                         3.3              39251.0               46880.0   \n3                         3.3              39251.0               46880.0   \n4                         3.3              39251.0               46880.0   \n...                       ...                  ...                   ...   \n152761                    4.1               8124.0               39822.4   \n152762                    4.1               8124.0               39822.4   \n152763                    4.1               8124.0               39822.4   \n152764                    4.1               8124.0               39822.4   \n152765                    4.1               8124.0               39822.4   \n\n        children_district  rural_district  services_district  \\\n0                    16.6            17.6               28.7   \n1                    16.6            17.6               28.7   \n2                    16.6            17.6               28.7   \n3                    16.6            17.6               28.7   \n4                    16.6            17.6               28.7   \n...                   ...             ...                ...   \n152761               20.8            27.0               25.5   \n152762               20.8            27.0               25.5   \n152763               20.8            27.0               25.5   \n152764               20.8            27.0               25.5   \n152765               20.8            27.0               25.5   \n\n        communication_district  \n0                          3.3  \n1                          3.3  \n2                          3.3  \n3                          3.3  \n4                          3.3  \n...                        ...  \n152761                     3.7  \n152762                     3.7  \n152763                     3.7  \n152764                     3.7  \n152765                     3.7  \n\n[152766 rows x 52 columns]",
      "text/html": "<div>\n<style scoped>\n    .dataframe tbody tr th:only-of-type {\n        vertical-align: middle;\n    }\n\n    .dataframe tbody tr th {\n        vertical-align: top;\n    }\n\n    .dataframe thead th {\n        text-align: right;\n    }\n</style>\n<table border=\"1\" class=\"dataframe\">\n  <thead>\n    <tr style=\"text-align: right;\">\n      <th></th>\n      <th>Unnamed: 0</th>\n      <th>label</th>\n      <th>period</th>\n      <th>subject_type</th>\n      <th>subject_name</th>\n      <th>city_name</th>\n      <th>hex</th>\n      <th>hex_lat</th>\n      <th>hex_lon</th>\n      <th>f1</th>\n      <th>...</th>\n      <th>children_subject</th>\n      <th>rural_subject</th>\n      <th>services_subject</th>\n      <th>communication_subject</th>\n      <th>district_population</th>\n      <th>mean_income_district</th>\n      <th>children_district</th>\n      <th>rural_district</th>\n      <th>services_district</th>\n      <th>communication_district</th>\n    </tr>\n  </thead>\n  <tbody>\n    <tr>\n      <th>0</th>\n      <td>0</td>\n      <td>1</td>\n      <td>2020-11-01</td>\n      <td>Город</td>\n      <td>Москва</td>\n      <td>Москва</td>\n      <td>8611aa6b7ffffff</td>\n      <td>55.656639</td>\n      <td>37.774902</td>\n      <td>0.00292</td>\n      <td>...</td>\n      <td>15.6</td>\n      <td>1.6</td>\n      <td>34.1</td>\n      <td>3.3</td>\n      <td>39251.0</td>\n      <td>46880.0</td>\n      <td>16.6</td>\n      <td>17.6</td>\n      <td>28.7</td>\n      <td>3.3</td>\n    </tr>\n    <tr>\n      <th>1</th>\n      <td>1</td>\n      <td>1</td>\n      <td>2020-11-01</td>\n      <td>Город</td>\n      <td>Москва</td>\n      <td>Москва</td>\n      <td>8611aa70fffffff</td>\n      <td>55.879910</td>\n      <td>37.583383</td>\n      <td>0.00265</td>\n      <td>...</td>\n      <td>15.6</td>\n      <td>1.6</td>\n      <td>34.1</td>\n      <td>3.3</td>\n      <td>39251.0</td>\n      <td>46880.0</td>\n      <td>16.6</td>\n      <td>17.6</td>\n      <td>28.7</td>\n      <td>3.3</td>\n    </tr>\n    <tr>\n      <th>2</th>\n      <td>2</td>\n      <td>1</td>\n      <td>2020-11-01</td>\n      <td>Город</td>\n      <td>Москва</td>\n      <td>Москва</td>\n      <td>8611aa627ffffff</td>\n      <td>55.855726</td>\n      <td>37.669858</td>\n      <td>0.00046</td>\n      <td>...</td>\n      <td>15.6</td>\n      <td>1.6</td>\n      <td>34.1</td>\n      <td>3.3</td>\n      <td>39251.0</td>\n      <td>46880.0</td>\n      <td>16.6</td>\n      <td>17.6</td>\n      <td>28.7</td>\n      <td>3.3</td>\n    </tr>\n    <tr>\n      <th>3</th>\n      <td>3</td>\n      <td>1</td>\n      <td>2020-11-01</td>\n      <td>Город</td>\n      <td>Москва</td>\n      <td>Москва</td>\n      <td>861181b2fffffff</td>\n      <td>55.496542</td>\n      <td>37.542584</td>\n      <td>0.00304</td>\n      <td>...</td>\n      <td>15.6</td>\n      <td>1.6</td>\n      <td>34.1</td>\n      <td>3.3</td>\n      <td>39251.0</td>\n      <td>46880.0</td>\n      <td>16.6</td>\n      <td>17.6</td>\n      <td>28.7</td>\n      <td>3.3</td>\n    </tr>\n    <tr>\n      <th>4</th>\n      <td>4</td>\n      <td>1</td>\n      <td>2020-11-01</td>\n      <td>Город</td>\n      <td>Москва</td>\n      <td>Москва</td>\n      <td>8611aa4cfffffff</td>\n      <td>55.613025</td>\n      <td>37.529612</td>\n      <td>0.00183</td>\n      <td>...</td>\n      <td>15.6</td>\n      <td>1.6</td>\n      <td>34.1</td>\n      <td>3.3</td>\n      <td>39251.0</td>\n      <td>46880.0</td>\n      <td>16.6</td>\n      <td>17.6</td>\n      <td>28.7</td>\n      <td>3.3</td>\n    </tr>\n    <tr>\n      <th>...</th>\n      <td>...</td>\n      <td>...</td>\n      <td>...</td>\n      <td>...</td>\n      <td>...</td>\n      <td>...</td>\n      <td>...</td>\n      <td>...</td>\n      <td>...</td>\n      <td>...</td>\n      <td>...</td>\n      <td>...</td>\n      <td>...</td>\n      <td>...</td>\n      <td>...</td>\n      <td>...</td>\n      <td>...</td>\n      <td>...</td>\n      <td>...</td>\n      <td>...</td>\n      <td>...</td>\n    </tr>\n    <tr>\n      <th>152761</th>\n      <td>152761</td>\n      <td>0</td>\n      <td>2021-06-01</td>\n      <td>Область</td>\n      <td>Магаданская</td>\n      <td>Магадан</td>\n      <td>8617142efffffff</td>\n      <td>59.652400</td>\n      <td>150.759792</td>\n      <td>0.00024</td>\n      <td>...</td>\n      <td>18.6</td>\n      <td>3.9</td>\n      <td>30.6</td>\n      <td>4.1</td>\n      <td>8124.0</td>\n      <td>39822.4</td>\n      <td>20.8</td>\n      <td>27.0</td>\n      <td>25.5</td>\n      <td>3.7</td>\n    </tr>\n    <tr>\n      <th>152762</th>\n      <td>152762</td>\n      <td>0</td>\n      <td>2021-06-01</td>\n      <td>Область</td>\n      <td>Магаданская</td>\n      <td>Магадан</td>\n      <td>861710967ffffff</td>\n      <td>59.544997</td>\n      <td>150.861279</td>\n      <td>0.00044</td>\n      <td>...</td>\n      <td>18.6</td>\n      <td>3.9</td>\n      <td>30.6</td>\n      <td>4.1</td>\n      <td>8124.0</td>\n      <td>39822.4</td>\n      <td>20.8</td>\n      <td>27.0</td>\n      <td>25.5</td>\n      <td>3.7</td>\n    </tr>\n    <tr>\n      <th>152763</th>\n      <td>152763</td>\n      <td>0</td>\n      <td>2021-06-01</td>\n      <td>Область</td>\n      <td>Магаданская</td>\n      <td>Магадан</td>\n      <td>861710967ffffff</td>\n      <td>59.544997</td>\n      <td>150.861279</td>\n      <td>0.00023</td>\n      <td>...</td>\n      <td>18.6</td>\n      <td>3.9</td>\n      <td>30.6</td>\n      <td>4.1</td>\n      <td>8124.0</td>\n      <td>39822.4</td>\n      <td>20.8</td>\n      <td>27.0</td>\n      <td>25.5</td>\n      <td>3.7</td>\n    </tr>\n    <tr>\n      <th>152764</th>\n      <td>152764</td>\n      <td>0</td>\n      <td>2021-06-01</td>\n      <td>Область</td>\n      <td>Магаданская</td>\n      <td>Магадан</td>\n      <td>861710967ffffff</td>\n      <td>59.544997</td>\n      <td>150.861279</td>\n      <td>0.00022</td>\n      <td>...</td>\n      <td>18.6</td>\n      <td>3.9</td>\n      <td>30.6</td>\n      <td>4.1</td>\n      <td>8124.0</td>\n      <td>39822.4</td>\n      <td>20.8</td>\n      <td>27.0</td>\n      <td>25.5</td>\n      <td>3.7</td>\n    </tr>\n    <tr>\n      <th>152765</th>\n      <td>152765</td>\n      <td>0</td>\n      <td>2021-06-01</td>\n      <td>Область</td>\n      <td>Магаданская</td>\n      <td>Магадан</td>\n      <td>861710967ffffff</td>\n      <td>59.544997</td>\n      <td>150.861279</td>\n      <td>0.00164</td>\n      <td>...</td>\n      <td>18.6</td>\n      <td>3.9</td>\n      <td>30.6</td>\n      <td>4.1</td>\n      <td>8124.0</td>\n      <td>39822.4</td>\n      <td>20.8</td>\n      <td>27.0</td>\n      <td>25.5</td>\n      <td>3.7</td>\n    </tr>\n  </tbody>\n</table>\n<p>152766 rows × 52 columns</p>\n</div>"
     },
     "execution_count": 56,
     "metadata": {},
     "output_type": "execute_result"
    }
   ],
   "source": [
    "val_df"
   ],
   "metadata": {
    "collapsed": false,
    "pycharm": {
     "name": "#%%\n"
    }
   }
  },
  {
   "cell_type": "code",
   "execution_count": 57,
   "outputs": [
    {
     "name": "stdout",
     "output_type": "stream",
     "text": [
      "<class 'pandas.core.frame.DataFrame'>\n",
      "RangeIndex: 294258 entries, 0 to 294257\n",
      "Data columns (total 52 columns):\n",
      " #   Column                  Non-Null Count   Dtype  \n",
      "---  ------                  --------------   -----  \n",
      " 0   Unnamed: 0              294258 non-null  int64  \n",
      " 1   label                   294258 non-null  int64  \n",
      " 2   period                  294258 non-null  object \n",
      " 3   subject_type            294258 non-null  object \n",
      " 4   subject_name            294258 non-null  object \n",
      " 5   city_name               294247 non-null  object \n",
      " 6   hex                     294258 non-null  object \n",
      " 7   hex_lat                 294258 non-null  float64\n",
      " 8   hex_lon                 294258 non-null  float64\n",
      " 9   f1                      258144 non-null  float64\n",
      " 10  f2                      262930 non-null  float64\n",
      " 11  f3                      265786 non-null  float64\n",
      " 12  f4                      279564 non-null  float64\n",
      " 13  f5                      279564 non-null  float64\n",
      " 14  f6                      281984 non-null  float64\n",
      " 15  f7                      148829 non-null  float64\n",
      " 16  f8                      280209 non-null  float64\n",
      " 17  f9                      280209 non-null  float64\n",
      " 18  f10                     294258 non-null  float64\n",
      " 19  f11                     294258 non-null  float64\n",
      " 20  f12                     294258 non-null  float64\n",
      " 21  f13                     166853 non-null  float64\n",
      " 22  f14                     286618 non-null  float64\n",
      " 23  f15                     277160 non-null  float64\n",
      " 24  f16                     153723 non-null  float64\n",
      " 25  f17                     148829 non-null  float64\n",
      " 26  f18                     294124 non-null  float64\n",
      " 27  f19                     286899 non-null  float64\n",
      " 28  f20                     286899 non-null  float64\n",
      " 29  f21                     286899 non-null  float64\n",
      " 30  f22                     286899 non-null  float64\n",
      " 31  f23                     286899 non-null  float64\n",
      " 32  f24                     167474 non-null  float64\n",
      " 33  f25                     167474 non-null  float64\n",
      " 34  f26                     167474 non-null  float64\n",
      " 35  f27                     167474 non-null  float64\n",
      " 36  f28                     167474 non-null  float64\n",
      " 37  f29                     286899 non-null  float64\n",
      " 38  f30                     286899 non-null  float64\n",
      " 39  mean_income_subject     294258 non-null  int64  \n",
      " 40  subject_population      294258 non-null  float64\n",
      " 41  district                294258 non-null  object \n",
      " 42  children_subject        294258 non-null  float64\n",
      " 43  rural_subject           294258 non-null  float64\n",
      " 44  services_subject        294258 non-null  float64\n",
      " 45  communication_subject   294258 non-null  float64\n",
      " 46  district_population     294258 non-null  float64\n",
      " 47  mean_income_district    294258 non-null  float64\n",
      " 48  children_district       294258 non-null  float64\n",
      " 49  rural_district          294258 non-null  float64\n",
      " 50  services_district       294258 non-null  float64\n",
      " 51  communication_district  294258 non-null  float64\n",
      "dtypes: float64(43), int64(3), object(6)\n",
      "memory usage: 116.7+ MB\n"
     ]
    }
   ],
   "source": [
    "train_df.info()"
   ],
   "metadata": {
    "collapsed": false,
    "pycharm": {
     "name": "#%%\n"
    }
   }
  },
  {
   "cell_type": "markdown",
   "source": [
    "## Random modeling"
   ],
   "metadata": {
    "collapsed": false,
    "pycharm": {
     "name": "#%% md\n"
    }
   }
  },
  {
   "cell_type": "code",
   "execution_count": 59,
   "outputs": [
    {
     "data": {
      "text/plain": "(0.02710133542812255,\n [0.030243519245875882,\n  0.012045037968054464,\n  0.02958889761717727,\n  0.03233830845771144,\n  0.03129091385179366])"
     },
     "execution_count": 59,
     "metadata": {},
     "output_type": "execute_result"
    }
   ],
   "source": [
    "N = 5\n",
    "top5p = int(val_df.shape[0] * 0.05)\n",
    "random_res = []\n",
    "\n",
    "for i in range(N):\n",
    "    preds = val_df.label.sample(val_df.shape[0]).reset_index(drop=True)\n",
    "    val_df['pred'] = preds\n",
    "    random_res.append(val_df.sort_values('pred', ascending=False).iloc[:top5p].label.sum()/top5p)\n",
    "\n",
    "np.mean(random_res), random_res"
   ],
   "metadata": {
    "collapsed": false,
    "pycharm": {
     "name": "#%%\n"
    }
   }
  },
  {
   "cell_type": "code",
   "execution_count": 44,
   "outputs": [
    {
     "data": {
      "text/plain": "152"
     },
     "execution_count": 44,
     "metadata": {},
     "output_type": "execute_result"
    }
   ],
   "source": [
    "val_df.label.sample(val_df.shape[0]).iloc[:top5p].sum()"
   ],
   "metadata": {
    "collapsed": false,
    "pycharm": {
     "name": "#%%\n"
    }
   }
  },
  {
   "cell_type": "markdown",
   "source": [
    "## Response modeling"
   ],
   "metadata": {
    "collapsed": false,
    "pycharm": {
     "name": "#%% md\n"
    }
   }
  },
  {
   "cell_type": "code",
   "execution_count": 62,
   "outputs": [
    {
     "name": "stdout",
     "output_type": "stream",
     "text": [
      "Learning rate set to 0.02466\n",
      "0:\tlearn: 0.6450974\ttotal: 87.1ms\tremaining: 1m 27s\n",
      "200:\tlearn: 0.0762588\ttotal: 34.5s\tremaining: 2m 17s\n",
      "400:\tlearn: 0.0689701\ttotal: 50.6s\tremaining: 1m 15s\n",
      "600:\tlearn: 0.0660056\ttotal: 1m 12s\tremaining: 48.3s\n",
      "800:\tlearn: 0.0635397\ttotal: 1m 34s\tremaining: 23.4s\n",
      "999:\tlearn: 0.0617716\ttotal: 2m 1s\tremaining: 0us\n"
     ]
    },
    {
     "data": {
      "text/plain": "<catboost.core.CatBoostClassifier at 0x179d0d43be0>"
     },
     "execution_count": 62,
     "metadata": {},
     "output_type": "execute_result"
    }
   ],
   "source": [
    "cat_cols = train_df.select_dtypes(include=['object']).columns.values\n",
    "train_df[cat_cols] = train_df[cat_cols].fillna('NaN')\n",
    "val_df[cat_cols] = val_df[cat_cols].fillna('NaN')\n",
    "\n",
    "\n",
    "ctb = CatBoostClassifier(verbose=200, task_type='GPU')\n",
    "ctb.fit(train_df.drop('label', axis=1), train_df.label, cat_features=cat_cols)\n"
   ],
   "metadata": {
    "collapsed": false,
    "pycharm": {
     "name": "#%%\n"
    }
   }
  },
  {
   "cell_type": "code",
   "execution_count": 64,
   "outputs": [],
   "source": [
    "val_df = pd.read_csv('data/test_catugra.csv', sep=',')\n",
    "val_df[cat_cols] = val_df[cat_cols].fillna('NaN')\n",
    "\n",
    "preds = ctb.predict_proba(val_df.drop('label', axis=1))[:,1]\n",
    "val_df['pred'] = preds"
   ],
   "metadata": {
    "collapsed": false,
    "pycharm": {
     "name": "#%%\n"
    }
   }
  },
  {
   "cell_type": "code",
   "execution_count": 65,
   "outputs": [
    {
     "data": {
      "text/plain": "0.10971458496988741"
     },
     "execution_count": 65,
     "metadata": {},
     "output_type": "execute_result"
    }
   ],
   "source": [
    "top5p = int(val_df.shape[0] * 0.05)\n",
    "res_response = val_df.sort_values('pred', ascending=False).iloc[:top5p].label.sum()/top5p\n",
    "res_response"
   ],
   "metadata": {
    "collapsed": false,
    "pycharm": {
     "name": "#%%\n"
    }
   }
  },
  {
   "cell_type": "markdown",
   "source": [],
   "metadata": {
    "collapsed": false,
    "pycharm": {
     "name": "#%% md\n"
    }
   }
  },
  {
   "cell_type": "code",
   "execution_count": 21,
   "outputs": [],
   "source": [],
   "metadata": {
    "collapsed": false,
    "pycharm": {
     "name": "#%%\n"
    }
   }
  }
 ],
 "metadata": {
  "kernelspec": {
   "display_name": "Python 3",
   "language": "python",
   "name": "python3"
  },
  "language_info": {
   "codemirror_mode": {
    "name": "ipython",
    "version": 2
   },
   "file_extension": ".py",
   "mimetype": "text/x-python",
   "name": "python",
   "nbconvert_exporter": "python",
   "pygments_lexer": "ipython2",
   "version": "2.7.6"
  }
 },
 "nbformat": 4,
 "nbformat_minor": 0
}