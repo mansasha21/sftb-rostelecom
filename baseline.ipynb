{
 "cells": [
  {
   "cell_type": "markdown",
   "source": [
    "## Результаты\n",
    "| Model                    | P@5    |\n",
    "|--------------------------|--------|\n",
    "| Random                   | 0.0093 |\n",
    "| Catboost                 | 0.1057 |\n",
    "| Catboost + fe            | 0.1026 |\n",
    "| Catboost + add_data      | 0.1091 |\n",
    "| Catboost + add_data + fe | 0.1015 |\n"
   ],
   "metadata": {
    "collapsed": false,
    "pycharm": {
     "name": "#%% md\n"
    }
   }
  },
  {
   "cell_type": "code",
   "execution_count": 1,
   "metadata": {
    "collapsed": true,
    "pycharm": {
     "name": "#%%\n"
    }
   },
   "outputs": [],
   "source": [
    "import os\n",
    "import random\n",
    "\n",
    "import pandas as pd\n",
    "import numpy as np\n",
    "import matplotlib.pyplot as plt\n",
    "\n",
    "from catboost import CatBoostClassifier"
   ]
  },
  {
   "cell_type": "code",
   "execution_count": 2,
   "outputs": [],
   "source": [
    "def fix_seed(seed_value):\n",
    "    os.environ['PYTHONHASHSEED']=str(seed_value)\n",
    "    random.seed(seed_value)\n",
    "    np.random.seed(seed_value)\n",
    "\n",
    "seed_value = 7575\n",
    "fix_seed(seed_value)"
   ],
   "metadata": {
    "collapsed": false,
    "pycharm": {
     "name": "#%%\n"
    }
   }
  },
  {
   "cell_type": "code",
   "execution_count": 116,
   "outputs": [],
   "source": [
    "# class Pipeline:\n",
    "#     def __init__(self, train_path, val_path, test_path=None, data_loader=None, data_prep=None, model=None, **kwargs):\n",
    "#         \"\"\"\n",
    "#\n",
    "#         :param train_path:\n",
    "#         :param val_path:\n",
    "#         :param test_path:\n",
    "#         :param data_loader: implements method load\n",
    "#         :param data_prep: implements methods fit transform\n",
    "#         :param model: implements methods fit, predict_proba\n",
    "#         \"\"\"\n",
    "#         if data_loader:\n",
    "#             self.data_loader = data_loader()\n",
    "#         else:\n",
    "#             self.train_df = pd.read_csv(train_path)\n",
    "#             self.val_df = pd.read_csv(val_path)\n",
    "#             if test_path:\n",
    "#                 self.test_df = pd.read_csv(test_path)\n",
    "#\n",
    "#         self.data_prep = data_prep()\n",
    "#         self.model = model(**kwargs)\n",
    "#\n",
    "#     def fit(self, **fit_params):\n",
    "#         train_df\n",
    "\n",
    "\n",
    "# train_df = pd.read_csv('data/train_catugra.csv', sep=',',  index_col=0)\n",
    "# val_df = pd.read_csv('data/test_catugra.csv', sep=',', index_col=0)"
   ],
   "metadata": {
    "collapsed": false,
    "pycharm": {
     "name": "#%%\n"
    }
   }
  },
  {
   "cell_type": "markdown",
   "source": [
    "## Оценка сырых данных"
   ],
   "metadata": {
    "collapsed": false,
    "pycharm": {
     "name": "#%% md\n"
    }
   }
  },
  {
   "cell_type": "code",
   "execution_count": 16,
   "outputs": [],
   "source": [
    "train_df = pd.read_csv('data/train.csv', sep=';')\n",
    "val_df = pd.read_csv('data/test.csv', sep=';')"
   ],
   "metadata": {
    "collapsed": false,
    "pycharm": {
     "name": "#%%\n"
    }
   }
  },
  {
   "cell_type": "code",
   "execution_count": 119,
   "outputs": [
    {
     "name": "stderr",
     "output_type": "stream",
     "text": [
      "C:\\Users\\Alexandr\\AppData\\Local\\Temp\\ipykernel_18664\\1744417879.py:10: SettingWithCopyWarning: \n",
      "A value is trying to be set on a copy of a slice from a DataFrame.\n",
      "Try using .loc[row_indexer,col_indexer] = value instead\n",
      "\n",
      "See the caveats in the documentation: https://pandas.pydata.org/pandas-docs/stable/user_guide/indexing.html#returning-a-view-versus-a-copy\n",
      "  label_val_df['pred'] = preds\n"
     ]
    },
    {
     "data": {
      "text/plain": "(0.009347996857816182,\n [0.008771929824561403,\n  0.00968840010473946,\n  0.010081173081958628,\n  0.008379156847342237,\n  0.009819324430479183])"
     },
     "execution_count": 119,
     "metadata": {},
     "output_type": "execute_result"
    }
   ],
   "source": [
    "# random modeling\n",
    "N = 5\n",
    "top5p = int(val_df.shape[0] * 0.05)\n",
    "random_res = []\n",
    "\n",
    "label_val_df = val_df[['label']]\n",
    "\n",
    "for i in range(N):\n",
    "    preds = label_val_df.label.sample(val_df.shape[0]).reset_index(drop=True)\n",
    "    label_val_df['pred'] = preds\n",
    "    random_res.append(label_val_df.sort_values('pred', ascending=False).iloc[:top5p].label.sum()/top5p)\n",
    "\n",
    "np.mean(random_res), random_res"
   ],
   "metadata": {
    "collapsed": false,
    "pycharm": {
     "name": "#%%\n"
    }
   }
  },
  {
   "cell_type": "code",
   "execution_count": 120,
   "outputs": [
    {
     "name": "stdout",
     "output_type": "stream",
     "text": [
      "Learning rate set to 0.02466\n",
      "0:\tlearn: 0.6470023\ttotal: 361ms\tremaining: 6m\n",
      "200:\tlearn: 0.0918462\ttotal: 29.8s\tremaining: 1m 58s\n",
      "400:\tlearn: 0.0897373\ttotal: 54.2s\tremaining: 1m 20s\n",
      "600:\tlearn: 0.0884431\ttotal: 1m 44s\tremaining: 1m 9s\n",
      "800:\tlearn: 0.0874101\ttotal: 2m 22s\tremaining: 35.5s\n",
      "999:\tlearn: 0.0865075\ttotal: 3m 3s\tremaining: 0us\n"
     ]
    },
    {
     "name": "stderr",
     "output_type": "stream",
     "text": [
      "C:\\Users\\Alexandr\\AppData\\Local\\Temp\\ipykernel_18664\\3371511455.py:13: SettingWithCopyWarning: \n",
      "A value is trying to be set on a copy of a slice from a DataFrame.\n",
      "Try using .loc[row_indexer,col_indexer] = value instead\n",
      "\n",
      "See the caveats in the documentation: https://pandas.pydata.org/pandas-docs/stable/user_guide/indexing.html#returning-a-view-versus-a-copy\n",
      "  label_val_df['pred'] = preds\n"
     ]
    },
    {
     "data": {
      "text/plain": "0.10578685519769573"
     },
     "execution_count": 120,
     "metadata": {},
     "output_type": "execute_result"
    }
   ],
   "source": [
    "## Simple modeling\n",
    "\n",
    "cat_cols = train_df.select_dtypes(include=['object']).columns.values\n",
    "train_df[cat_cols] = train_df[cat_cols].fillna('NaN')\n",
    "val_df[cat_cols] = val_df[cat_cols].fillna('NaN')\n",
    "\n",
    "\n",
    "ctb = CatBoostClassifier(verbose=200, task_type='GPU', random_seed=seed_value)\n",
    "ctb.fit(train_df.drop('label', axis=1), train_df.label, cat_features=cat_cols)\n",
    "label_val_df = val_df[['label']]\n",
    "\n",
    "preds = ctb.predict_proba(val_df.drop('label', axis=1))[:,1]\n",
    "label_val_df['pred'] = preds\n",
    "\n",
    "top5p = int(label_val_df.shape[0] * 0.05)\n",
    "res_response = label_val_df.sort_values('pred', ascending=False).iloc[:top5p].label.sum()/top5p\n",
    "res_response"
   ],
   "metadata": {
    "collapsed": false,
    "pycharm": {
     "name": "#%%\n"
    }
   }
  },
  {
   "cell_type": "markdown",
   "source": [
    "# Data Preparation"
   ],
   "metadata": {
    "collapsed": false,
    "pycharm": {
     "name": "#%% md\n"
    }
   }
  },
  {
   "cell_type": "code",
   "execution_count": 36,
   "outputs": [],
   "source": [
    "def add_agg_features(df):\n",
    "    df = df.copy()\n",
    "    subj_feat = df[['subject_name'] + [f'f{i}' for i in range(1, 31)]].\\\n",
    "        groupby('subject_name').\\\n",
    "        agg({f\"f{i}\":[min, max, np.mean, np.std, sum, np.median, pd.Series.skew, pd.Series.kurtosis] for i in range(1,31)})\n",
    "\n",
    "    features_names_subject = np.array([col + '_subject_' + stat for col in [f'f{i}' for i in range(1, 31)]\n",
    "                                       for stat in ['min', 'max', 'mean', 'std','sum', 'median', 'skew', 'kurtosis']]).flatten().tolist()\n",
    "\n",
    "    # city_feat = df[['city_name'] + [f'f{i}' for i in range(1, 31)]].groupby('city_name').agg(\n",
    "    #     {f\"f{i}\": [min, max, np.mean, np.std, sum, np.median, pd.Series.skew, pd.Series.kurtosis] for i in range(1, 31)})\n",
    "    #\n",
    "    # features_city_subject = np.array([col + '_city_' + stat for col in [f'f{i}' for i in range(1, 31)]\n",
    "    #                                    for stat in ['min', 'max', 'mean', 'std', 'sum', 'median', 'skew','kurtosis']]).flatten().tolist()\n",
    "\n",
    "    # subjt_feat = df[['subject_type'] + [f'f{i}' for i in range(1, 31)]].groupby('subject_type').agg(\n",
    "    #     {f\"f{i}\": [min, max, np.mean, np.std, sum, np.median, pd.Series.skew, pd.Series.kurtosis] for i in range(1, 31)})\n",
    "    #\n",
    "    # features_t_subject = np.array([col + '_subjt_' + stat for col in [f'f{i}' for i in range(1, 31)]\n",
    "    #                                   for stat in ['min', 'max', 'mean', 'std', 'sum', 'median', 'skew','kurtosis']]).flatten().tolist()\n",
    "\n",
    "    subj_df = pd.DataFrame(subj_feat.values, columns=features_names_subject)\n",
    "    subj_df['subject_name'] = subj_feat.index\n",
    "\n",
    "    # city_df = pd.DataFrame(city_feat.values, columns=features_city_subject)\n",
    "    # city_df['city_name'] = city_feat.index\n",
    "\n",
    "    # subjt_df = pd.DataFrame(subjt_feat.values, columns=features_t_subject)\n",
    "    # subjt_df['subject_type'] = subjt_feat.index\n",
    "    df = df.merge(subj_df, on='subject_name')#.merge(city_df, on='city_name')#.merge(subjt_df, on='subject_type')\n",
    "    return df"
   ],
   "metadata": {
    "collapsed": false,
    "pycharm": {
     "name": "#%%\n"
    }
   }
  },
  {
   "cell_type": "code",
   "execution_count": 38,
   "outputs": [
    {
     "name": "stdout",
     "output_type": "stream",
     "text": [
      "Learning rate set to 0.02466\n",
      "0:\tlearn: 0.6462937\ttotal: 257ms\tremaining: 4m 16s\n",
      "200:\tlearn: 0.0916607\ttotal: 11.6s\tremaining: 46s\n",
      "400:\tlearn: 0.0892890\ttotal: 24.4s\tremaining: 36.4s\n",
      "600:\tlearn: 0.0878918\ttotal: 40.7s\tremaining: 27s\n",
      "800:\tlearn: 0.0867803\ttotal: 1m 3s\tremaining: 15.8s\n",
      "999:\tlearn: 0.0858101\ttotal: 1m 28s\tremaining: 0us\n"
     ]
    },
    {
     "name": "stderr",
     "output_type": "stream",
     "text": [
      "C:\\Users\\Alexandr\\AppData\\Local\\Temp\\ipykernel_27740\\803111585.py:19: SettingWithCopyWarning: \n",
      "A value is trying to be set on a copy of a slice from a DataFrame.\n",
      "Try using .loc[row_indexer,col_indexer] = value instead\n",
      "\n",
      "See the caveats in the documentation: https://pandas.pydata.org/pandas-docs/stable/user_guide/indexing.html#returning-a-view-versus-a-copy\n",
      "  label_val_df['pred'] = preds\n"
     ]
    },
    {
     "data": {
      "text/plain": "0.1050013092432574"
     },
     "execution_count": 38,
     "metadata": {},
     "output_type": "execute_result"
    }
   ],
   "source": [
    "train_df = pd.read_csv('data/train.csv', sep=';')\n",
    "val_df = pd.read_csv('data/test.csv', sep=';')\n",
    "\n",
    "\n",
    "cat_cols = train_df.select_dtypes(include=['object']).columns.values\n",
    "train_df[cat_cols] = train_df[cat_cols].fillna('NaN')\n",
    "val_df[cat_cols] = val_df[cat_cols].fillna('NaN')\n",
    "\n",
    "# добавляем фич\n",
    "train_df = add_agg_features(train_df)\n",
    "val_df = add_agg_features(val_df)\n",
    "\n",
    "## Simple modeling\n",
    "ctb = CatBoostClassifier(verbose=200, task_type='GPU', random_seed=seed_value)\n",
    "ctb.fit(train_df.drop('label', axis=1), train_df.label, cat_features=cat_cols)\n",
    "label_val_df = val_df[['label']]\n",
    "\n",
    "preds = ctb.predict_proba(val_df.drop('label', axis=1))[:,1]\n",
    "label_val_df['pred'] = preds\n",
    "\n",
    "top5p = int(label_val_df.shape[0] * 0.05)\n",
    "res_response = label_val_df.sort_values('pred', ascending=False).iloc[:top5p].label.sum()/top5p\n",
    "res_response"
   ],
   "metadata": {
    "collapsed": false,
    "pycharm": {
     "name": "#%%\n"
    }
   }
  },
  {
   "cell_type": "code",
   "execution_count": 10,
   "outputs": [
    {
     "name": "stdout",
     "output_type": "stream",
     "text": [
      "Learning rate set to 0.02466\n",
      "0:\tlearn: 0.6459351\ttotal: 228ms\tremaining: 3m 47s\n",
      "200:\tlearn: 0.0917587\ttotal: 18.2s\tremaining: 1m 12s\n",
      "400:\tlearn: 0.0895619\ttotal: 42.9s\tremaining: 1m 4s\n",
      "600:\tlearn: 0.0882322\ttotal: 1m 10s\tremaining: 47s\n",
      "800:\tlearn: 0.0871200\ttotal: 1m 32s\tremaining: 22.9s\n",
      "999:\tlearn: 0.0861629\ttotal: 2m 13s\tremaining: 0us\n"
     ]
    },
    {
     "name": "stderr",
     "output_type": "stream",
     "text": [
      "C:\\Users\\Alexandr\\AppData\\Local\\Temp\\ipykernel_27740\\2365285510.py:16: SettingWithCopyWarning: \n",
      "A value is trying to be set on a copy of a slice from a DataFrame.\n",
      "Try using .loc[row_indexer,col_indexer] = value instead\n",
      "\n",
      "See the caveats in the documentation: https://pandas.pydata.org/pandas-docs/stable/user_guide/indexing.html#returning-a-view-versus-a-copy\n",
      "  label_val_df['pred'] = preds\n"
     ]
    },
    {
     "data": {
      "text/plain": "0.10919088766692851"
     },
     "execution_count": 10,
     "metadata": {},
     "output_type": "execute_result"
    }
   ],
   "source": [
    "# пробуем с данными от кати\n",
    "\n",
    "train_df = pd.read_csv('data/train_catugra.csv', sep=',',  index_col=0)\n",
    "val_df = pd.read_csv('data/test_catugra.csv', sep=',', index_col=0)\n",
    "\n",
    "cat_cols = train_df.select_dtypes(include=['object']).columns.values\n",
    "train_df[cat_cols] = train_df[cat_cols].fillna('NaN')\n",
    "val_df[cat_cols] = val_df[cat_cols].fillna('NaN')\n",
    "\n",
    "\n",
    "ctb = CatBoostClassifier(verbose=200, task_type='GPU', random_seed=seed_value)\n",
    "ctb.fit(train_df.drop('label', axis=1), train_df.label, cat_features=cat_cols)\n",
    "label_val_df = val_df[['label']]\n",
    "\n",
    "preds = ctb.predict_proba(val_df.drop('label', axis=1))[:,1]\n",
    "label_val_df['pred'] = preds\n",
    "\n",
    "top5p = int(label_val_df.shape[0] * 0.05)\n",
    "res_response = label_val_df.sort_values('pred', ascending=False).iloc[:top5p].label.sum()/top5p\n",
    "res_response"
   ],
   "metadata": {
    "collapsed": false,
    "pycharm": {
     "name": "#%%\n"
    }
   }
  },
  {
   "cell_type": "code",
   "execution_count": 11,
   "outputs": [
    {
     "name": "stdout",
     "output_type": "stream",
     "text": [
      "Learning rate set to 0.02466\n",
      "0:\tlearn: 0.6480979\ttotal: 1.65s\tremaining: 27m 30s\n",
      "200:\tlearn: 0.0916542\ttotal: 39.2s\tremaining: 2m 35s\n",
      "400:\tlearn: 0.0894033\ttotal: 1m 22s\tremaining: 2m 3s\n",
      "600:\tlearn: 0.0880655\ttotal: 1m 38s\tremaining: 1m 5s\n",
      "800:\tlearn: 0.0870913\ttotal: 1m 59s\tremaining: 29.7s\n",
      "999:\tlearn: 0.0861618\ttotal: 2m 43s\tremaining: 0us\n"
     ]
    },
    {
     "name": "stderr",
     "output_type": "stream",
     "text": [
      "C:\\Users\\Alexandr\\AppData\\Local\\Temp\\ipykernel_27740\\1350534357.py:9: SettingWithCopyWarning: \n",
      "A value is trying to be set on a copy of a slice from a DataFrame.\n",
      "Try using .loc[row_indexer,col_indexer] = value instead\n",
      "\n",
      "See the caveats in the documentation: https://pandas.pydata.org/pandas-docs/stable/user_guide/indexing.html#returning-a-view-versus-a-copy\n",
      "  label_val_df['pred'] = preds\n"
     ]
    },
    {
     "data": {
      "text/plain": "0.10159727677402461"
     },
     "execution_count": 11,
     "metadata": {},
     "output_type": "execute_result"
    }
   ],
   "source": [
    "train_df = add_agg_features(train_df)\n",
    "val_df = add_agg_features(val_df)\n",
    "\n",
    "ctb = CatBoostClassifier(verbose=200, task_type='GPU', random_seed=seed_value)\n",
    "ctb.fit(train_df.drop('label', axis=1), train_df.label, cat_features=cat_cols)\n",
    "label_val_df = val_df[['label']]\n",
    "\n",
    "preds = ctb.predict_proba(val_df.drop('label', axis=1))[:,1]\n",
    "label_val_df['pred'] = preds\n",
    "\n",
    "top5p = int(label_val_df.shape[0] * 0.05)\n",
    "res_response = label_val_df.sort_values('pred', ascending=False).iloc[:top5p].label.sum()/top5p\n",
    "res_response"
   ],
   "metadata": {
    "collapsed": false,
    "pycharm": {
     "name": "#%%\n"
    }
   }
  },
  {
   "cell_type": "code",
   "execution_count": 67,
   "outputs": [
    {
     "name": "stderr",
     "output_type": "stream",
     "text": [
      "C:\\Users\\Alexandr\\AppData\\Local\\Temp\\ipykernel_11020\\1861874903.py:16: SettingWithCopyWarning: \n",
      "A value is trying to be set on a copy of a slice from a DataFrame\n",
      "\n",
      "See the caveats in the documentation: https://pandas.pydata.org/pandas-docs/stable/user_guide/indexing.html#returning-a-view-versus-a-copy\n",
      "  df[col][mask] = np.nan\n"
     ]
    }
   ],
   "source": [
    "# пробуем данные сереги и кати\n",
    "\n",
    "train_df = pd.read_csv('data/train_catugra_merged_table_with_covid.csv', sep=';')\n",
    "val_df = pd.read_csv('data/test_catugra_merged_table_with_covid.csv', sep=';')\n",
    "\n",
    "drop_cols = ['total_cases', 'new_cases']\n",
    "\n",
    "tarif_cols = ['Игровой', \"Апгрейд\", \"Технологии доступа\", \"Технологии доступа PRO\", \"Технологии контроля\"] + [\"subject_name\"]\n",
    "\n",
    "\n",
    "\n",
    "def prepare_data(df):\n",
    "    #df = df.drop(drop_cols, axis=1)\n",
    "    for col in [f'f{i}' for i in range(1,31)] + tarif_cols[:-1]:\n",
    "        mask = df[col].isna()\n",
    "        df[col][mask] = np.nan\n",
    "        df[col] = df[col].fillna(df.groupby(tarif_cols[-1])[col].transform('min'))\n",
    "    return df\n",
    "\n",
    "train_df = prepare_data(train_df)\n",
    "val_df = prepare_data(val_df)"
   ],
   "metadata": {
    "collapsed": false,
    "pycharm": {
     "name": "#%%\n"
    }
   }
  },
  {
   "cell_type": "code",
   "execution_count": 68,
   "outputs": [],
   "source": [
    "cat_cols = train_df.select_dtypes(include=['object']).columns.values\n",
    "train_df[cat_cols] = train_df[cat_cols].fillna('NaN')\n",
    "val_df[cat_cols] = val_df[cat_cols].fillna('NaN')"
   ],
   "metadata": {
    "collapsed": false,
    "pycharm": {
     "name": "#%%\n"
    }
   }
  },
  {
   "cell_type": "code",
   "execution_count": 69,
   "outputs": [
    {
     "name": "stdout",
     "output_type": "stream",
     "text": [
      "Learning rate set to 0.02466\n",
      "0:\tlearn: 0.6474122\ttotal: 45.1ms\tremaining: 45.1s\n",
      "200:\tlearn: 0.0917127\ttotal: 8.1s\tremaining: 32.2s\n",
      "400:\tlearn: 0.0894920\ttotal: 16.8s\tremaining: 25.1s\n",
      "600:\tlearn: 0.0881441\ttotal: 31s\tremaining: 20.6s\n",
      "800:\tlearn: 0.0870969\ttotal: 1m 12s\tremaining: 18.1s\n",
      "999:\tlearn: 0.0862016\ttotal: 1m 34s\tremaining: 0us\n"
     ]
    },
    {
     "name": "stderr",
     "output_type": "stream",
     "text": [
      "C:\\Users\\Alexandr\\AppData\\Local\\Temp\\ipykernel_11020\\3753428573.py:6: SettingWithCopyWarning: \n",
      "A value is trying to be set on a copy of a slice from a DataFrame.\n",
      "Try using .loc[row_indexer,col_indexer] = value instead\n",
      "\n",
      "See the caveats in the documentation: https://pandas.pydata.org/pandas-docs/stable/user_guide/indexing.html#returning-a-view-versus-a-copy\n",
      "  label_val_df['pred'] = preds\n"
     ]
    },
    {
     "data": {
      "text/plain": "0.1078816444095313"
     },
     "execution_count": 69,
     "metadata": {},
     "output_type": "execute_result"
    }
   ],
   "source": [
    "ctb = CatBoostClassifier(verbose=200, task_type='GPU', random_seed=seed_value)\n",
    "ctb.fit(train_df.drop('label', axis=1), train_df.label, cat_features=cat_cols)\n",
    "label_val_df = val_df[['label']]\n",
    "\n",
    "preds = ctb.predict_proba(val_df.drop('label', axis=1))[:,1]\n",
    "label_val_df['pred'] = preds\n",
    "\n",
    "top5p = int(label_val_df.shape[0] * 0.05)\n",
    "res_response = label_val_df.sort_values('pred', ascending=False).iloc[:top5p].label.sum()/top5p\n",
    "res_response"
   ],
   "metadata": {
    "collapsed": false,
    "pycharm": {
     "name": "#%%\n"
    }
   }
  },
  {
   "cell_type": "code",
   "execution_count": null,
   "outputs": [],
   "source": [
    "plt.figure(figsize=(15,8))\n",
    "plt.plot(train_df.drop('label', axis=1).columns, ctb.feature_importances_, '-o')\n",
    "plt.xticks(rotation=90)\n",
    "plt.show()"
   ],
   "metadata": {
    "collapsed": false,
    "pycharm": {
     "name": "#%%\n"
    }
   }
  },
  {
   "cell_type": "code",
   "execution_count": 54,
   "outputs": [
    {
     "name": "stdout",
     "output_type": "stream",
     "text": [
      "<class 'pandas.core.frame.DataFrame'>\n",
      "RangeIndex: 294258 entries, 0 to 294257\n",
      "Data columns (total 58 columns):\n",
      " #   Column                  Non-Null Count   Dtype  \n",
      "---  ------                  --------------   -----  \n",
      " 0   total_cases             294258 non-null  float64\n",
      " 1   new_cases               294258 non-null  float64\n",
      " 2   period                  294258 non-null  object \n",
      " 3   Апгрейд                 294258 non-null  float64\n",
      " 4   Игровой                 294258 non-null  float64\n",
      " 5   Технологии доступа      294258 non-null  float64\n",
      " 6   Технологии доступа PRO  294258 non-null  float64\n",
      " 7   Технологии контроля     294258 non-null  float64\n",
      " 8   label                   294258 non-null  int64  \n",
      " 9   subject_type            294258 non-null  object \n",
      " 10  subject_name            294258 non-null  object \n",
      " 11  city_name               294258 non-null  object \n",
      " 12  hex                     294258 non-null  object \n",
      " 13  hex_lat                 294258 non-null  float64\n",
      " 14  hex_lon                 294258 non-null  float64\n",
      " 15  f1                      287496 non-null  float64\n",
      " 16  f2                      287496 non-null  float64\n",
      " 17  f3                      287496 non-null  float64\n",
      " 18  f4                      287496 non-null  float64\n",
      " 19  f5                      287496 non-null  float64\n",
      " 20  f6                      294258 non-null  float64\n",
      " 21  f7                      294256 non-null  float64\n",
      " 22  f8                      287496 non-null  float64\n",
      " 23  f9                      287496 non-null  float64\n",
      " 24  f10                     294258 non-null  float64\n",
      " 25  f11                     294258 non-null  float64\n",
      " 26  f12                     294258 non-null  float64\n",
      " 27  f13                     294258 non-null  float64\n",
      " 28  f14                     294258 non-null  float64\n",
      " 29  f15                     287496 non-null  float64\n",
      " 30  f16                     294256 non-null  float64\n",
      " 31  f17                     294256 non-null  float64\n",
      " 32  f18                     294258 non-null  float64\n",
      " 33  f19                     294258 non-null  float64\n",
      " 34  f20                     294258 non-null  float64\n",
      " 35  f21                     294258 non-null  float64\n",
      " 36  f22                     294258 non-null  float64\n",
      " 37  f23                     294258 non-null  float64\n",
      " 38  f24                     294258 non-null  float64\n",
      " 39  f25                     294258 non-null  float64\n",
      " 40  f26                     294258 non-null  float64\n",
      " 41  f27                     294258 non-null  float64\n",
      " 42  f28                     294258 non-null  float64\n",
      " 43  f29                     294258 non-null  float64\n",
      " 44  f30                     294258 non-null  float64\n",
      " 45  mean_income_subject     294258 non-null  int64  \n",
      " 46  subject_population      294258 non-null  float64\n",
      " 47  district                294258 non-null  object \n",
      " 48  children_subject        294258 non-null  float64\n",
      " 49  rural_subject           294258 non-null  float64\n",
      " 50  services_subject        294258 non-null  float64\n",
      " 51  communication_subject   294258 non-null  float64\n",
      " 52  district_population     294258 non-null  float64\n",
      " 53  mean_income_district    294258 non-null  float64\n",
      " 54  children_district       294258 non-null  float64\n",
      " 55  rural_district          294258 non-null  float64\n",
      " 56  services_district       294258 non-null  float64\n",
      " 57  communication_district  294258 non-null  float64\n",
      "dtypes: float64(50), int64(2), object(6)\n",
      "memory usage: 130.2+ MB\n"
     ]
    }
   ],
   "source": [
    "train_df.info()"
   ],
   "metadata": {
    "collapsed": false,
    "pycharm": {
     "name": "#%%\n"
    }
   }
  },
  {
   "cell_type": "code",
   "execution_count": 39,
   "outputs": [
    {
     "data": {
      "text/plain": "0.05"
     },
     "execution_count": 39,
     "metadata": {},
     "output_type": "execute_result"
    }
   ],
   "source": [
    "def func(y_true, y_pred):\n",
    "    return pd.DataFrame(np.hstack([y_true[...,None], y_pred[...,None]]), columns=['true', 'pred']).sort_values('pred',ascending=False).iloc[:int(y_true.shape[0]*0.05)].true.sum()/y_true.shape[0]\n",
    "\n",
    "func(np.asarray([1.0]*100), np.asarray([0.0,1.0]*50))\n"
   ],
   "metadata": {
    "collapsed": false,
    "pycharm": {
     "name": "#%%\n"
    }
   }
  },
  {
   "cell_type": "code",
   "execution_count": 36,
   "outputs": [
    {
     "data": {
      "text/plain": "array([[1., 0.],\n       [1., 1.],\n       [1., 0.],\n       [1., 1.],\n       [1., 0.],\n       [1., 1.],\n       [1., 0.],\n       [1., 1.],\n       [1., 0.],\n       [1., 1.],\n       [1., 0.],\n       [1., 1.],\n       [1., 0.],\n       [1., 1.],\n       [1., 0.],\n       [1., 1.],\n       [1., 0.],\n       [1., 1.],\n       [1., 0.],\n       [1., 1.],\n       [1., 0.],\n       [1., 1.],\n       [1., 0.],\n       [1., 1.],\n       [1., 0.],\n       [1., 1.],\n       [1., 0.],\n       [1., 1.],\n       [1., 0.],\n       [1., 1.],\n       [1., 0.],\n       [1., 1.],\n       [1., 0.],\n       [1., 1.],\n       [1., 0.],\n       [1., 1.],\n       [1., 0.],\n       [1., 1.],\n       [1., 0.],\n       [1., 1.],\n       [1., 0.],\n       [1., 1.],\n       [1., 0.],\n       [1., 1.],\n       [1., 0.],\n       [1., 1.],\n       [1., 0.],\n       [1., 1.],\n       [1., 0.],\n       [1., 1.],\n       [1., 0.],\n       [1., 1.],\n       [1., 0.],\n       [1., 1.],\n       [1., 0.],\n       [1., 1.],\n       [1., 0.],\n       [1., 1.],\n       [1., 0.],\n       [1., 1.],\n       [1., 0.],\n       [1., 1.],\n       [1., 0.],\n       [1., 1.],\n       [1., 0.],\n       [1., 1.],\n       [1., 0.],\n       [1., 1.],\n       [1., 0.],\n       [1., 1.],\n       [1., 0.],\n       [1., 1.],\n       [1., 0.],\n       [1., 1.],\n       [1., 0.],\n       [1., 1.],\n       [1., 0.],\n       [1., 1.],\n       [1., 0.],\n       [1., 1.],\n       [1., 0.],\n       [1., 1.],\n       [1., 0.],\n       [1., 1.],\n       [1., 0.],\n       [1., 1.],\n       [1., 0.],\n       [1., 1.],\n       [1., 0.],\n       [1., 1.],\n       [1., 0.],\n       [1., 1.],\n       [1., 0.],\n       [1., 1.],\n       [1., 0.],\n       [1., 1.],\n       [1., 0.],\n       [1., 1.],\n       [1., 0.],\n       [1., 1.]])"
     },
     "execution_count": 36,
     "metadata": {},
     "output_type": "execute_result"
    }
   ],
   "source": [],
   "metadata": {
    "collapsed": false,
    "pycharm": {
     "name": "#%%\n"
    }
   }
  },
  {
   "cell_type": "markdown",
   "source": [],
   "metadata": {
    "collapsed": false,
    "pycharm": {
     "name": "#%% md\n"
    }
   }
  },
  {
   "cell_type": "code",
   "execution_count": 7,
   "outputs": [
    {
     "name": "stdout",
     "output_type": "stream",
     "text": [
      "<class 'pandas.core.frame.DataFrame'>\n",
      "RangeIndex: 294258 entries, 0 to 294257\n",
      "Data columns (total 38 columns):\n",
      " #   Column        Non-Null Count   Dtype  \n",
      "---  ------        --------------   -----  \n",
      " 0   label         294258 non-null  int64  \n",
      " 1   period        294258 non-null  object \n",
      " 2   subject_type  294258 non-null  object \n",
      " 3   subject_name  294258 non-null  object \n",
      " 4   city_name     294247 non-null  object \n",
      " 5   hex           294258 non-null  object \n",
      " 6   hex_lat       294258 non-null  float64\n",
      " 7   hex_lon       294258 non-null  float64\n",
      " 8   f1            258144 non-null  float64\n",
      " 9   f2            262930 non-null  float64\n",
      " 10  f3            265786 non-null  float64\n",
      " 11  f4            279564 non-null  float64\n",
      " 12  f5            279564 non-null  float64\n",
      " 13  f6            281984 non-null  float64\n",
      " 14  f7            148829 non-null  float64\n",
      " 15  f8            280209 non-null  float64\n",
      " 16  f9            280209 non-null  float64\n",
      " 17  f10           294258 non-null  float64\n",
      " 18  f11           294258 non-null  float64\n",
      " 19  f12           294258 non-null  float64\n",
      " 20  f13           166853 non-null  float64\n",
      " 21  f14           286618 non-null  float64\n",
      " 22  f15           277160 non-null  float64\n",
      " 23  f16           153723 non-null  float64\n",
      " 24  f17           148829 non-null  float64\n",
      " 25  f18           294124 non-null  float64\n",
      " 26  f19           286899 non-null  float64\n",
      " 27  f20           286899 non-null  float64\n",
      " 28  f21           286899 non-null  float64\n",
      " 29  f22           286899 non-null  float64\n",
      " 30  f23           286899 non-null  float64\n",
      " 31  f24           167474 non-null  float64\n",
      " 32  f25           167474 non-null  float64\n",
      " 33  f26           167474 non-null  float64\n",
      " 34  f27           167474 non-null  float64\n",
      " 35  f28           167474 non-null  float64\n",
      " 36  f29           286899 non-null  float64\n",
      " 37  f30           286899 non-null  float64\n",
      "dtypes: float64(32), int64(1), object(5)\n",
      "memory usage: 85.3+ MB\n"
     ]
    }
   ],
   "source": [
    "train_df = pd.read_csv('data/train.csv', sep=';')\n",
    "train_df.info()"
   ],
   "metadata": {
    "collapsed": false,
    "pycharm": {
     "name": "#%%\n"
    }
   }
  },
  {
   "cell_type": "code",
   "execution_count": null,
   "outputs": [],
   "source": [],
   "metadata": {
    "collapsed": false,
    "pycharm": {
     "name": "#%%\n"
    }
   }
  }
 ],
 "metadata": {
  "kernelspec": {
   "display_name": "Python 3",
   "language": "python",
   "name": "python3"
  },
  "language_info": {
   "codemirror_mode": {
    "name": "ipython",
    "version": 2
   },
   "file_extension": ".py",
   "mimetype": "text/x-python",
   "name": "python",
   "nbconvert_exporter": "python",
   "pygments_lexer": "ipython2",
   "version": "2.7.6"
  }
 },
 "nbformat": 4,
 "nbformat_minor": 0
}