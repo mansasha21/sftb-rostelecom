{
 "cells": [
  {
   "cell_type": "markdown",
   "metadata": {
    "collapsed": true,
    "pycharm": {
     "name": "#%% md\n"
    }
   },
   "source": [
    "### Описание полей\n",
    "\n",
    "Label - целевая метка\n",
    "period - год и месяц\n",
    "subject_type - тип региона\n",
    "subject_name - название региона\n",
    "city_name - название города\n",
    "hex - код гексогона\n",
    "hex_lat - широта гексогона\n",
    "hex_lon - долгота гексогона\n",
    "f1-f30 - дополнительная информация о клиенте"
   ]
  },
  {
   "cell_type": "code",
   "execution_count": 1,
   "outputs": [],
   "source": [
    "import pandas as pd\n",
    "import numpy as np\n",
    "\n",
    "from sklearn.model_selection import train_test_split\n",
    "from sklearn.metrics import average_precision_score\n",
    "from sklift.metrics import uplift_at_k\n",
    "import matplotlib.pyplot as plt\n",
    "from catboost import CatBoostClassifier"
   ],
   "metadata": {
    "collapsed": false,
    "pycharm": {
     "name": "#%%\n"
    }
   }
  },
  {
   "cell_type": "code",
   "execution_count": 2,
   "outputs": [
    {
     "name": "stdout",
     "output_type": "stream",
     "text": [
      "<class 'pandas.core.frame.DataFrame'>\n",
      "RangeIndex: 294258 entries, 0 to 294257\n",
      "Data columns (total 38 columns):\n",
      " #   Column        Non-Null Count   Dtype  \n",
      "---  ------        --------------   -----  \n",
      " 0   label         294258 non-null  int64  \n",
      " 1   period        294258 non-null  object \n",
      " 2   subject_type  294258 non-null  object \n",
      " 3   subject_name  294258 non-null  object \n",
      " 4   city_name     294247 non-null  object \n",
      " 5   hex           294258 non-null  object \n",
      " 6   hex_lat       294258 non-null  float64\n",
      " 7   hex_lon       294258 non-null  float64\n",
      " 8   f1            258144 non-null  float64\n",
      " 9   f2            262930 non-null  float64\n",
      " 10  f3            265786 non-null  float64\n",
      " 11  f4            279564 non-null  float64\n",
      " 12  f5            279564 non-null  float64\n",
      " 13  f6            281984 non-null  float64\n",
      " 14  f7            148829 non-null  float64\n",
      " 15  f8            280209 non-null  float64\n",
      " 16  f9            280209 non-null  float64\n",
      " 17  f10           294258 non-null  float64\n",
      " 18  f11           294258 non-null  float64\n",
      " 19  f12           294258 non-null  float64\n",
      " 20  f13           166853 non-null  float64\n",
      " 21  f14           286618 non-null  float64\n",
      " 22  f15           277160 non-null  float64\n",
      " 23  f16           153723 non-null  float64\n",
      " 24  f17           148829 non-null  float64\n",
      " 25  f18           294124 non-null  float64\n",
      " 26  f19           286899 non-null  float64\n",
      " 27  f20           286899 non-null  float64\n",
      " 28  f21           286899 non-null  float64\n",
      " 29  f22           286899 non-null  float64\n",
      " 30  f23           286899 non-null  float64\n",
      " 31  f24           167474 non-null  float64\n",
      " 32  f25           167474 non-null  float64\n",
      " 33  f26           167474 non-null  float64\n",
      " 34  f27           167474 non-null  float64\n",
      " 35  f28           167474 non-null  float64\n",
      " 36  f29           286899 non-null  float64\n",
      " 37  f30           286899 non-null  float64\n",
      "dtypes: float64(32), int64(1), object(5)\n",
      "memory usage: 85.3+ MB\n",
      "<class 'pandas.core.frame.DataFrame'>\n",
      "RangeIndex: 152766 entries, 0 to 152765\n",
      "Data columns (total 38 columns):\n",
      " #   Column        Non-Null Count   Dtype  \n",
      "---  ------        --------------   -----  \n",
      " 0   label         152766 non-null  int64  \n",
      " 1   period        152766 non-null  object \n",
      " 2   subject_type  152766 non-null  object \n",
      " 3   subject_name  152766 non-null  object \n",
      " 4   city_name     152758 non-null  object \n",
      " 5   hex           152766 non-null  object \n",
      " 6   hex_lat       152766 non-null  float64\n",
      " 7   hex_lon       152766 non-null  float64\n",
      " 8   f1            136217 non-null  float64\n",
      " 9   f2            137826 non-null  float64\n",
      " 10  f3            138880 non-null  float64\n",
      " 11  f4            146774 non-null  float64\n",
      " 12  f5            146774 non-null  float64\n",
      " 13  f6            147118 non-null  float64\n",
      " 14  f7            79217 non-null   float64\n",
      " 15  f8            146920 non-null  float64\n",
      " 16  f9            146920 non-null  float64\n",
      " 17  f10           152766 non-null  float64\n",
      " 18  f11           152766 non-null  float64\n",
      " 19  f12           152766 non-null  float64\n",
      " 20  f13           87503 non-null   float64\n",
      " 21  f14           149182 non-null  float64\n",
      " 22  f15           146769 non-null  float64\n",
      " 23  f16           81206 non-null   float64\n",
      " 24  f17           79217 non-null   float64\n",
      " 25  f18           152693 non-null  float64\n",
      " 26  f19           149285 non-null  float64\n",
      " 27  f20           149285 non-null  float64\n",
      " 28  f21           149285 non-null  float64\n",
      " 29  f22           149285 non-null  float64\n",
      " 30  f23           149285 non-null  float64\n",
      " 31  f24           88011 non-null   float64\n",
      " 32  f25           88011 non-null   float64\n",
      " 33  f26           88011 non-null   float64\n",
      " 34  f27           88011 non-null   float64\n",
      " 35  f28           88011 non-null   float64\n",
      " 36  f29           149285 non-null  float64\n",
      " 37  f30           149285 non-null  float64\n",
      "dtypes: float64(32), int64(1), object(5)\n",
      "memory usage: 44.3+ MB\n"
     ]
    },
    {
     "data": {
      "text/plain": "(None, None)"
     },
     "execution_count": 2,
     "metadata": {},
     "output_type": "execute_result"
    }
   ],
   "source": [
    "df_train = pd.read_csv('./data/train.csv', delimiter=';')\n",
    "df_test = pd.read_csv('./data/test.csv', delimiter=';')\n",
    "\n",
    "# df_train = pd.read_csv('./data/train_catugra.csv', delimiter=',')\n",
    "# df_test = pd.read_csv('./data/test_catugra.csv', delimiter=',')\n",
    "\n",
    "df_train.info(), df_test.info()"
   ],
   "metadata": {
    "collapsed": false,
    "pycharm": {
     "name": "#%%\n"
    }
   }
  },
  {
   "cell_type": "code",
   "execution_count": 3,
   "outputs": [
    {
     "data": {
      "text/plain": "        label      period subject_type subject_name   city_name  \\\n0           1  2020-05-01        Город       Москва      Москва   \n1           1  2020-05-01        Город       Москва      Москва   \n2           1  2020-05-01        Город       Москва      Москва   \n3           1  2020-05-01        Город       Москва      Москва   \n4           1  2020-05-01        Город       Москва      Москва   \n...       ...         ...          ...          ...         ...   \n294253      0  2020-12-01         Край  Хабаровский      Рощино   \n294254      0  2020-12-01         Край   Приморский     Шкотово   \n294255      0  2020-12-01         Край   Приморский  Партизанск   \n294256      0  2020-12-01         Край   Камчатский   Вилючинск   \n294257      0  2020-12-01         Край  Хабаровский   Хабаровск   \n\n                    hex    hex_lat     hex_lon       f1       f2  ...  \\\n0       8611aa7a7ffffff  55.729458   37.516569  0.00101  0.00103  ...   \n1       8611aa01fffffff  55.975851   37.237085  0.00000  0.00027  ...   \n2       861181b6fffffff  55.622721   37.695121  0.00339  0.00313  ...   \n3       8611aa017ffffff  55.941586   37.157487  0.00048  0.00054  ...   \n4       8611aa637ffffff  55.797494   37.676200  0.00164  0.00179  ...   \n...                 ...        ...         ...      ...      ...  ...   \n294253  8614d6497ffffff  48.364768  134.996232  0.00111  0.00100  ...   \n294254  86316c8cfffffff  43.309803  132.345989  0.00075  0.00065  ...   \n294255  862ecdb2fffffff  43.057826  133.155582  0.00018  0.00014  ...   \n294256  861616747ffffff  52.908685  158.406443  0.00075  0.00138  ...   \n294257  862eda4dfffffff  48.379865  135.164808  0.00000  0.00003  ...   \n\n            f21      f22      f23      f24      f25      f26      f27  \\\n0       0.13027  0.00000  0.00000      NaN      NaN      NaN      NaN   \n1       0.08756  0.00000  0.00000      NaN      NaN      NaN      NaN   \n2       0.09243  0.00000  0.00000  0.11053  0.57895  0.00526  0.02105   \n3       0.10192  0.00000  0.00049      NaN      NaN      NaN      NaN   \n4       0.09620  0.00000  0.00000  0.14444  0.64444  0.01111  0.04444   \n...         ...      ...      ...      ...      ...      ...      ...   \n294253  0.41667  0.26667  0.00000  0.33929  0.78571  0.00000  0.01786   \n294254  0.42424  0.08333  0.00000  0.09449  0.80315  0.00787  0.00000   \n294255  0.20000  0.08333  0.00000  0.07547  0.81132  0.00000  0.00000   \n294256  0.31990  0.08768  0.00000      NaN      NaN      NaN      NaN   \n294257  0.21271  0.23481  0.00000  0.11508  0.73016  0.01190  0.00397   \n\n            f28      f29  f30  \n0           NaN  0.01737  0.0  \n1           NaN  0.01152  0.0  \n2       0.00000  0.01540  0.0  \n3           NaN  0.01495  0.0  \n4       0.01111  0.01266  0.0  \n...         ...      ...  ...  \n294253  0.03571  0.01667  0.0  \n294254  0.05512  0.02273  0.0  \n294255  0.01887  0.00000  0.0  \n294256      NaN  0.06398  0.0  \n294257  0.02381  0.03867  0.0  \n\n[294258 rows x 38 columns]",
      "text/html": "<div>\n<style scoped>\n    .dataframe tbody tr th:only-of-type {\n        vertical-align: middle;\n    }\n\n    .dataframe tbody tr th {\n        vertical-align: top;\n    }\n\n    .dataframe thead th {\n        text-align: right;\n    }\n</style>\n<table border=\"1\" class=\"dataframe\">\n  <thead>\n    <tr style=\"text-align: right;\">\n      <th></th>\n      <th>label</th>\n      <th>period</th>\n      <th>subject_type</th>\n      <th>subject_name</th>\n      <th>city_name</th>\n      <th>hex</th>\n      <th>hex_lat</th>\n      <th>hex_lon</th>\n      <th>f1</th>\n      <th>f2</th>\n      <th>...</th>\n      <th>f21</th>\n      <th>f22</th>\n      <th>f23</th>\n      <th>f24</th>\n      <th>f25</th>\n      <th>f26</th>\n      <th>f27</th>\n      <th>f28</th>\n      <th>f29</th>\n      <th>f30</th>\n    </tr>\n  </thead>\n  <tbody>\n    <tr>\n      <th>0</th>\n      <td>1</td>\n      <td>2020-05-01</td>\n      <td>Город</td>\n      <td>Москва</td>\n      <td>Москва</td>\n      <td>8611aa7a7ffffff</td>\n      <td>55.729458</td>\n      <td>37.516569</td>\n      <td>0.00101</td>\n      <td>0.00103</td>\n      <td>...</td>\n      <td>0.13027</td>\n      <td>0.00000</td>\n      <td>0.00000</td>\n      <td>NaN</td>\n      <td>NaN</td>\n      <td>NaN</td>\n      <td>NaN</td>\n      <td>NaN</td>\n      <td>0.01737</td>\n      <td>0.0</td>\n    </tr>\n    <tr>\n      <th>1</th>\n      <td>1</td>\n      <td>2020-05-01</td>\n      <td>Город</td>\n      <td>Москва</td>\n      <td>Москва</td>\n      <td>8611aa01fffffff</td>\n      <td>55.975851</td>\n      <td>37.237085</td>\n      <td>0.00000</td>\n      <td>0.00027</td>\n      <td>...</td>\n      <td>0.08756</td>\n      <td>0.00000</td>\n      <td>0.00000</td>\n      <td>NaN</td>\n      <td>NaN</td>\n      <td>NaN</td>\n      <td>NaN</td>\n      <td>NaN</td>\n      <td>0.01152</td>\n      <td>0.0</td>\n    </tr>\n    <tr>\n      <th>2</th>\n      <td>1</td>\n      <td>2020-05-01</td>\n      <td>Город</td>\n      <td>Москва</td>\n      <td>Москва</td>\n      <td>861181b6fffffff</td>\n      <td>55.622721</td>\n      <td>37.695121</td>\n      <td>0.00339</td>\n      <td>0.00313</td>\n      <td>...</td>\n      <td>0.09243</td>\n      <td>0.00000</td>\n      <td>0.00000</td>\n      <td>0.11053</td>\n      <td>0.57895</td>\n      <td>0.00526</td>\n      <td>0.02105</td>\n      <td>0.00000</td>\n      <td>0.01540</td>\n      <td>0.0</td>\n    </tr>\n    <tr>\n      <th>3</th>\n      <td>1</td>\n      <td>2020-05-01</td>\n      <td>Город</td>\n      <td>Москва</td>\n      <td>Москва</td>\n      <td>8611aa017ffffff</td>\n      <td>55.941586</td>\n      <td>37.157487</td>\n      <td>0.00048</td>\n      <td>0.00054</td>\n      <td>...</td>\n      <td>0.10192</td>\n      <td>0.00000</td>\n      <td>0.00049</td>\n      <td>NaN</td>\n      <td>NaN</td>\n      <td>NaN</td>\n      <td>NaN</td>\n      <td>NaN</td>\n      <td>0.01495</td>\n      <td>0.0</td>\n    </tr>\n    <tr>\n      <th>4</th>\n      <td>1</td>\n      <td>2020-05-01</td>\n      <td>Город</td>\n      <td>Москва</td>\n      <td>Москва</td>\n      <td>8611aa637ffffff</td>\n      <td>55.797494</td>\n      <td>37.676200</td>\n      <td>0.00164</td>\n      <td>0.00179</td>\n      <td>...</td>\n      <td>0.09620</td>\n      <td>0.00000</td>\n      <td>0.00000</td>\n      <td>0.14444</td>\n      <td>0.64444</td>\n      <td>0.01111</td>\n      <td>0.04444</td>\n      <td>0.01111</td>\n      <td>0.01266</td>\n      <td>0.0</td>\n    </tr>\n    <tr>\n      <th>...</th>\n      <td>...</td>\n      <td>...</td>\n      <td>...</td>\n      <td>...</td>\n      <td>...</td>\n      <td>...</td>\n      <td>...</td>\n      <td>...</td>\n      <td>...</td>\n      <td>...</td>\n      <td>...</td>\n      <td>...</td>\n      <td>...</td>\n      <td>...</td>\n      <td>...</td>\n      <td>...</td>\n      <td>...</td>\n      <td>...</td>\n      <td>...</td>\n      <td>...</td>\n      <td>...</td>\n    </tr>\n    <tr>\n      <th>294253</th>\n      <td>0</td>\n      <td>2020-12-01</td>\n      <td>Край</td>\n      <td>Хабаровский</td>\n      <td>Рощино</td>\n      <td>8614d6497ffffff</td>\n      <td>48.364768</td>\n      <td>134.996232</td>\n      <td>0.00111</td>\n      <td>0.00100</td>\n      <td>...</td>\n      <td>0.41667</td>\n      <td>0.26667</td>\n      <td>0.00000</td>\n      <td>0.33929</td>\n      <td>0.78571</td>\n      <td>0.00000</td>\n      <td>0.01786</td>\n      <td>0.03571</td>\n      <td>0.01667</td>\n      <td>0.0</td>\n    </tr>\n    <tr>\n      <th>294254</th>\n      <td>0</td>\n      <td>2020-12-01</td>\n      <td>Край</td>\n      <td>Приморский</td>\n      <td>Шкотово</td>\n      <td>86316c8cfffffff</td>\n      <td>43.309803</td>\n      <td>132.345989</td>\n      <td>0.00075</td>\n      <td>0.00065</td>\n      <td>...</td>\n      <td>0.42424</td>\n      <td>0.08333</td>\n      <td>0.00000</td>\n      <td>0.09449</td>\n      <td>0.80315</td>\n      <td>0.00787</td>\n      <td>0.00000</td>\n      <td>0.05512</td>\n      <td>0.02273</td>\n      <td>0.0</td>\n    </tr>\n    <tr>\n      <th>294255</th>\n      <td>0</td>\n      <td>2020-12-01</td>\n      <td>Край</td>\n      <td>Приморский</td>\n      <td>Партизанск</td>\n      <td>862ecdb2fffffff</td>\n      <td>43.057826</td>\n      <td>133.155582</td>\n      <td>0.00018</td>\n      <td>0.00014</td>\n      <td>...</td>\n      <td>0.20000</td>\n      <td>0.08333</td>\n      <td>0.00000</td>\n      <td>0.07547</td>\n      <td>0.81132</td>\n      <td>0.00000</td>\n      <td>0.00000</td>\n      <td>0.01887</td>\n      <td>0.00000</td>\n      <td>0.0</td>\n    </tr>\n    <tr>\n      <th>294256</th>\n      <td>0</td>\n      <td>2020-12-01</td>\n      <td>Край</td>\n      <td>Камчатский</td>\n      <td>Вилючинск</td>\n      <td>861616747ffffff</td>\n      <td>52.908685</td>\n      <td>158.406443</td>\n      <td>0.00075</td>\n      <td>0.00138</td>\n      <td>...</td>\n      <td>0.31990</td>\n      <td>0.08768</td>\n      <td>0.00000</td>\n      <td>NaN</td>\n      <td>NaN</td>\n      <td>NaN</td>\n      <td>NaN</td>\n      <td>NaN</td>\n      <td>0.06398</td>\n      <td>0.0</td>\n    </tr>\n    <tr>\n      <th>294257</th>\n      <td>0</td>\n      <td>2020-12-01</td>\n      <td>Край</td>\n      <td>Хабаровский</td>\n      <td>Хабаровск</td>\n      <td>862eda4dfffffff</td>\n      <td>48.379865</td>\n      <td>135.164808</td>\n      <td>0.00000</td>\n      <td>0.00003</td>\n      <td>...</td>\n      <td>0.21271</td>\n      <td>0.23481</td>\n      <td>0.00000</td>\n      <td>0.11508</td>\n      <td>0.73016</td>\n      <td>0.01190</td>\n      <td>0.00397</td>\n      <td>0.02381</td>\n      <td>0.03867</td>\n      <td>0.0</td>\n    </tr>\n  </tbody>\n</table>\n<p>294258 rows × 38 columns</p>\n</div>"
     },
     "execution_count": 3,
     "metadata": {},
     "output_type": "execute_result"
    }
   ],
   "source": [
    "df_train"
   ],
   "metadata": {
    "collapsed": false,
    "pycharm": {
     "name": "#%%\n"
    }
   }
  },
  {
   "cell_type": "markdown",
   "source": [
    "### Подготовка данных\n",
    "\n",
    "#### Время"
   ],
   "metadata": {
    "collapsed": false,
    "pycharm": {
     "name": "#%% md\n"
    }
   }
  },
  {
   "cell_type": "code",
   "execution_count": 4,
   "outputs": [
    {
     "data": {
      "text/plain": "        label      period subject_type subject_name   city_name  \\\n0           1  1588291200        Город       Москва      Москва   \n1           1  1588291200        Город       Москва      Москва   \n2           1  1588291200        Город       Москва      Москва   \n3           1  1588291200        Город       Москва      Москва   \n4           1  1588291200        Город       Москва      Москва   \n...       ...         ...          ...          ...         ...   \n294253      0  1606780800         Край  Хабаровский      Рощино   \n294254      0  1606780800         Край   Приморский     Шкотово   \n294255      0  1606780800         Край   Приморский  Партизанск   \n294256      0  1606780800         Край   Камчатский   Вилючинск   \n294257      0  1606780800         Край  Хабаровский   Хабаровск   \n\n                    hex    hex_lat     hex_lon       f1       f2  ...  \\\n0       8611aa7a7ffffff  55.729458   37.516569  0.00101  0.00103  ...   \n1       8611aa01fffffff  55.975851   37.237085  0.00000  0.00027  ...   \n2       861181b6fffffff  55.622721   37.695121  0.00339  0.00313  ...   \n3       8611aa017ffffff  55.941586   37.157487  0.00048  0.00054  ...   \n4       8611aa637ffffff  55.797494   37.676200  0.00164  0.00179  ...   \n...                 ...        ...         ...      ...      ...  ...   \n294253  8614d6497ffffff  48.364768  134.996232  0.00111  0.00100  ...   \n294254  86316c8cfffffff  43.309803  132.345989  0.00075  0.00065  ...   \n294255  862ecdb2fffffff  43.057826  133.155582  0.00018  0.00014  ...   \n294256  861616747ffffff  52.908685  158.406443  0.00075  0.00138  ...   \n294257  862eda4dfffffff  48.379865  135.164808  0.00000  0.00003  ...   \n\n            f21      f22      f23      f24      f25      f26      f27  \\\n0       0.13027  0.00000  0.00000      NaN      NaN      NaN      NaN   \n1       0.08756  0.00000  0.00000      NaN      NaN      NaN      NaN   \n2       0.09243  0.00000  0.00000  0.11053  0.57895  0.00526  0.02105   \n3       0.10192  0.00000  0.00049      NaN      NaN      NaN      NaN   \n4       0.09620  0.00000  0.00000  0.14444  0.64444  0.01111  0.04444   \n...         ...      ...      ...      ...      ...      ...      ...   \n294253  0.41667  0.26667  0.00000  0.33929  0.78571  0.00000  0.01786   \n294254  0.42424  0.08333  0.00000  0.09449  0.80315  0.00787  0.00000   \n294255  0.20000  0.08333  0.00000  0.07547  0.81132  0.00000  0.00000   \n294256  0.31990  0.08768  0.00000      NaN      NaN      NaN      NaN   \n294257  0.21271  0.23481  0.00000  0.11508  0.73016  0.01190  0.00397   \n\n            f28      f29  f30  \n0           NaN  0.01737  0.0  \n1           NaN  0.01152  0.0  \n2       0.00000  0.01540  0.0  \n3           NaN  0.01495  0.0  \n4       0.01111  0.01266  0.0  \n...         ...      ...  ...  \n294253  0.03571  0.01667  0.0  \n294254  0.05512  0.02273  0.0  \n294255  0.01887  0.00000  0.0  \n294256      NaN  0.06398  0.0  \n294257  0.02381  0.03867  0.0  \n\n[294258 rows x 38 columns]",
      "text/html": "<div>\n<style scoped>\n    .dataframe tbody tr th:only-of-type {\n        vertical-align: middle;\n    }\n\n    .dataframe tbody tr th {\n        vertical-align: top;\n    }\n\n    .dataframe thead th {\n        text-align: right;\n    }\n</style>\n<table border=\"1\" class=\"dataframe\">\n  <thead>\n    <tr style=\"text-align: right;\">\n      <th></th>\n      <th>label</th>\n      <th>period</th>\n      <th>subject_type</th>\n      <th>subject_name</th>\n      <th>city_name</th>\n      <th>hex</th>\n      <th>hex_lat</th>\n      <th>hex_lon</th>\n      <th>f1</th>\n      <th>f2</th>\n      <th>...</th>\n      <th>f21</th>\n      <th>f22</th>\n      <th>f23</th>\n      <th>f24</th>\n      <th>f25</th>\n      <th>f26</th>\n      <th>f27</th>\n      <th>f28</th>\n      <th>f29</th>\n      <th>f30</th>\n    </tr>\n  </thead>\n  <tbody>\n    <tr>\n      <th>0</th>\n      <td>1</td>\n      <td>1588291200</td>\n      <td>Город</td>\n      <td>Москва</td>\n      <td>Москва</td>\n      <td>8611aa7a7ffffff</td>\n      <td>55.729458</td>\n      <td>37.516569</td>\n      <td>0.00101</td>\n      <td>0.00103</td>\n      <td>...</td>\n      <td>0.13027</td>\n      <td>0.00000</td>\n      <td>0.00000</td>\n      <td>NaN</td>\n      <td>NaN</td>\n      <td>NaN</td>\n      <td>NaN</td>\n      <td>NaN</td>\n      <td>0.01737</td>\n      <td>0.0</td>\n    </tr>\n    <tr>\n      <th>1</th>\n      <td>1</td>\n      <td>1588291200</td>\n      <td>Город</td>\n      <td>Москва</td>\n      <td>Москва</td>\n      <td>8611aa01fffffff</td>\n      <td>55.975851</td>\n      <td>37.237085</td>\n      <td>0.00000</td>\n      <td>0.00027</td>\n      <td>...</td>\n      <td>0.08756</td>\n      <td>0.00000</td>\n      <td>0.00000</td>\n      <td>NaN</td>\n      <td>NaN</td>\n      <td>NaN</td>\n      <td>NaN</td>\n      <td>NaN</td>\n      <td>0.01152</td>\n      <td>0.0</td>\n    </tr>\n    <tr>\n      <th>2</th>\n      <td>1</td>\n      <td>1588291200</td>\n      <td>Город</td>\n      <td>Москва</td>\n      <td>Москва</td>\n      <td>861181b6fffffff</td>\n      <td>55.622721</td>\n      <td>37.695121</td>\n      <td>0.00339</td>\n      <td>0.00313</td>\n      <td>...</td>\n      <td>0.09243</td>\n      <td>0.00000</td>\n      <td>0.00000</td>\n      <td>0.11053</td>\n      <td>0.57895</td>\n      <td>0.00526</td>\n      <td>0.02105</td>\n      <td>0.00000</td>\n      <td>0.01540</td>\n      <td>0.0</td>\n    </tr>\n    <tr>\n      <th>3</th>\n      <td>1</td>\n      <td>1588291200</td>\n      <td>Город</td>\n      <td>Москва</td>\n      <td>Москва</td>\n      <td>8611aa017ffffff</td>\n      <td>55.941586</td>\n      <td>37.157487</td>\n      <td>0.00048</td>\n      <td>0.00054</td>\n      <td>...</td>\n      <td>0.10192</td>\n      <td>0.00000</td>\n      <td>0.00049</td>\n      <td>NaN</td>\n      <td>NaN</td>\n      <td>NaN</td>\n      <td>NaN</td>\n      <td>NaN</td>\n      <td>0.01495</td>\n      <td>0.0</td>\n    </tr>\n    <tr>\n      <th>4</th>\n      <td>1</td>\n      <td>1588291200</td>\n      <td>Город</td>\n      <td>Москва</td>\n      <td>Москва</td>\n      <td>8611aa637ffffff</td>\n      <td>55.797494</td>\n      <td>37.676200</td>\n      <td>0.00164</td>\n      <td>0.00179</td>\n      <td>...</td>\n      <td>0.09620</td>\n      <td>0.00000</td>\n      <td>0.00000</td>\n      <td>0.14444</td>\n      <td>0.64444</td>\n      <td>0.01111</td>\n      <td>0.04444</td>\n      <td>0.01111</td>\n      <td>0.01266</td>\n      <td>0.0</td>\n    </tr>\n    <tr>\n      <th>...</th>\n      <td>...</td>\n      <td>...</td>\n      <td>...</td>\n      <td>...</td>\n      <td>...</td>\n      <td>...</td>\n      <td>...</td>\n      <td>...</td>\n      <td>...</td>\n      <td>...</td>\n      <td>...</td>\n      <td>...</td>\n      <td>...</td>\n      <td>...</td>\n      <td>...</td>\n      <td>...</td>\n      <td>...</td>\n      <td>...</td>\n      <td>...</td>\n      <td>...</td>\n      <td>...</td>\n    </tr>\n    <tr>\n      <th>294253</th>\n      <td>0</td>\n      <td>1606780800</td>\n      <td>Край</td>\n      <td>Хабаровский</td>\n      <td>Рощино</td>\n      <td>8614d6497ffffff</td>\n      <td>48.364768</td>\n      <td>134.996232</td>\n      <td>0.00111</td>\n      <td>0.00100</td>\n      <td>...</td>\n      <td>0.41667</td>\n      <td>0.26667</td>\n      <td>0.00000</td>\n      <td>0.33929</td>\n      <td>0.78571</td>\n      <td>0.00000</td>\n      <td>0.01786</td>\n      <td>0.03571</td>\n      <td>0.01667</td>\n      <td>0.0</td>\n    </tr>\n    <tr>\n      <th>294254</th>\n      <td>0</td>\n      <td>1606780800</td>\n      <td>Край</td>\n      <td>Приморский</td>\n      <td>Шкотово</td>\n      <td>86316c8cfffffff</td>\n      <td>43.309803</td>\n      <td>132.345989</td>\n      <td>0.00075</td>\n      <td>0.00065</td>\n      <td>...</td>\n      <td>0.42424</td>\n      <td>0.08333</td>\n      <td>0.00000</td>\n      <td>0.09449</td>\n      <td>0.80315</td>\n      <td>0.00787</td>\n      <td>0.00000</td>\n      <td>0.05512</td>\n      <td>0.02273</td>\n      <td>0.0</td>\n    </tr>\n    <tr>\n      <th>294255</th>\n      <td>0</td>\n      <td>1606780800</td>\n      <td>Край</td>\n      <td>Приморский</td>\n      <td>Партизанск</td>\n      <td>862ecdb2fffffff</td>\n      <td>43.057826</td>\n      <td>133.155582</td>\n      <td>0.00018</td>\n      <td>0.00014</td>\n      <td>...</td>\n      <td>0.20000</td>\n      <td>0.08333</td>\n      <td>0.00000</td>\n      <td>0.07547</td>\n      <td>0.81132</td>\n      <td>0.00000</td>\n      <td>0.00000</td>\n      <td>0.01887</td>\n      <td>0.00000</td>\n      <td>0.0</td>\n    </tr>\n    <tr>\n      <th>294256</th>\n      <td>0</td>\n      <td>1606780800</td>\n      <td>Край</td>\n      <td>Камчатский</td>\n      <td>Вилючинск</td>\n      <td>861616747ffffff</td>\n      <td>52.908685</td>\n      <td>158.406443</td>\n      <td>0.00075</td>\n      <td>0.00138</td>\n      <td>...</td>\n      <td>0.31990</td>\n      <td>0.08768</td>\n      <td>0.00000</td>\n      <td>NaN</td>\n      <td>NaN</td>\n      <td>NaN</td>\n      <td>NaN</td>\n      <td>NaN</td>\n      <td>0.06398</td>\n      <td>0.0</td>\n    </tr>\n    <tr>\n      <th>294257</th>\n      <td>0</td>\n      <td>1606780800</td>\n      <td>Край</td>\n      <td>Хабаровский</td>\n      <td>Хабаровск</td>\n      <td>862eda4dfffffff</td>\n      <td>48.379865</td>\n      <td>135.164808</td>\n      <td>0.00000</td>\n      <td>0.00003</td>\n      <td>...</td>\n      <td>0.21271</td>\n      <td>0.23481</td>\n      <td>0.00000</td>\n      <td>0.11508</td>\n      <td>0.73016</td>\n      <td>0.01190</td>\n      <td>0.00397</td>\n      <td>0.02381</td>\n      <td>0.03867</td>\n      <td>0.0</td>\n    </tr>\n  </tbody>\n</table>\n<p>294258 rows × 38 columns</p>\n</div>"
     },
     "execution_count": 4,
     "metadata": {},
     "output_type": "execute_result"
    }
   ],
   "source": [
    "df_train['period'] = (pd.to_datetime(df_train['period']) - pd.Timestamp('1970-01-01')) // pd.Timedelta('1s')\n",
    "df_test['period'] = (pd.to_datetime(df_test['period']) - pd.Timestamp('1970-01-01')) // pd.Timedelta('1s')\n",
    "\n",
    "df_train"
   ],
   "metadata": {
    "collapsed": false,
    "pycharm": {
     "name": "#%%\n"
    }
   }
  },
  {
   "cell_type": "markdown",
   "source": [
    "#### Аналог модели Саши без допданных"
   ],
   "metadata": {
    "collapsed": false,
    "pycharm": {
     "name": "#%% md\n"
    }
   }
  },
  {
   "cell_type": "code",
   "execution_count": 5,
   "outputs": [
    {
     "data": {
      "text/plain": "(0.00968840010473946,\n [0.010473946059177796,\n  0.01073579471065724,\n  0.00968840010473946,\n  0.007331762241424456,\n  0.01021209740769835])"
     },
     "execution_count": 5,
     "metadata": {},
     "output_type": "execute_result"
    }
   ],
   "source": [
    "N = 5\n",
    "top5p = int(df_test.shape[0] * 0.05)\n",
    "random_res = []\n",
    "\n",
    "for i in range(N):\n",
    "    preds = df_test.label.sample(df_test.shape[0]).reset_index(drop=True)\n",
    "    df_test['pred'] = preds\n",
    "    random_res.append(df_test.sort_values('pred', ascending=False).iloc[:top5p].label.sum()/top5p)\n",
    "\n",
    "np.mean(random_res), random_res"
   ],
   "metadata": {
    "collapsed": false,
    "pycharm": {
     "name": "#%%\n"
    }
   }
  },
  {
   "cell_type": "code",
   "execution_count": 6,
   "outputs": [],
   "source": [
    "cat_features = df_train.select_dtypes(include=['object', 'category']).columns.tolist()\n",
    "df_train[cat_features] = df_train[cat_features].fillna('Unknown')\n"
   ],
   "metadata": {
    "collapsed": false,
    "pycharm": {
     "name": "#%%\n"
    }
   }
  },
  {
   "cell_type": "code",
   "execution_count": 7,
   "outputs": [
    {
     "name": "stdout",
     "output_type": "stream",
     "text": [
      "<class 'pandas.core.frame.DataFrame'>\n",
      "RangeIndex: 294258 entries, 0 to 294257\n",
      "Data columns (total 38 columns):\n",
      " #   Column        Non-Null Count   Dtype  \n",
      "---  ------        --------------   -----  \n",
      " 0   label         294258 non-null  int64  \n",
      " 1   period        294258 non-null  int64  \n",
      " 2   subject_type  294258 non-null  object \n",
      " 3   subject_name  294258 non-null  object \n",
      " 4   city_name     294258 non-null  object \n",
      " 5   hex           294258 non-null  object \n",
      " 6   hex_lat       294258 non-null  float64\n",
      " 7   hex_lon       294258 non-null  float64\n",
      " 8   f1            258144 non-null  float64\n",
      " 9   f2            262930 non-null  float64\n",
      " 10  f3            265786 non-null  float64\n",
      " 11  f4            279564 non-null  float64\n",
      " 12  f5            279564 non-null  float64\n",
      " 13  f6            281984 non-null  float64\n",
      " 14  f7            148829 non-null  float64\n",
      " 15  f8            280209 non-null  float64\n",
      " 16  f9            280209 non-null  float64\n",
      " 17  f10           294258 non-null  float64\n",
      " 18  f11           294258 non-null  float64\n",
      " 19  f12           294258 non-null  float64\n",
      " 20  f13           166853 non-null  float64\n",
      " 21  f14           286618 non-null  float64\n",
      " 22  f15           277160 non-null  float64\n",
      " 23  f16           153723 non-null  float64\n",
      " 24  f17           148829 non-null  float64\n",
      " 25  f18           294124 non-null  float64\n",
      " 26  f19           286899 non-null  float64\n",
      " 27  f20           286899 non-null  float64\n",
      " 28  f21           286899 non-null  float64\n",
      " 29  f22           286899 non-null  float64\n",
      " 30  f23           286899 non-null  float64\n",
      " 31  f24           167474 non-null  float64\n",
      " 32  f25           167474 non-null  float64\n",
      " 33  f26           167474 non-null  float64\n",
      " 34  f27           167474 non-null  float64\n",
      " 35  f28           167474 non-null  float64\n",
      " 36  f29           286899 non-null  float64\n",
      " 37  f30           286899 non-null  float64\n",
      "dtypes: float64(32), int64(2), object(4)\n",
      "memory usage: 85.3+ MB\n"
     ]
    }
   ],
   "source": [
    "df_train.info()"
   ],
   "metadata": {
    "collapsed": false,
    "pycharm": {
     "name": "#%%\n"
    }
   }
  },
  {
   "cell_type": "code",
   "execution_count": 8,
   "outputs": [
    {
     "name": "stderr",
     "output_type": "stream",
     "text": [
      "/var/folders/ty/77p5n8px0p3cs74k93m4jjxxbrwyrp/T/ipykernel_33877/2834844480.py:1: FutureWarning: In a future version of pandas all arguments of DataFrame.drop except for the argument 'labels' will be keyword-only.\n",
      "  X_train, X_test, y_train, y_test = train_test_split(df_train.drop('label',1), df_train['label'], test_size=0.3, random_state=42)\n"
     ]
    }
   ],
   "source": [
    "X_train, X_test, y_train, y_test = train_test_split(df_train.drop('label',1), df_train['label'], test_size=0.3, random_state=42)\n"
   ],
   "metadata": {
    "collapsed": false,
    "pycharm": {
     "name": "#%%\n"
    }
   }
  },
  {
   "cell_type": "code",
   "execution_count": 9,
   "outputs": [
    {
     "name": "stderr",
     "output_type": "stream",
     "text": [
      "/var/folders/ty/77p5n8px0p3cs74k93m4jjxxbrwyrp/T/ipykernel_33877/3075368495.py:2: FutureWarning: In a future version of pandas all arguments of DataFrame.drop except for the argument 'labels' will be keyword-only.\n",
      "  model.fit(df_train.drop('label',1), df_train['label'])\n"
     ]
    },
    {
     "name": "stdout",
     "output_type": "stream",
     "text": [
      "Learning rate set to 0.116703\n",
      "0:\tlearn: 0.5048202\ttotal: 181ms\tremaining: 3m\n",
      "200:\tlearn: 0.0867089\ttotal: 20.4s\tremaining: 1m 20s\n",
      "400:\tlearn: 0.0827169\ttotal: 36.8s\tremaining: 54.9s\n",
      "600:\tlearn: 0.0796330\ttotal: 53.6s\tremaining: 35.6s\n",
      "800:\tlearn: 0.0766326\ttotal: 1m 10s\tremaining: 17.4s\n",
      "999:\tlearn: 0.0738079\ttotal: 1m 26s\tremaining: 0us\n"
     ]
    },
    {
     "data": {
      "text/plain": "<catboost.core.CatBoostClassifier at 0x13feb5340>"
     },
     "execution_count": 9,
     "metadata": {},
     "output_type": "execute_result"
    }
   ],
   "source": [
    "model = CatBoostClassifier(cat_features=cat_features, verbose=200)\n",
    "model.fit(df_train.drop('label',1), df_train['label'])\n"
   ],
   "metadata": {
    "collapsed": false,
    "pycharm": {
     "name": "#%%\n"
    }
   }
  },
  {
   "cell_type": "code",
   "execution_count": 10,
   "outputs": [],
   "source": [
    "y_predict = model.predict(X_test)"
   ],
   "metadata": {
    "collapsed": false,
    "pycharm": {
     "name": "#%%\n"
    }
   }
  },
  {
   "cell_type": "code",
   "execution_count": 11,
   "outputs": [
    {
     "data": {
      "text/plain": "array([0, 0, 0, ..., 0, 0, 0])"
     },
     "execution_count": 11,
     "metadata": {},
     "output_type": "execute_result"
    }
   ],
   "source": [
    "y_predict"
   ],
   "metadata": {
    "collapsed": false,
    "pycharm": {
     "name": "#%%\n"
    }
   }
  },
  {
   "cell_type": "code",
   "execution_count": 12,
   "outputs": [],
   "source": [
    "from sklearn.metrics import precision_recall_curve, roc_curve, roc_auc_score, confusion_matrix\n",
    "\n",
    "def evaluate_results(y_test, y_predict):\n",
    "    \"\"\" Проверка качества модели с помощью DS-метрик\"\"\"\n",
    "    from sklearn.metrics import recall_score, precision_score, f1_score, roc_auc_score\n",
    "\n",
    "    f1 = f1_score(y_test, y_predict)\n",
    "    roc = roc_auc_score(y_test, y_predict)\n",
    "    precision = precision_score(y_test, y_predict, average='binary')\n",
    "    recall = recall_score(y_test, y_predict, average='binary')\n",
    "\n",
    "    return f1, round(roc,2), precision, recall"
   ],
   "metadata": {
    "collapsed": false,
    "pycharm": {
     "name": "#%%\n"
    }
   }
  },
  {
   "cell_type": "code",
   "execution_count": 13,
   "outputs": [
    {
     "data": {
      "text/plain": "(0.24611610793131644, 0.57, 0.9741100323624595, 0.14085166120729994)"
     },
     "execution_count": 13,
     "metadata": {},
     "output_type": "execute_result"
    }
   ],
   "source": [
    "evaluate_results(y_test, y_predict)"
   ],
   "metadata": {
    "collapsed": false,
    "pycharm": {
     "name": "#%%\n"
    }
   }
  },
  {
   "cell_type": "code",
   "execution_count": 14,
   "outputs": [],
   "source": [
    "val_df = pd.read_csv('./data/test.csv', delimiter=';')\n",
    "val_df['period'] = (pd.to_datetime(val_df['period']) - pd.Timestamp('1970-01-01')) // pd.Timedelta('1s')\n",
    "val_df[cat_features] = val_df[cat_features].fillna('Unknown')\n",
    "\n",
    "preds = model.predict_proba(val_df.drop('label', axis=1))[:,1]\n",
    "val_df['pred'] = preds"
   ],
   "metadata": {
    "collapsed": false,
    "pycharm": {
     "name": "#%%\n"
    }
   }
  },
  {
   "cell_type": "code",
   "execution_count": 15,
   "outputs": [
    {
     "data": {
      "text/plain": "0.096229379418696"
     },
     "execution_count": 15,
     "metadata": {},
     "output_type": "execute_result"
    }
   ],
   "source": [
    "top5p = int(val_df.shape[0] * 0.05)\n",
    "res_response = val_df.sort_values('pred', ascending=False).iloc[:top5p].label.sum()/top5p\n",
    "res_response"
   ],
   "metadata": {
    "collapsed": false,
    "pycharm": {
     "name": "#%%\n"
    }
   }
  },
  {
   "cell_type": "code",
   "execution_count": 16,
   "outputs": [
    {
     "data": {
      "text/plain": "0.06964379050964528"
     },
     "execution_count": 16,
     "metadata": {},
     "output_type": "execute_result"
    }
   ],
   "source": [
    "average_precision_score(val_df['label'], preds)"
   ],
   "metadata": {
    "collapsed": false,
    "pycharm": {
     "name": "#%%\n"
    }
   }
  },
  {
   "cell_type": "code",
   "execution_count": 16,
   "outputs": [],
   "source": [],
   "metadata": {
    "collapsed": false,
    "pycharm": {
     "name": "#%%\n"
    }
   }
  },
  {
   "cell_type": "markdown",
   "source": [
    "### Uplift"
   ],
   "metadata": {
    "collapsed": false,
    "pycharm": {
     "name": "#%% md\n"
    }
   }
  },
  {
   "cell_type": "code",
   "execution_count": 16,
   "outputs": [],
   "source": [],
   "metadata": {
    "collapsed": false,
    "pycharm": {
     "name": "#%%\n"
    }
   }
  },
  {
   "cell_type": "code",
   "execution_count": 17,
   "outputs": [],
   "source": [
    "from sklearn.utils.validation import check_consistent_length\n",
    "def plot_uplift_preds_(trmnt_preds, ctrl_preds, log=False, bins=100):\n",
    "    \"\"\"Plot histograms of treatment, control and uplift predictions.\n",
    "\n",
    "    Args:\n",
    "        trmnt_preds (1d array-like): Predictions for all observations if they are treatment.\n",
    "        ctrl_preds (1d array-like): Predictions for all observations if they are control.\n",
    "        log (bool): Logarithm of source samples. Default is False.\n",
    "        bins (integer or sequence): Number of histogram bins to be used. Default is 100.\n",
    "            If an integer is given, bins + 1 bin edges are calculated and returned.\n",
    "            If bins is a sequence, gives bin edges, including left edge of first bin and right edge of last bin.\n",
    "            In this case, bins is returned unmodified. Default is 100.\n",
    "\n",
    "    Returns:\n",
    "        Object that stores computed values.\n",
    "    \"\"\"\n",
    "\n",
    "    # TODO: Add k as parameter: vertical line on plots\n",
    "    check_consistent_length(trmnt_preds, ctrl_preds)\n",
    "\n",
    "    if not isinstance(bins, int) or bins <= 0:\n",
    "        raise ValueError(\n",
    "            f'Bins should be positive integer. Invalid value for bins: {bins}')\n",
    "\n",
    "    if log:\n",
    "        trmnt_preds = np.log(trmnt_preds + 1)\n",
    "        ctrl_preds = np.log(ctrl_preds + 1)\n",
    "\n",
    "    fig, axes = plt.subplots(ncols=3, nrows=1, figsize=(20, 7))\n",
    "    axes[0].hist(\n",
    "        trmnt_preds, bins=bins, alpha=0.3, color='b', label='Treated', histtype='stepfilled')\n",
    "    axes[0].set_ylabel('Probability hist')\n",
    "    axes[0].legend()\n",
    "    axes[0].set_title('Treatment predictions')\n",
    "\n",
    "    axes[1].hist(\n",
    "        ctrl_preds, bins=bins, alpha=0.5, color='y', label='Not treated', histtype='stepfilled')\n",
    "    axes[1].legend()\n",
    "    axes[1].set_title('Control predictions')\n",
    "\n",
    "    axes[2].hist(\n",
    "        trmnt_preds - ctrl_preds, bins=bins, alpha=0.5, color='green', label='Uplift', histtype='stepfilled')\n",
    "    axes[2].legend()\n",
    "    axes[2].set_title('Uplift predictions')\n",
    "\n",
    "    return axes"
   ],
   "metadata": {
    "collapsed": false,
    "pycharm": {
     "name": "#%%\n"
    }
   }
  },
  {
   "cell_type": "code",
   "execution_count": 18,
   "outputs": [],
   "source": [
    "train_one = pd.read_csv('./data/train.csv', delimiter=';')\n",
    "test = pd.read_csv('./data/test.csv', delimiter=';')"
   ],
   "metadata": {
    "collapsed": false,
    "pycharm": {
     "name": "#%%\n"
    }
   }
  },
  {
   "cell_type": "code",
   "execution_count": 19,
   "outputs": [],
   "source": [
    "train_zero = train_one.copy()\n",
    "train_one['treatment'] = 1\n",
    "train_zero['treatment'] = 0"
   ],
   "metadata": {
    "collapsed": false,
    "pycharm": {
     "name": "#%%\n"
    }
   }
  },
  {
   "cell_type": "code",
   "execution_count": 21,
   "outputs": [
    {
     "data": {
      "text/plain": "        label      period subject_type  subject_name  \\\n0           0  1604188800   Республика       Хакасия   \n1           0  1596240000   Республика      Мордовия   \n2           1  1606780800         Край    Камчатский   \n3           0  1604188800      Область     Иркутская   \n4           0  1596240000      Область  Оренбургская   \n...       ...         ...          ...           ...   \n299995      0  1606780800         Край    Приморский   \n299996      0  1596240000   Республика    Удмуртская   \n299997      0  1590969600      Область    Московская   \n299998      0  1590969600      Область      Брянская   \n299999      0  1596240000      Область     Кировская   \n\n                       city_name              hex    hex_lat     hex_lon  \\\n0                         Абакан  8625260efffffff  53.728903   91.390959   \n1                        Саранск  8610a0727ffffff  54.203445   45.134350   \n2       Петропавловск-Камчатский  861616237ffffff  53.078910  158.684128   \n3                         Братск  860a91cd7ffffff  56.173292  101.615950   \n4                       Саракташ  862120d97ffffff  51.780432   56.323167   \n...                          ...              ...        ...         ...   \n299995               Владивосток  86316c087ffffff  43.098244  131.960035   \n299996                  Камбарка  8610f286fffffff  56.298126   54.221195   \n299997                     Химки  8611aa727ffffff  55.869897   37.417020   \n299998                    Клинцы  8611b421fffffff  52.779633   32.202767   \n299999                     Киров  8610181a7ffffff  58.602704   49.593051   \n\n             f1       f2  ...      f22      f23      f24      f25      f26  \\\n0       0.00078  0.00077  ...  0.00388  0.00000      NaN      NaN      NaN   \n1       0.00015  0.00025  ...  0.05492  0.00000      NaN      NaN      NaN   \n2       0.00018  0.00034  ...  0.09138  0.00000      NaN      NaN      NaN   \n3       0.00087  0.00077  ...  0.00331  0.00066  0.02063  0.60046  0.00306   \n4       0.00033  0.00036  ...  0.05677  0.00000  0.12097  0.89516  0.00000   \n...         ...      ...  ...      ...      ...      ...      ...      ...   \n299995  0.00029  0.00126  ...  0.13818  0.00000  0.11558  0.72362  0.00502   \n299996  0.00006  0.00006  ...  0.05251  0.00000      NaN      NaN      NaN   \n299997  0.00104  0.00149  ...  0.00000  0.00000  0.00000  0.00000  0.00000   \n299998  0.00018  0.00015  ...  0.00000  0.00000  0.00000  0.00000  0.00000   \n299999  0.00029  0.00036  ...  0.11864  0.00000  0.25731  0.69591  0.00000   \n\n            f27      f28      f29     f30  treatment  \n0           NaN      NaN  0.01357  0.0000          1  \n1           NaN      NaN  0.01398  0.0000          1  \n2           NaN      NaN  0.05918  0.0008          0  \n3       0.00993  0.88694  0.00927  0.0000          1  \n4       0.02419  0.04032  0.01747  0.0000          1  \n...         ...      ...      ...     ...        ...  \n299995  0.01005  0.02513  0.02546  0.0000          1  \n299996      NaN      NaN  0.00228  0.0000          1  \n299997  0.00000  0.00000  0.00000  0.0000          0  \n299998  0.00000  0.00000  0.01339  0.0000          1  \n299999  0.01170  0.04094  0.01271  0.0000          0  \n\n[300000 rows x 39 columns]",
      "text/html": "<div>\n<style scoped>\n    .dataframe tbody tr th:only-of-type {\n        vertical-align: middle;\n    }\n\n    .dataframe tbody tr th {\n        vertical-align: top;\n    }\n\n    .dataframe thead th {\n        text-align: right;\n    }\n</style>\n<table border=\"1\" class=\"dataframe\">\n  <thead>\n    <tr style=\"text-align: right;\">\n      <th></th>\n      <th>label</th>\n      <th>period</th>\n      <th>subject_type</th>\n      <th>subject_name</th>\n      <th>city_name</th>\n      <th>hex</th>\n      <th>hex_lat</th>\n      <th>hex_lon</th>\n      <th>f1</th>\n      <th>f2</th>\n      <th>...</th>\n      <th>f22</th>\n      <th>f23</th>\n      <th>f24</th>\n      <th>f25</th>\n      <th>f26</th>\n      <th>f27</th>\n      <th>f28</th>\n      <th>f29</th>\n      <th>f30</th>\n      <th>treatment</th>\n    </tr>\n  </thead>\n  <tbody>\n    <tr>\n      <th>0</th>\n      <td>0</td>\n      <td>1604188800</td>\n      <td>Республика</td>\n      <td>Хакасия</td>\n      <td>Абакан</td>\n      <td>8625260efffffff</td>\n      <td>53.728903</td>\n      <td>91.390959</td>\n      <td>0.00078</td>\n      <td>0.00077</td>\n      <td>...</td>\n      <td>0.00388</td>\n      <td>0.00000</td>\n      <td>NaN</td>\n      <td>NaN</td>\n      <td>NaN</td>\n      <td>NaN</td>\n      <td>NaN</td>\n      <td>0.01357</td>\n      <td>0.0000</td>\n      <td>1</td>\n    </tr>\n    <tr>\n      <th>1</th>\n      <td>0</td>\n      <td>1596240000</td>\n      <td>Республика</td>\n      <td>Мордовия</td>\n      <td>Саранск</td>\n      <td>8610a0727ffffff</td>\n      <td>54.203445</td>\n      <td>45.134350</td>\n      <td>0.00015</td>\n      <td>0.00025</td>\n      <td>...</td>\n      <td>0.05492</td>\n      <td>0.00000</td>\n      <td>NaN</td>\n      <td>NaN</td>\n      <td>NaN</td>\n      <td>NaN</td>\n      <td>NaN</td>\n      <td>0.01398</td>\n      <td>0.0000</td>\n      <td>1</td>\n    </tr>\n    <tr>\n      <th>2</th>\n      <td>1</td>\n      <td>1606780800</td>\n      <td>Край</td>\n      <td>Камчатский</td>\n      <td>Петропавловск-Камчатский</td>\n      <td>861616237ffffff</td>\n      <td>53.078910</td>\n      <td>158.684128</td>\n      <td>0.00018</td>\n      <td>0.00034</td>\n      <td>...</td>\n      <td>0.09138</td>\n      <td>0.00000</td>\n      <td>NaN</td>\n      <td>NaN</td>\n      <td>NaN</td>\n      <td>NaN</td>\n      <td>NaN</td>\n      <td>0.05918</td>\n      <td>0.0008</td>\n      <td>0</td>\n    </tr>\n    <tr>\n      <th>3</th>\n      <td>0</td>\n      <td>1604188800</td>\n      <td>Область</td>\n      <td>Иркутская</td>\n      <td>Братск</td>\n      <td>860a91cd7ffffff</td>\n      <td>56.173292</td>\n      <td>101.615950</td>\n      <td>0.00087</td>\n      <td>0.00077</td>\n      <td>...</td>\n      <td>0.00331</td>\n      <td>0.00066</td>\n      <td>0.02063</td>\n      <td>0.60046</td>\n      <td>0.00306</td>\n      <td>0.00993</td>\n      <td>0.88694</td>\n      <td>0.00927</td>\n      <td>0.0000</td>\n      <td>1</td>\n    </tr>\n    <tr>\n      <th>4</th>\n      <td>0</td>\n      <td>1596240000</td>\n      <td>Область</td>\n      <td>Оренбургская</td>\n      <td>Саракташ</td>\n      <td>862120d97ffffff</td>\n      <td>51.780432</td>\n      <td>56.323167</td>\n      <td>0.00033</td>\n      <td>0.00036</td>\n      <td>...</td>\n      <td>0.05677</td>\n      <td>0.00000</td>\n      <td>0.12097</td>\n      <td>0.89516</td>\n      <td>0.00000</td>\n      <td>0.02419</td>\n      <td>0.04032</td>\n      <td>0.01747</td>\n      <td>0.0000</td>\n      <td>1</td>\n    </tr>\n    <tr>\n      <th>...</th>\n      <td>...</td>\n      <td>...</td>\n      <td>...</td>\n      <td>...</td>\n      <td>...</td>\n      <td>...</td>\n      <td>...</td>\n      <td>...</td>\n      <td>...</td>\n      <td>...</td>\n      <td>...</td>\n      <td>...</td>\n      <td>...</td>\n      <td>...</td>\n      <td>...</td>\n      <td>...</td>\n      <td>...</td>\n      <td>...</td>\n      <td>...</td>\n      <td>...</td>\n      <td>...</td>\n    </tr>\n    <tr>\n      <th>299995</th>\n      <td>0</td>\n      <td>1606780800</td>\n      <td>Край</td>\n      <td>Приморский</td>\n      <td>Владивосток</td>\n      <td>86316c087ffffff</td>\n      <td>43.098244</td>\n      <td>131.960035</td>\n      <td>0.00029</td>\n      <td>0.00126</td>\n      <td>...</td>\n      <td>0.13818</td>\n      <td>0.00000</td>\n      <td>0.11558</td>\n      <td>0.72362</td>\n      <td>0.00502</td>\n      <td>0.01005</td>\n      <td>0.02513</td>\n      <td>0.02546</td>\n      <td>0.0000</td>\n      <td>1</td>\n    </tr>\n    <tr>\n      <th>299996</th>\n      <td>0</td>\n      <td>1596240000</td>\n      <td>Республика</td>\n      <td>Удмуртская</td>\n      <td>Камбарка</td>\n      <td>8610f286fffffff</td>\n      <td>56.298126</td>\n      <td>54.221195</td>\n      <td>0.00006</td>\n      <td>0.00006</td>\n      <td>...</td>\n      <td>0.05251</td>\n      <td>0.00000</td>\n      <td>NaN</td>\n      <td>NaN</td>\n      <td>NaN</td>\n      <td>NaN</td>\n      <td>NaN</td>\n      <td>0.00228</td>\n      <td>0.0000</td>\n      <td>1</td>\n    </tr>\n    <tr>\n      <th>299997</th>\n      <td>0</td>\n      <td>1590969600</td>\n      <td>Область</td>\n      <td>Московская</td>\n      <td>Химки</td>\n      <td>8611aa727ffffff</td>\n      <td>55.869897</td>\n      <td>37.417020</td>\n      <td>0.00104</td>\n      <td>0.00149</td>\n      <td>...</td>\n      <td>0.00000</td>\n      <td>0.00000</td>\n      <td>0.00000</td>\n      <td>0.00000</td>\n      <td>0.00000</td>\n      <td>0.00000</td>\n      <td>0.00000</td>\n      <td>0.00000</td>\n      <td>0.0000</td>\n      <td>0</td>\n    </tr>\n    <tr>\n      <th>299998</th>\n      <td>0</td>\n      <td>1590969600</td>\n      <td>Область</td>\n      <td>Брянская</td>\n      <td>Клинцы</td>\n      <td>8611b421fffffff</td>\n      <td>52.779633</td>\n      <td>32.202767</td>\n      <td>0.00018</td>\n      <td>0.00015</td>\n      <td>...</td>\n      <td>0.00000</td>\n      <td>0.00000</td>\n      <td>0.00000</td>\n      <td>0.00000</td>\n      <td>0.00000</td>\n      <td>0.00000</td>\n      <td>0.00000</td>\n      <td>0.01339</td>\n      <td>0.0000</td>\n      <td>1</td>\n    </tr>\n    <tr>\n      <th>299999</th>\n      <td>0</td>\n      <td>1596240000</td>\n      <td>Область</td>\n      <td>Кировская</td>\n      <td>Киров</td>\n      <td>8610181a7ffffff</td>\n      <td>58.602704</td>\n      <td>49.593051</td>\n      <td>0.00029</td>\n      <td>0.00036</td>\n      <td>...</td>\n      <td>0.11864</td>\n      <td>0.00000</td>\n      <td>0.25731</td>\n      <td>0.69591</td>\n      <td>0.00000</td>\n      <td>0.01170</td>\n      <td>0.04094</td>\n      <td>0.01271</td>\n      <td>0.0000</td>\n      <td>0</td>\n    </tr>\n  </tbody>\n</table>\n<p>300000 rows × 39 columns</p>\n</div>"
     },
     "execution_count": 21,
     "metadata": {},
     "output_type": "execute_result"
    }
   ],
   "source": [
    "train_all = pd.concat([train_zero, train_one], axis=0).sample(300000)\n",
    "train_all = train_all.sample(frac=1).reset_index(drop=True)\n",
    "\n",
    "train_all['period'] = (pd.to_datetime(train_all['period']) - pd.Timestamp('1970-01-01')) // pd.Timedelta('1s')\n",
    "train_all[cat_features] = train_all[cat_features].fillna('Unknown')\n",
    "\n",
    "# train_all = train_all.drop('Unnamed: 0',1)\n",
    "train_all"
   ],
   "metadata": {
    "collapsed": false,
    "pycharm": {
     "name": "#%%\n"
    }
   }
  },
  {
   "cell_type": "code",
   "execution_count": 22,
   "outputs": [],
   "source": [
    "indices = train_all.index\n",
    "indices_train, indices_test = train_test_split(train_all.index, test_size = 0.3, random_state = 42)"
   ],
   "metadata": {
    "collapsed": false,
    "pycharm": {
     "name": "#%%\n"
    }
   }
  },
  {
   "cell_type": "code",
   "execution_count": 23,
   "outputs": [],
   "source": [
    "X_train = train_all.loc[indices_train, :].drop(columns = ['label','treatment'])\n",
    "y_train = train_all.loc[indices_train, 'label']\n",
    "treat_train = train_all.loc[indices_train, 'treatment']\n",
    "\n",
    "X_test = train_all.loc[indices_test, :].drop(columns = ['label','treatment'])\n",
    "y_test = train_all.loc[indices_test, 'label']\n",
    "treat_test =  train_all.loc[indices_test, 'treatment']"
   ],
   "metadata": {
    "collapsed": false,
    "pycharm": {
     "name": "#%%\n"
    }
   }
  },
  {
   "cell_type": "code",
   "execution_count": 24,
   "outputs": [],
   "source": [
    "models_results = {'approach' : [],\n",
    "                  'uplift@05%': []}"
   ],
   "metadata": {
    "collapsed": false,
    "pycharm": {
     "name": "#%%\n"
    }
   }
  },
  {
   "cell_type": "markdown",
   "source": [
    "##### SoloMdl"
   ],
   "metadata": {
    "collapsed": false,
    "pycharm": {
     "name": "#%% md\n"
    }
   }
  },
  {
   "cell_type": "code",
   "execution_count": 25,
   "outputs": [],
   "source": [
    "from sklift.models import SoloModel"
   ],
   "metadata": {
    "collapsed": false,
    "pycharm": {
     "name": "#%%\n"
    }
   }
  },
  {
   "cell_type": "code",
   "execution_count": null,
   "outputs": [],
   "source": [
    "sm = SoloModel(CatBoostClassifier(iterations=500, thread_count=2, random_state=42, silent=True))\n",
    "sm = sm.fit(X_train, y_train, treat_train, estimator_fit_params={'cat_features': cat_features})\n",
    "uplift_sm = sm.predict(X_test)\n",
    "sm_score_1 = uplift_at_k(y_true=y_test, uplift=uplift_sm, treatment=treat_test, strategy='by_group', k=0.05)\n",
    "\n",
    "# и добавим значения в наш словарь\n",
    "models_results['approach'].append('SoloModel')\n",
    "models_results['uplift@05%'].append(sm_score_1)\n",
    "\n",
    "plot_uplift_preds_(trmnt_preds=sm.trmnt_preds_, ctrl_preds=sm.ctrl_preds_)"
   ],
   "metadata": {
    "collapsed": false,
    "pycharm": {
     "name": "#%%\n",
     "is_executing": true
    }
   }
  },
  {
   "cell_type": "code",
   "execution_count": null,
   "outputs": [],
   "source": [],
   "metadata": {
    "collapsed": false,
    "pycharm": {
     "name": "#%%\n",
     "is_executing": true
    }
   }
  },
  {
   "cell_type": "code",
   "execution_count": null,
   "outputs": [],
   "source": [],
   "metadata": {
    "collapsed": false,
    "pycharm": {
     "name": "#%%\n",
     "is_executing": true
    }
   }
  },
  {
   "cell_type": "code",
   "execution_count": null,
   "outputs": [],
   "source": [],
   "metadata": {
    "collapsed": false,
    "pycharm": {
     "name": "#%%\n",
     "is_executing": true
    }
   }
  },
  {
   "cell_type": "markdown",
   "source": [
    "##### TwoMdl"
   ],
   "metadata": {
    "collapsed": false,
    "pycharm": {
     "name": "#%% md\n"
    }
   }
  },
  {
   "cell_type": "code",
   "execution_count": null,
   "outputs": [],
   "source": [
    "from sklift.models import TwoModels"
   ],
   "metadata": {
    "collapsed": false,
    "pycharm": {
     "name": "#%%\n",
     "is_executing": true
    }
   }
  },
  {
   "cell_type": "code",
   "execution_count": null,
   "outputs": [],
   "source": [
    "tm = TwoModels(\n",
    "    estimator_trmnt=CatBoostClassifier(iterations=10, thread_count=2, random_state=42, silent=True),\n",
    "    estimator_ctrl=CatBoostClassifier(iterations=10, thread_count=2, random_state=42, silent=True),\n",
    "    method='vanilla'\n",
    ")"
   ],
   "metadata": {
    "collapsed": false,
    "pycharm": {
     "name": "#%%\n",
     "is_executing": true
    }
   }
  },
  {
   "cell_type": "code",
   "execution_count": null,
   "outputs": [],
   "source": [
    "tm = tm.fit(\n",
    "    X_train, y_train, treat_train,\n",
    "    estimator_trmnt_fit_params={'cat_features': cat_features},\n",
    "    estimator_ctrl_fit_params={'cat_features': cat_features}\n",
    ")"
   ],
   "metadata": {
    "collapsed": false,
    "pycharm": {
     "name": "#%%\n",
     "is_executing": true
    }
   }
  },
  {
   "cell_type": "code",
   "execution_count": null,
   "outputs": [],
   "source": [],
   "metadata": {
    "collapsed": false,
    "pycharm": {
     "name": "#%%\n",
     "is_executing": true
    }
   }
  },
  {
   "cell_type": "code",
   "execution_count": null,
   "outputs": [],
   "source": [
    "uplift_tm = tm.predict(X_test)\n",
    "\n",
    "tm_score_1 = uplift_at_k(y_true=y_test, uplift=uplift_tm, treatment=treat_test, strategy='by_group', k=0.05)\n",
    "\n",
    "models_results['approach'].append('TwoModels')\n",
    "models_results['uplift@05%'].append(tm_score_1)\n",
    "\n",
    "# Отобразим результаты на графике\n",
    "plot_uplift_preds_(trmnt_preds=tm.trmnt_preds_, ctrl_preds=tm.ctrl_preds_)"
   ],
   "metadata": {
    "collapsed": false,
    "pycharm": {
     "name": "#%%\n",
     "is_executing": true
    }
   }
  },
  {
   "cell_type": "code",
   "execution_count": null,
   "outputs": [],
   "source": [],
   "metadata": {
    "collapsed": false,
    "pycharm": {
     "name": "#%%\n",
     "is_executing": true
    }
   }
  },
  {
   "cell_type": "code",
   "execution_count": null,
   "outputs": [],
   "source": [],
   "metadata": {
    "collapsed": false,
    "pycharm": {
     "name": "#%%\n",
     "is_executing": true
    }
   }
  },
  {
   "cell_type": "code",
   "execution_count": null,
   "outputs": [],
   "source": [],
   "metadata": {
    "collapsed": false,
    "pycharm": {
     "name": "#%%\n",
     "is_executing": true
    }
   }
  },
  {
   "cell_type": "code",
   "execution_count": null,
   "outputs": [],
   "source": [],
   "metadata": {
    "collapsed": false,
    "pycharm": {
     "name": "#%%\n",
     "is_executing": true
    }
   }
  },
  {
   "cell_type": "code",
   "execution_count": null,
   "outputs": [],
   "source": [],
   "metadata": {
    "collapsed": false,
    "pycharm": {
     "name": "#%%\n",
     "is_executing": true
    }
   }
  },
  {
   "cell_type": "markdown",
   "source": [
    "#### Трансформация класса"
   ],
   "metadata": {
    "collapsed": false,
    "pycharm": {
     "name": "#%% md\n"
    }
   }
  },
  {
   "cell_type": "code",
   "execution_count": null,
   "outputs": [],
   "source": [
    "from sklift.models import ClassTransformation\n",
    "\n",
    "ct = ClassTransformation(CatBoostClassifier(iterations=20, thread_count=2, random_state=42, silent=True))\n",
    "ct = ct.fit(X_train, y_train, treat_train, estimator_fit_params={'cat_features': cat_features})\n",
    "\n",
    "uplift_ct = ct.predict(X_test)\n",
    "\n",
    "ct_score_1 = uplift_at_k(y_true=y_test, uplift=uplift_ct, treatment=treat_test, strategy='by_group', k=0.05)\n",
    "\n",
    "models_results['approach'].append('ClassTransform')\n",
    "models_results['uplift@05%'].append(ct_score_1)"
   ],
   "metadata": {
    "collapsed": false,
    "pycharm": {
     "name": "#%%\n",
     "is_executing": true
    }
   }
  },
  {
   "cell_type": "code",
   "execution_count": null,
   "outputs": [],
   "source": [
    "pd.DataFrame(data=models_results)"
   ],
   "metadata": {
    "collapsed": false,
    "pycharm": {
     "name": "#%%\n"
    }
   }
  },
  {
   "cell_type": "code",
   "execution_count": null,
   "outputs": [],
   "source": [],
   "metadata": {
    "collapsed": false,
    "pycharm": {
     "name": "#%%\n"
    }
   }
  }
 ],
 "metadata": {
  "kernelspec": {
   "display_name": "Python 3",
   "language": "python",
   "name": "python3"
  },
  "language_info": {
   "codemirror_mode": {
    "name": "ipython",
    "version": 2
   },
   "file_extension": ".py",
   "mimetype": "text/x-python",
   "name": "python",
   "nbconvert_exporter": "python",
   "pygments_lexer": "ipython2",
   "version": "2.7.6"
  }
 },
 "nbformat": 4,
 "nbformat_minor": 0
}